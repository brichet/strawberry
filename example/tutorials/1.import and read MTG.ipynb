{
 "cells": [
  {
   "cell_type": "markdown",
   "metadata": {},
   "source": [
    "# Import and read mtg file\n",
    "\n",
    "**note:** Requirement for this tutorial: you must have to create an MTG file and upload .mtg file in share/data (cf. tutorial XXX)"
   ]
  },
  {
   "cell_type": "markdown",
   "metadata": {},
   "source": [
    "# 0. Modules requierement"
   ]
  },
  {
   "cell_type": "markdown",
   "metadata": {},
   "source": [
    "## 0.1 import standard python modules"
   ]
  },
  {
   "cell_type": "code",
   "execution_count": 1,
   "metadata": {},
   "outputs": [],
   "source": [
    "from collections import OrderedDict , defaultdict # import OrderedDict and defaultdict function from collections module\n",
    "import pandas as pd # import pandas module and called pd\n",
    "import glob # import glob module"
   ]
  },
  {
   "cell_type": "markdown",
   "metadata": {},
   "source": [
    "## 0.2 import openalea modules"
   ]
  },
  {
   "cell_type": "code",
   "execution_count": 2,
   "metadata": {},
   "outputs": [],
   "source": [
    "from openalea.core import path # import path function from openalea.core module\n",
    "from openalea.deploy.shared_data import shared_data # import shared_data function from openalea.deploy.shares_data module\n",
    "from openalea.mtg import * # import whole functions from openalea.mtg module \n",
    "from openalea.mtg.algo import orders # import orders function from openalea.mtg.algo module\n",
    "from openalea.mtg import stat # import stat function from openalea.mtg module (why we import stat function while above we import openalea.mtg yet)\n",
    "import openalea.plantgl.all as pgl # import openalea.plantgl.all and called pgl"
   ]
  },
  {
   "cell_type": "markdown",
   "metadata": {},
   "source": [
    "## 0.3 import strawberry modules"
   ]
  },
  {
   "cell_type": "code",
   "execution_count": 6,
   "metadata": {},
   "outputs": [],
   "source": [
    "import openalea.strawberry #import openalea.strawberry module\n",
    "\n",
    "from openalea.strawberry import Rules_production # impoort Rules_production functions from openalea.strawberry module\n",
    "from openalea.strawberry import Visualization, visualisation2d # import Visualisation and Visualisation2d functions from openalea.strawberry module\n",
    "from openalea.strawberry import analysis, variables # import analysis and variables functions from openalea.strawberry module\n",
    "from openalea.strawberry.reader import load_mtg # import load_mtg function from openalea.strawberry.reader\n",
    "from openalea.strawberry.Import_mtgfile import import_mtgfile"
   ]
  },
  {
   "cell_type": "markdown",
   "metadata": {},
   "source": [
    "# 1. import mtg and read "
   ]
  },
  {
   "cell_type": "markdown",
   "metadata": {},
   "source": [
    "## 1.1 File import and selection"
   ]
  },
  {
   "cell_type": "markdown",
   "metadata": {},
   "source": [
    "* Import all .mtg files from share/data files and print filenames"
   ]
  },
  {
   "cell_type": "code",
   "execution_count": 8,
   "metadata": {},
   "outputs": [
    {
     "ename": "NameError",
     "evalue": "global name 'shared_data' is not defined",
     "output_type": "error",
     "traceback": [
      "\u001b[1;31m---------------------------------------------------------------------------\u001b[0m",
      "\u001b[1;31mNameError\u001b[0m                                 Traceback (most recent call last)",
      "\u001b[1;32m<ipython-input-8-c235c3291bbf>\u001b[0m in \u001b[0;36m<module>\u001b[1;34m()\u001b[0m\n\u001b[1;32m----> 1\u001b[1;33m \u001b[0mimport_mtgfile\u001b[0m\u001b[1;33m(\u001b[0m\u001b[0mfilename\u001b[0m\u001b[1;33m=\u001b[0m \u001b[1;33m[\u001b[0m\u001b[1;34m\"Gariguette\"\u001b[0m\u001b[1;33m]\u001b[0m\u001b[1;33m)\u001b[0m\u001b[1;33m\u001b[0m\u001b[0m\n\u001b[0m",
      "\u001b[1;32mc:\\users\\mlabadie\\miniconda2\\envs\\openalea\\lib\\site-packages\\openalea.strawberry-1.0.0-py2.7.egg\\openalea\\strawberry\\Import_mtgfile.pyc\u001b[0m in \u001b[0;36mimport_mtgfile\u001b[1;34m(filename)\u001b[0m\n\u001b[0;32m     13\u001b[0m     \"\"\"\n\u001b[0;32m     14\u001b[0m     \u001b[0mfilenames\u001b[0m \u001b[1;33m=\u001b[0m \u001b[0mfilename\u001b[0m\u001b[1;33m\u001b[0m\u001b[0m\n\u001b[1;32m---> 15\u001b[1;33m     \u001b[0mfiles\u001b[0m \u001b[1;33m=\u001b[0m \u001b[0mshared_data\u001b[0m\u001b[1;33m(\u001b[0m\u001b[0mopenalea\u001b[0m\u001b[1;33m.\u001b[0m\u001b[0mstrawberry\u001b[0m\u001b[1;33m)\u001b[0m\u001b[1;33m.\u001b[0m\u001b[0mglob\u001b[0m\u001b[1;33m(\u001b[0m\u001b[1;34m'*.mtg'\u001b[0m\u001b[1;33m)\u001b[0m\u001b[1;33m\u001b[0m\u001b[0m\n\u001b[0m\u001b[0;32m     16\u001b[0m     \u001b[0mmtg_path\u001b[0m \u001b[1;33m=\u001b[0m \u001b[0mdict\u001b[0m\u001b[1;33m(\u001b[0m\u001b[1;33m(\u001b[0m\u001b[0mf\u001b[0m\u001b[1;33m.\u001b[0m\u001b[0mnamebase\u001b[0m\u001b[1;33m,\u001b[0m \u001b[0mf\u001b[0m\u001b[1;33m)\u001b[0m \u001b[1;32mfor\u001b[0m \u001b[0mf\u001b[0m \u001b[1;32min\u001b[0m \u001b[0mfiles\u001b[0m\u001b[1;33m)\u001b[0m\u001b[1;33m\u001b[0m\u001b[0m\n\u001b[0;32m     17\u001b[0m     \u001b[0mmtgfile\u001b[0m \u001b[1;33m=\u001b[0m \u001b[0mdict\u001b[0m\u001b[1;33m(\u001b[0m\u001b[1;33m(\u001b[0m\u001b[0mk\u001b[0m\u001b[1;33m,\u001b[0m\u001b[0mf\u001b[0m\u001b[1;33m)\u001b[0m \u001b[1;32mfor\u001b[0m \u001b[0mk\u001b[0m\u001b[1;33m,\u001b[0m\u001b[0mf\u001b[0m \u001b[1;32min\u001b[0m \u001b[0mmtg_path\u001b[0m\u001b[1;33m.\u001b[0m\u001b[0mitems\u001b[0m\u001b[1;33m(\u001b[0m\u001b[1;33m)\u001b[0m \u001b[1;32mif\u001b[0m \u001b[0mk\u001b[0m \u001b[1;32min\u001b[0m \u001b[0mfilenames\u001b[0m\u001b[1;33m)\u001b[0m\u001b[1;33m\u001b[0m\u001b[0m\n",
      "\u001b[1;31mNameError\u001b[0m: global name 'shared_data' is not defined"
     ]
    }
   ],
   "source": [
    "import_mtgfile(filename= [\"Gariguette\"])    "
   ]
  },
  {
   "cell_type": "markdown",
   "metadata": {},
   "source": [
    "## 1.2 Load and read one MTG file"
   ]
  },
  {
   "cell_type": "markdown",
   "metadata": {},
   "source": [
    "# Question est ce que l'on pourrait pas simplifier la procédure? \n",
    "\n",
    "Dire au utilisateur de mettre leur fichier mtg dans le dossier share/data et de creer une fonction de read.MTG en entrant seulement le nom ou les noms du ou des MTG."
   ]
  },
  {
   "cell_type": "code",
   "execution_count": null,
   "metadata": {},
   "outputs": [],
   "source": [
    "filename = 'Gariguette' # MTG name you want use\n",
    "g = MTG(mtgfile[filename]) # function to read mtg file\n",
    "print g # print the no. verticices and no. scale present in mtg called g"
   ]
  },
  {
   "cell_type": "markdown",
   "metadata": {},
   "source": [
    "## 1.3 Load and read some MTG files in a MetaMTG  \n",
    "\n",
    "### Question:  \n",
    "Pourrais ton pas faire une seule fonction MTG.read qui permettrai de lire 1 seul fichier ou plusieurs en fonction du nombre de MTG que l'utilisateur souhaite.  \n",
    "  \n",
    "ex: MTG.read(filename):  \n",
    "if length filename = 1:  \n",
    "    g= MTG(filename)\n",
    "elif lenght filename > 1:  \n",
    "    MetaMTG = MTG()  \n",
    "        for fn in mtgfile:  \n",
    "        g = algo.union(MetaMTG, MTG(mtgfile[fn]))  \n",
    "else  \n",
    "    print \"name error\" or \"mtg no exist\"\n",
    "    "
   ]
  },
  {
   "cell_type": "code",
   "execution_count": null,
   "metadata": {},
   "outputs": [],
   "source": [
    "MetaMTG = MTG()\n",
    "for fn in mtgfile:\n",
    "    MetaMTG = algo.union(MetaMTG, MTG(mtgfile[fn]))\n",
    "    \n",
    "MetaMTG = MetaMTG\n",
    "print MetaMTG # print the no. verticices and no. scale present in MetaMtg called MetaMTG"
   ]
  },
  {
   "cell_type": "markdown",
   "metadata": {},
   "source": [
    "# 2. Somes functions to check if mtg are correctly read"
   ]
  },
  {
   "cell_type": "code",
   "execution_count": null,
   "metadata": {},
   "outputs": [],
   "source": [
    "g.display(g, display_scale = True,display_id=True) # function allows to print MTG files with scale and id"
   ]
  },
  {
   "cell_type": "code",
   "execution_count": null,
   "metadata": {},
   "outputs": [],
   "source": [
    "no_plant = len(g.vertices(scale=1)) # function allows to identified the number of plant in mtg file g\n",
    "print 'no. plants:', no_plant\n"
   ]
  },
  {
   "cell_type": "code",
   "execution_count": null,
   "metadata": {},
   "outputs": [],
   "source": [
    "genotypes = set(MetaMTG.property(\"Genotype\").values())\n",
    "print 'genotypes present in MTG:',genotypes"
   ]
  },
  {
   "cell_type": "code",
   "execution_count": null,
   "metadata": {},
   "outputs": [],
   "source": [
    "for g in genotypes:\n",
    "    d= MetaMTG.property(\"Genotype\").values().count(g)\n",
    "    print g,':',d,'plants'"
   ]
  },
  {
   "cell_type": "code",
   "execution_count": null,
   "metadata": {},
   "outputs": [],
   "source": []
  }
 ],
 "metadata": {
  "kernelspec": {
   "display_name": "Python 2",
   "language": "python",
   "name": "python2"
  },
  "language_info": {
   "codemirror_mode": {
    "name": "ipython",
    "version": 2
   },
   "file_extension": ".py",
   "mimetype": "text/x-python",
   "name": "python",
   "nbconvert_exporter": "python",
   "pygments_lexer": "ipython2",
   "version": "2.7.15"
  }
 },
 "nbformat": 4,
 "nbformat_minor": 2
}
