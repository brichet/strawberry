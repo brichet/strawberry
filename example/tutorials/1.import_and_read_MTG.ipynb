{
 "cells": [
  {
   "cell_type": "markdown",
   "metadata": {},
   "source": [
    "# Import and read mtg file\n",
    "\n",
    "**note:** Requirement for this tutorial: you must have to create an MTG file and upload .mtg file in share/data (cf. tutorial XXX)"
   ]
  },
  {
   "cell_type": "markdown",
   "metadata": {},
   "source": [
    "## Modules requierement"
   ]
  },
  {
   "cell_type": "markdown",
   "metadata": {},
   "source": [
    "### Import openalea module"
   ]
  },
  {
   "cell_type": "code",
   "execution_count": 1,
   "metadata": {},
   "outputs": [],
   "source": [
    "from openalea.mtg.algo import split\n",
    "from openalea.mtg import algo\n",
    "import pandas as pd\n",
    "from collections import OrderedDict, defaultdict"
   ]
  },
  {
   "cell_type": "markdown",
   "metadata": {},
   "source": [
    "### Import oawidget module"
   ]
  },
  {
   "cell_type": "code",
   "execution_count": 2,
   "metadata": {},
   "outputs": [],
   "source": [
    "from oawidgets.mtg import plot"
   ]
  },
  {
   "cell_type": "markdown",
   "metadata": {},
   "source": [
    "### Import strawberry modules"
   ]
  },
  {
   "cell_type": "code",
   "execution_count": 3,
   "metadata": {},
   "outputs": [],
   "source": [
    "import openalea.strawberry #import openalea.strawberry module\n",
    "from openalea.strawberry.import_mtgfile import import_mtgfile\n",
    "from openalea.strawberry.import_mtgfile import plant_number_by_varieties"
   ]
  },
  {
   "cell_type": "markdown",
   "metadata": {},
   "source": [
    "## Import mtg and read \n",
    "  \n",
    "  \n",
    "**NOTE**: In our package each mtg file correspond to some plant of one variety"
   ]
  },
  {
   "cell_type": "markdown",
   "metadata": {},
   "source": [
    "* Import and read one mtg file (MTG file corresponding to one varity)"
   ]
  },
  {
   "cell_type": "code",
   "execution_count": 4,
   "metadata": {},
   "outputs": [
    {
     "name": "stdout",
     "output_type": "stream",
     "text": [
      "MTG : nb_vertices=6519, nb_scales=4\n"
     ]
    }
   ],
   "source": [
    "g = import_mtgfile(filename= [\"Gariguette\"])\n",
    "print(g)"
   ]
  },
  {
   "cell_type": "markdown",
   "metadata": {},
   "source": [
    "* import several mtg file for meta-analysis (Some varieties)"
   ]
  },
  {
   "cell_type": "code",
   "execution_count": 5,
   "metadata": {},
   "outputs": [
    {
     "name": "stdout",
     "output_type": "stream",
     "text": [
      "MTG : nb_vertices=14145, nb_scales=4\n"
     ]
    }
   ],
   "source": [
    "metaMTG= import_mtgfile(filename=[\"Gariguette\", \"Capriss\"])\n",
    "print(metaMTG)"
   ]
  },
  {
   "cell_type": "markdown",
   "metadata": {},
   "source": [
    "## Somes functions to check if mtg are correctly read"
   ]
  },
  {
   "cell_type": "markdown",
   "metadata": {},
   "source": [
    "### Display mtg"
   ]
  },
  {
   "cell_type": "code",
   "execution_count": 6,
   "metadata": {
    "scrolled": true
   },
   "outputs": [],
   "source": [
    "# display in the console the MTG stored in g (here one genotype)\n",
    "# g.display()"
   ]
  },
  {
   "cell_type": "markdown",
   "metadata": {},
   "source": [
    "Each plant in the MTG can be displayed as a graph"
   ]
  },
  {
   "cell_type": "code",
   "execution_count": 7,
   "metadata": {},
   "outputs": [],
   "source": [
    "straws = split(g)\n",
    "stade= straws[0].property(\"Stade\")\n",
    "# plot(straws[0])"
   ]
  },
  {
   "cell_type": "markdown",
   "metadata": {},
   "source": [
    "### Check properties contains in mtg\n",
    "\n",
    "In mtg properties correspond to all parameters which define mtg (Measurements, label, edge_type...)"
   ]
  },
  {
   "cell_type": "code",
   "execution_count": 8,
   "metadata": {},
   "outputs": [
    {
     "data": {
      "text/plain": [
       "dict_keys(['edge_type', 'label', 'Experiment_name', 'Sample_date', 'Genotype', 'Modality', 'Plant_ID', '_line', 'DBI', 'Stade', 'PETLG', 'LFTLG_CENTRAL', 'LFTLG_LEFT', 'INFLOLG', 'FLWRNUMBER', 'FLWRNUMBER_OPEN', 'FLWRNUMBER_ABORTED', 'FLWRNUMBER_CLOSED', 'SAMPLING'])"
      ]
     },
     "execution_count": 8,
     "metadata": {},
     "output_type": "execute_result"
    }
   ],
   "source": [
    "metaMTG.properties().keys()"
   ]
  },
  {
   "cell_type": "markdown",
   "metadata": {},
   "source": [
    "### Check varieties and the number of plant contain in mtg files"
   ]
  },
  {
   "cell_type": "code",
   "execution_count": 9,
   "metadata": {},
   "outputs": [
    {
     "name": "stdout",
     "output_type": "stream",
     "text": [
      "Capriss : 54 plants\n",
      "Gariguette : 54 plants\n"
     ]
    }
   ],
   "source": [
    "plant_number_by_varieties(g=metaMTG)"
   ]
  }
 ],
 "metadata": {
  "kernelspec": {
   "display_name": "Python 3",
   "language": "python",
   "name": "python3"
  },
  "language_info": {
   "codemirror_mode": {
    "name": "ipython",
    "version": 3
   },
   "file_extension": ".py",
   "mimetype": "text/x-python",
   "name": "python",
   "nbconvert_exporter": "python",
   "pygments_lexer": "ipython3",
   "version": "3.8.10"
  }
 },
 "nbformat": 4,
 "nbformat_minor": 2
}
