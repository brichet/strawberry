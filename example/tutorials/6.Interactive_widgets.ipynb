{
 "cells": [
  {
   "cell_type": "markdown",
   "id": "addbcb01",
   "metadata": {},
   "source": [
    "# Interactive usage through widgets"
   ]
  },
  {
   "cell_type": "markdown",
   "id": "2b8b392f",
   "metadata": {},
   "source": [
    "## 0. Modules requirements"
   ]
  },
  {
   "cell_type": "markdown",
   "id": "929fdb47",
   "metadata": {},
   "source": [
    "### 0.1 External modules"
   ]
  },
  {
   "cell_type": "code",
   "execution_count": 1,
   "id": "e7c836da",
   "metadata": {},
   "outputs": [],
   "source": [
    "import ipyvuetify as v\n",
    "from traitlets import (Any, Bool, Dict, Int, Unicode, List)"
   ]
  },
  {
   "cell_type": "markdown",
   "id": "40b4177d",
   "metadata": {},
   "source": [
    "### 0.2 Aplication pages"
   ]
  },
  {
   "cell_type": "code",
   "execution_count": 2,
   "id": "0e5319aa",
   "metadata": {},
   "outputs": [
    {
     "data": {
      "text/html": [
       "        <script type=\"text/javascript\">\n",
       "        window.PlotlyConfig = {MathJaxConfig: 'local'};\n",
       "        if (window.MathJax) {MathJax.Hub.Config({SVG: {font: \"STIX-Web\"}});}\n",
       "        if (typeof require !== 'undefined') {\n",
       "        require.undef(\"plotly\");\n",
       "        requirejs.config({\n",
       "            paths: {\n",
       "                'plotly': ['https://cdn.plot.ly/plotly-latest.min']\n",
       "            }\n",
       "        });\n",
       "        require(['plotly'], function(Plotly) {\n",
       "            window._Plotly = Plotly;\n",
       "        });\n",
       "        }\n",
       "        </script>\n",
       "        "
      ]
     },
     "metadata": {},
     "output_type": "display_data"
    },
    {
     "data": {
      "text/html": [
       "        <script type=\"text/javascript\">\n",
       "        window.PlotlyConfig = {MathJaxConfig: 'local'};\n",
       "        if (window.MathJax) {MathJax.Hub.Config({SVG: {font: \"STIX-Web\"}});}\n",
       "        if (typeof require !== 'undefined') {\n",
       "        require.undef(\"plotly\");\n",
       "        requirejs.config({\n",
       "            paths: {\n",
       "                'plotly': ['https://cdn.plot.ly/plotly-latest.min']\n",
       "            }\n",
       "        });\n",
       "        require(['plotly'], function(Plotly) {\n",
       "            window._Plotly = Plotly;\n",
       "        });\n",
       "        }\n",
       "        </script>\n",
       "        "
      ]
     },
     "metadata": {},
     "output_type": "display_data"
    },
    {
     "data": {
      "text/html": [
       "        <script type=\"text/javascript\">\n",
       "        window.PlotlyConfig = {MathJaxConfig: 'local'};\n",
       "        if (window.MathJax) {MathJax.Hub.Config({SVG: {font: \"STIX-Web\"}});}\n",
       "        if (typeof require !== 'undefined') {\n",
       "        require.undef(\"plotly\");\n",
       "        requirejs.config({\n",
       "            paths: {\n",
       "                'plotly': ['https://cdn.plot.ly/plotly-latest.min']\n",
       "            }\n",
       "        });\n",
       "        require(['plotly'], function(Plotly) {\n",
       "            window._Plotly = Plotly;\n",
       "        });\n",
       "        }\n",
       "        </script>\n",
       "        "
      ]
     },
     "metadata": {},
     "output_type": "display_data"
    }
   ],
   "source": [
    "import openalea.strawberry.application.misc as misc\n",
    "import openalea.strawberry.application.app_import_data as p1\n",
    "import openalea.strawberry.application.app_visualization as p2\n",
    "import openalea.strawberry.application.app_plant_scale as p3\n",
    "import openalea.strawberry.application.app_module_scale as p4\n",
    "import openalea.strawberry.application.app_node_scale as p5"
   ]
  },
  {
   "cell_type": "markdown",
   "id": "9e6dce4a",
   "metadata": {},
   "source": [
    "**Note:** The widgets created in the strawberry module require the global variable \"all_mtg\" to be initiated, as they all retrieve the MTG data from it."
   ]
  },
  {
   "cell_type": "code",
   "execution_count": null,
   "id": "e04e05d9",
   "metadata": {},
   "outputs": [],
   "source": [
    "misc.init_allmtg()"
   ]
  },
  {
   "cell_type": "markdown",
   "id": "e17a6caf",
   "metadata": {},
   "source": [
    "## 1. Import & read MTG "
   ]
  },
  {
   "cell_type": "markdown",
   "id": "a7e3684b",
   "metadata": {},
   "source": [
    "### 1.1 Import MTG"
   ]
  },
  {
   "cell_type": "markdown",
   "id": "bb57cf1b",
   "metadata": {},
   "source": [
    "The MTG files are imported for all widgets.\n",
    "The files needs to be in the \"dashboard files\" repository."
   ]
  },
  {
   "cell_type": "code",
   "execution_count": 3,
   "id": "6a9976b9",
   "metadata": {},
   "outputs": [
    {
     "data": {
      "application/vnd.jupyter.widget-view+json": {
       "model_id": "1b32a0f3b8ef40fd8ecb10369685bc8b",
       "version_major": 2,
       "version_minor": 0
      },
      "text/plain": [
       "Select(chips=True, counter=True, items=['Clery.mtg', 'Ciflorette.mtg', 'Darselect.mtg', 'Cir107.mtg', 'Capriss…"
      ]
     },
     "metadata": {},
     "output_type": "display_data"
    }
   ],
   "source": [
    "p1.files_selection"
   ]
  },
  {
   "cell_type": "markdown",
   "id": "0a02d9f7",
   "metadata": {},
   "source": [
    "### 1.2 Display MTG informations"
   ]
  },
  {
   "cell_type": "markdown",
   "id": "a2d51353",
   "metadata": {},
   "source": [
    "Once the files are imported, informations on the plants imported are automatically extracted.\n",
    "The metadata are grouped in three groups:\n",
    "* Global metadata of the files (how many plants, which genotypes, ...)\n",
    "* Quantitative data of the MTG (provided by the user in the MTG file, here PETLG, INFLOLG, ...). The min, max, mean and quartiles of the data are also computed.\n",
    "* Qualitative data of the MTG. Their possible values are listed.\n"
   ]
  },
  {
   "cell_type": "code",
   "execution_count": 5,
   "id": "f5201ef1",
   "metadata": {},
   "outputs": [
    {
     "data": {
      "application/vnd.jupyter.widget-view+json": {
       "model_id": "02c58664b07b416eaf85f7ab406ab5cb",
       "version_major": 2,
       "version_minor": 0
      },
      "text/plain": [
       "Container(children=[Output(outputs=({'output_type': 'stream', 'text': \"Number of files selected: 2\\nExperiment…"
      ]
     },
     "metadata": {},
     "output_type": "display_data"
    }
   ],
   "source": [
    "p1.panel_files_description"
   ]
  },
  {
   "cell_type": "markdown",
   "id": "4e2c00b5",
   "metadata": {},
   "source": [
    "### 1.3 Display MTG"
   ]
  },
  {
   "cell_type": "markdown",
   "id": "f5a72d20",
   "metadata": {},
   "source": [
    "The MTG of one selected plant can be displayed.\n",
    "The plant genotype and ID are selected by the widgets:"
   ]
  },
  {
   "cell_type": "code",
   "execution_count": 6,
   "id": "853ab9fe",
   "metadata": {},
   "outputs": [
    {
     "data": {
      "application/vnd.jupyter.widget-view+json": {
       "model_id": "cfcdef511a2542d2896519e4f593e663",
       "version_major": 2,
       "version_minor": 0
      },
      "text/plain": [
       "Select(chips=True, counter=True, items=['Darselect', 'Cir107'], label='Select Genotypes', multiple=False, v_mo…"
      ]
     },
     "metadata": {},
     "output_type": "display_data"
    }
   ],
   "source": [
    "p1.genotypes_selection"
   ]
  },
  {
   "cell_type": "code",
   "execution_count": 7,
   "id": "d2ba1e0e",
   "metadata": {},
   "outputs": [
    {
     "data": {
      "application/vnd.jupyter.widget-view+json": {
       "model_id": "bb1b8db964b34bbb983fa4ce0bdf8bdc",
       "version_major": 2,
       "version_minor": 0
      },
      "text/plain": [
       "Row(children=[Col(children=[Slider(disabled=False, label='#p', max=54.0, min=1.0, thumb_label=True, v_model=1)…"
      ]
     },
     "metadata": {},
     "output_type": "display_data"
    }
   ],
   "source": [
    "p1.plant_selection"
   ]
  },
  {
   "cell_type": "markdown",
   "id": "a5c40c77",
   "metadata": {},
   "source": [
    "Then the MTG is displayed. Once displayed, the MTG will be automatically refreshed when it is changed with the widgets."
   ]
  },
  {
   "cell_type": "code",
   "execution_count": 8,
   "id": "aeec6018",
   "metadata": {
    "scrolled": true
   },
   "outputs": [
    {
     "data": {
      "application/vnd.jupyter.widget-view+json": {
       "model_id": "67cdf3d3398b4f43bf9bcb440cae2073",
       "version_major": 2,
       "version_minor": 0
      },
      "text/plain": [
       "Output(outputs=({'output_type': 'display_data', 'data': {'text/plain': '<IPython.lib.display.IFrame at 0x7f481…"
      ]
     },
     "metadata": {},
     "output_type": "display_data"
    }
   ],
   "source": [
    "p1.graphMTG"
   ]
  },
  {
   "cell_type": "markdown",
   "id": "4dcfe518",
   "metadata": {},
   "source": [
    "## 2. 2D & 3D visualization"
   ]
  },
  {
   "cell_type": "markdown",
   "id": "566e1858",
   "metadata": {},
   "source": [
    "### 2.1 2D"
   ]
  },
  {
   "cell_type": "markdown",
   "id": "8bee06c1",
   "metadata": {},
   "source": [
    "### 2.2 3D"
   ]
  },
  {
   "cell_type": "markdown",
   "id": "e7a14ff9",
   "metadata": {},
   "source": [
    "First select a genotype"
   ]
  },
  {
   "cell_type": "code",
   "execution_count": 9,
   "id": "9d7154a3",
   "metadata": {},
   "outputs": [
    {
     "data": {
      "application/vnd.jupyter.widget-view+json": {
       "model_id": "a48b4a0e21e94ddcabeb577bbfd72e41",
       "version_major": 2,
       "version_minor": 0
      },
      "text/plain": [
       "Select(chips=True, items=['Darselect', 'Ciflorette', 'Cir107'], label='Select Genotype', multiple=False, v_mod…"
      ]
     },
     "metadata": {},
     "output_type": "display_data"
    }
   ],
   "source": [
    "p2.genotype_selection_3d"
   ]
  },
  {
   "cell_type": "markdown",
   "id": "dec04cb6",
   "metadata": {},
   "source": [
    "Then two visualization are available:\n",
    "* Une visualisation du développement végétatif des plantes. Le développement végétative est visible par une coloration des feuilles en fonction du développement des axes végétatif, coloration allant du vert au violet).\n",
    "* Une visualisation sur l’intensité de floraison des plantes, visible par l’augmentation de la taille des boîtes bleu clair.\n",
    "\n",
    "**Note:** The visualization are zoomed on one plant, but you can dezoom to see the whole scene."
   ]
  },
  {
   "cell_type": "code",
   "execution_count": 11,
   "id": "f1064a36",
   "metadata": {
    "scrolled": true
   },
   "outputs": [
    {
     "data": {
      "application/vnd.jupyter.widget-view+json": {
       "model_id": "1d0f24491d1741bd9b7c5f54d908343c",
       "version_major": 2,
       "version_minor": 0
      },
      "text/plain": [
       "Row(children=[Col(children=[Container(children=[Output(outputs=({'output_type': 'stream', 'text': '3d growth d…"
      ]
     },
     "metadata": {},
     "output_type": "display_data"
    }
   ],
   "source": [
    "p2.panel_3d"
   ]
  },
  {
   "cell_type": "markdown",
   "id": "8e49d280",
   "metadata": {},
   "source": [
    "## 3. Analyses at plant scale"
   ]
  },
  {
   "cell_type": "markdown",
   "id": "d1db30ef",
   "metadata": {},
   "source": [
    "### 3.1 Extract data"
   ]
  },
  {
   "cell_type": "code",
   "execution_count": 12,
   "id": "e13e5cd1",
   "metadata": {},
   "outputs": [
    {
     "data": {
      "application/vnd.jupyter.widget-view+json": {
       "model_id": "6687f67a614c4cd38a5c019b3f4dbfcb",
       "version_major": 2,
       "version_minor": 0
      },
      "text/plain": [
       "Select(chips=True, counter=True, items=['Darselect', 'Ciflorette', 'Cir107'], label='Select Genotypes', multip…"
      ]
     },
     "metadata": {},
     "output_type": "display_data"
    }
   ],
   "source": [
    "p3.genotypes_selection_extraction"
   ]
  },
  {
   "cell_type": "code",
   "execution_count": 15,
   "id": "7ef8be78",
   "metadata": {},
   "outputs": [
    {
     "data": {
      "application/vnd.jupyter.widget-view+json": {
       "model_id": "f26f37427073404c9e834f5036ee3d8d",
       "version_major": 2,
       "version_minor": 0
      },
      "text/plain": [
       "Container(children=[QgridWidget(grid_options={'fullWidthRows': True, 'syncColumnCellResize': True, 'forceFitCo…"
      ]
     },
     "metadata": {},
     "output_type": "display_data"
    }
   ],
   "source": [
    "p3.panel_df"
   ]
  },
  {
   "cell_type": "markdown",
   "id": "86720286",
   "metadata": {},
   "source": [
    "### 3.2 Analyses"
   ]
  },
  {
   "cell_type": "markdown",
   "id": "43b14cee",
   "metadata": {},
   "source": [
    "At the plant scale, two plot can be automatically displayed:\n",
    "* Any variable from the extracted data, function to the date."
   ]
  },
  {
   "cell_type": "code",
   "execution_count": 18,
   "id": "dbc36335",
   "metadata": {},
   "outputs": [
    {
     "data": {
      "application/vnd.jupyter.widget-view+json": {
       "model_id": "eaad46f3d56341e28c4e6fdee4051b2d",
       "version_major": 2,
       "version_minor": 0
      },
      "text/plain": [
       "Select(chips=True, items=['Darselect', 'Ciflorette', 'Cir107'], label='Select Genotype', multiple=False, v_mod…"
      ]
     },
     "metadata": {},
     "output_type": "display_data"
    },
    {
     "data": {
      "application/vnd.jupyter.widget-view+json": {
       "model_id": "01bc22cdbaa4435882e1522e33824c75",
       "version_major": 2,
       "version_minor": 0
      },
      "text/plain": [
       "Select(chips=True, items=['modality', 'plant', 'nb_total_leaves', 'nb_total_flowers', 'nb_stolons', 'nb_visibl…"
      ]
     },
     "metadata": {},
     "output_type": "display_data"
    }
   ],
   "source": [
    "display(p3.genotypes_selection_analyze)\n",
    "p3.variable_selection_analyze"
   ]
  },
  {
   "cell_type": "code",
   "execution_count": 20,
   "id": "b768720e",
   "metadata": {},
   "outputs": [
    {
     "data": {
      "application/vnd.jupyter.widget-view+json": {
       "model_id": "cda3ce3e27f24509bfb4cfd83fc56d3f",
       "version_major": 2,
       "version_minor": 0
      },
      "text/plain": [
       "FigureWidget({\n",
       "    'data': [{'line': {'color': 'rgba(31, 119, 180, 1.0)', 'dash': 'solid', 'shape': 'linear', …"
      ]
     },
     "metadata": {},
     "output_type": "display_data"
    }
   ],
   "source": [
    "p3.plot_plantscale"
   ]
  },
  {
   "cell_type": "markdown",
   "id": "740f6a3b",
   "metadata": {},
   "source": [
    "* The percentage representation of each stage at one data (represented in pie plot)"
   ]
  },
  {
   "cell_type": "code",
   "execution_count": 21,
   "id": "1c1cddf0",
   "metadata": {},
   "outputs": [
    {
     "data": {
      "application/vnd.jupyter.widget-view+json": {
       "model_id": "03e6cedf25364be08dc9874d9f9b4267",
       "version_major": 2,
       "version_minor": 0
      },
      "text/plain": [
       "Select(chips=True, items=['2014/12/10', '2015/01/09', '2015/02/11', '2015/03/06', '2015/04/03', '2015/05/20'],…"
      ]
     },
     "metadata": {},
     "output_type": "display_data"
    }
   ],
   "source": [
    "p3.date_selection_analyze"
   ]
  },
  {
   "cell_type": "code",
   "execution_count": 22,
   "id": "d3430eb1",
   "metadata": {},
   "outputs": [
    {
     "data": {
      "application/vnd.jupyter.widget-view+json": {
       "model_id": "065f7836c1124823b1210011eb772ea1",
       "version_major": 2,
       "version_minor": 0
      },
      "text/plain": [
       "FigureWidget({\n",
       "    'data': [{'domain': {'x': [0.0, 1.0], 'y': [0.0, 1.0]},\n",
       "              'hovertemplate': 'lab…"
      ]
     },
     "metadata": {},
     "output_type": "display_data"
    }
   ],
   "source": [
    "p3.pie_plantscale"
   ]
  },
  {
   "cell_type": "markdown",
   "id": "479ddab0",
   "metadata": {},
   "source": [
    "## 4. Module scale "
   ]
  },
  {
   "cell_type": "markdown",
   "id": "75876059",
   "metadata": {},
   "source": [
    "### 4.1 Extract data"
   ]
  },
  {
   "cell_type": "code",
   "execution_count": 23,
   "id": "ff473f95",
   "metadata": {},
   "outputs": [
    {
     "data": {
      "application/vnd.jupyter.widget-view+json": {
       "model_id": "694dba7097d447019ae635a18af29f1d",
       "version_major": 2,
       "version_minor": 0
      },
      "text/plain": [
       "Select(chips=True, counter=True, items=['Darselect', 'Ciflorette', 'Cir107'], label='Select Genotypes', multip…"
      ]
     },
     "metadata": {},
     "output_type": "display_data"
    },
    {
     "data": {
      "application/vnd.jupyter.widget-view+json": {
       "model_id": "81a69798122e490cba209ae81a0a8f7a",
       "version_major": 2,
       "version_minor": 0
      },
      "text/plain": [
       "Container(children=[QgridWidget(grid_options={'fullWidthRows': True, 'syncColumnCellResize': True, 'forceFitCo…"
      ]
     },
     "metadata": {},
     "output_type": "display_data"
    }
   ],
   "source": [
    "display(p4.genotypes_selection_extraction)\n",
    "display(p4.panel_df)"
   ]
  },
  {
   "cell_type": "markdown",
   "id": "663beea5",
   "metadata": {},
   "source": [
    "### 4.2 Analyse single genotypes"
   ]
  },
  {
   "cell_type": "markdown",
   "id": "9eca1010",
   "metadata": {},
   "source": [
    "For each genotype, the occurence of successive module order is displayed:"
   ]
  },
  {
   "cell_type": "code",
   "execution_count": 25,
   "id": "88f47395",
   "metadata": {},
   "outputs": [
    {
     "data": {
      "application/vnd.jupyter.widget-view+json": {
       "model_id": "10b15bdf4d704dafae1012bed09873a7",
       "version_major": 2,
       "version_minor": 0
      },
      "text/plain": [
       "Select(chips=True, items=['Darselect', 'Ciflorette', 'Cir107'], label='Select Genotype', multiple=False, v_mod…"
      ]
     },
     "metadata": {},
     "output_type": "display_data"
    },
    {
     "data": {
      "application/vnd.jupyter.widget-view+json": {
       "model_id": "b1f47acd361e44b08f7b9c17088869f9",
       "version_major": 2,
       "version_minor": 0
      },
      "text/plain": [
       "FigureWidget({\n",
       "    'data': [], 'layout': {'plot_bgcolor': 'rgba(0,0,0,0)', 'template': '...'}\n",
       "})"
      ]
     },
     "metadata": {},
     "output_type": "display_data"
    }
   ],
   "source": [
    "display(p4.genotypes_selection_single_genotype)\n",
    "display(p4.plot_occurence)"
   ]
  },
  {
   "cell_type": "markdown",
   "id": "7b5dd459",
   "metadata": {},
   "source": [
    "### 4.3 Multiple genotype analyses"
   ]
  },
  {
   "cell_type": "markdown",
   "id": "5fd70fa9",
   "metadata": {},
   "source": [
    "A comparison of the genotype is automatically generated on the following criteria:\n",
    "* pointwiseman of the total number of leaves\n",
    "* pointwiseman of the total number of flowers\n",
    "* pointwiseman of the total number of stolons\n",
    "* Relative frequency of branch crown\n",
    "* Relative frequency of extension crown"
   ]
  },
  {
   "cell_type": "code",
   "execution_count": 29,
   "id": "e267bbaf",
   "metadata": {
    "scrolled": true
   },
   "outputs": [
    {
     "data": {
      "application/vnd.jupyter.widget-view+json": {
       "model_id": "fb7a59cee9b144a89b63fdec508bb9e7",
       "version_major": 2,
       "version_minor": 0
      },
      "text/plain": [
       "FigureWidget({\n",
       "    'data': [], 'layout': {'template': '...'}\n",
       "})"
      ]
     },
     "metadata": {},
     "output_type": "display_data"
    },
    {
     "data": {
      "application/vnd.jupyter.widget-view+json": {
       "model_id": "e136554642434eba98a6ef632aac52f6",
       "version_major": 2,
       "version_minor": 0
      },
      "text/plain": [
       "FigureWidget({\n",
       "    'data': [], 'layout': {'template': '...'}\n",
       "})"
      ]
     },
     "metadata": {},
     "output_type": "display_data"
    },
    {
     "data": {
      "application/vnd.jupyter.widget-view+json": {
       "model_id": "c61f916a67ff4b5885287316f41c6af5",
       "version_major": 2,
       "version_minor": 0
      },
      "text/plain": [
       "FigureWidget({\n",
       "    'data': [], 'layout': {'template': '...'}\n",
       "})"
      ]
     },
     "metadata": {},
     "output_type": "display_data"
    },
    {
     "data": {
      "application/vnd.jupyter.widget-view+json": {
       "model_id": "21acade56de84a69b157b3c3150b4480",
       "version_major": 2,
       "version_minor": 0
      },
      "text/plain": [
       "FigureWidget({\n",
       "    'data': [], 'layout': {'template': '...'}\n",
       "})"
      ]
     },
     "metadata": {},
     "output_type": "display_data"
    },
    {
     "data": {
      "application/vnd.jupyter.widget-view+json": {
       "model_id": "afa86cb6781240fd85a0813fa03bf4f0",
       "version_major": 2,
       "version_minor": 0
      },
      "text/plain": [
       "FigureWidget({\n",
       "    'data': [], 'layout': {'template': '...'}\n",
       "})"
      ]
     },
     "metadata": {},
     "output_type": "display_data"
    }
   ],
   "source": [
    "display(p4.plot_pointwisemean_leaves)\n",
    "display(p4.plot_pointwisemean_flowers)\n",
    "display(p4.plot_pointwisemean_stolons)\n",
    "display(p4.plot_branch_crown)\n",
    "display(p4.plot_extension_crown)\n",
    "p4.print_multiple_genotypes_plots()"
   ]
  },
  {
   "cell_type": "markdown",
   "id": "737560c6",
   "metadata": {},
   "source": [
    "### 4.4 Waffle plots"
   ]
  },
  {
   "cell_type": "code",
   "execution_count": 31,
   "id": "288a9b42",
   "metadata": {},
   "outputs": [
    {
     "data": {
      "application/vnd.jupyter.widget-view+json": {
       "model_id": "c55eb7e633a445f9b8e296ca24bcbb86",
       "version_major": 2,
       "version_minor": 0
      },
      "text/plain": [
       "Row(children=[Select(chips=True, items=['Darselect', 'Ciflorette', 'Cir107'], label='Select Genotype', multipl…"
      ]
     },
     "metadata": {},
     "output_type": "display_data"
    },
    {
     "data": {
      "application/vnd.jupyter.widget-view+json": {
       "model_id": "6520e7b27ade4899aca1035d552d15bb",
       "version_major": 2,
       "version_minor": 0
      },
      "text/plain": [
       "Output(outputs=({'output_type': 'display_data', 'data': {'text/plain': '<Figure size 1332x756 with 1 Axes>', '…"
      ]
     },
     "metadata": {},
     "output_type": "display_data"
    }
   ],
   "source": [
    "display(p4.menu_plant_waffle)\n",
    "display(p4.waffle)"
   ]
  },
  {
   "cell_type": "markdown",
   "id": "a7576527",
   "metadata": {},
   "source": [
    "## 5. Node Scale analyses"
   ]
  },
  {
   "cell_type": "markdown",
   "id": "c1b1a5e5",
   "metadata": {},
   "source": [
    "### 5.1 Waffle plot"
   ]
  },
  {
   "cell_type": "code",
   "execution_count": 32,
   "id": "41a7123a",
   "metadata": {},
   "outputs": [
    {
     "data": {
      "application/vnd.jupyter.widget-view+json": {
       "model_id": "31a5131cfc8d4794bd79dce88d2f5eed",
       "version_major": 2,
       "version_minor": 0
      },
      "text/plain": [
       "Row(children=[Select(chips=True, items=['Darselect', 'Ciflorette', 'Cir107'], label='Select Genotype', multipl…"
      ]
     },
     "metadata": {},
     "output_type": "display_data"
    },
    {
     "data": {
      "application/vnd.jupyter.widget-view+json": {
       "model_id": "7902cb88a45f4cc5ab07b6ca863857c7",
       "version_major": 2,
       "version_minor": 0
      },
      "text/plain": [
       "Output()"
      ]
     },
     "metadata": {},
     "output_type": "display_data"
    }
   ],
   "source": [
    "display(p5.menu_plant_waffle)\n",
    "display(p5.waffle)"
   ]
  }
 ],
 "metadata": {
  "kernelspec": {
   "display_name": "Python 3",
   "language": "python",
   "name": "python3"
  },
  "language_info": {
   "codemirror_mode": {
    "name": "ipython",
    "version": 3
   },
   "file_extension": ".py",
   "mimetype": "text/x-python",
   "name": "python",
   "nbconvert_exporter": "python",
   "pygments_lexer": "ipython3",
   "version": "3.7.9"
  }
 },
 "nbformat": 4,
 "nbformat_minor": 5
}
