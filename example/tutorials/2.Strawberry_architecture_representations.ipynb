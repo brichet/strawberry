{
 "cells": [
  {
   "cell_type": "markdown",
   "metadata": {},
   "source": [
    "# Architecture visualisation"
   ]
  },
  {
   "cell_type": "markdown",
   "metadata": {},
   "source": [
    "## Module requierement"
   ]
  },
  {
   "cell_type": "code",
   "execution_count": 1,
   "metadata": {},
   "outputs": [],
   "source": [
    "from openalea.mtg.algo import orders\n",
    "import pandas as pd\n",
    "from oawidgets.mtg import plot\n",
    "from oawidgets.plantgl import PlantGL\n",
    "import openalea.plantgl.all as pgl"
   ]
  },
  {
   "cell_type": "code",
   "execution_count": 2,
   "metadata": {},
   "outputs": [],
   "source": [
    "import openalea.strawberry #import openalea.strawberry module\n",
    "\n",
    "from openalea.strawberry import geometry # impoort Rules_production functions from openalea.strawberry module\n",
    "from openalea.strawberry import visu3d, visu2d # import Visualisation and Visualisation2d functions from openalea.strawberry module\n",
    "from openalea.strawberry import analysis # import analysis and variables functions from openalea.strawberry module\n",
    "from openalea.strawberry.import_mtgfile import import_mtgfile"
   ]
  },
  {
   "cell_type": "markdown",
   "metadata": {},
   "source": [
    "## Import and load mtg file"
   ]
  },
  {
   "cell_type": "code",
   "execution_count": 3,
   "metadata": {},
   "outputs": [],
   "source": [
    "Gariguette = import_mtgfile(filename= [\"Gariguette\"])\n",
    "Capriss = import_mtgfile(filename= [\"Capriss\"])\n",
    "# plot(Gariguette)\n"
   ]
  },
  {
   "cell_type": "markdown",
   "metadata": {},
   "source": [
    "## Visualisations"
   ]
  },
  {
   "cell_type": "code",
   "execution_count": 4,
   "metadata": {},
   "outputs": [],
   "source": [
    "Gariguette.properties()['order'] = orders(Gariguette) # This fonction are important it allows to add order properties to mtg\n",
    "Capriss.properties()['order'] = orders(Capriss) # This fonction are important it allows to add order properties to mtg"
   ]
  },
  {
   "cell_type": "markdown",
   "metadata": {},
   "source": [
    "Two complementary vizualisation are developt:   \n",
    "* Two 3D vizualisation\n",
    "* A 2D vizualisation"
   ]
  },
  {
   "cell_type": "markdown",
   "metadata": {},
   "source": [
    "## 3D Visualizations\n",
    "\n",
    "3D vizualisation are compose of two possibles vizualisations:\n",
    "+ With leaves (hide_leaves = False)\n",
    "+ Without leaves (hide_leaves = True)"
   ]
  },
  {
   "cell_type": "markdown",
   "metadata": {},
   "source": [
    "+ **3D vizualisation with leaves (hide_leaves = False)**  \n",
    "This vizualisation allows to vizualised all plants along times.  \n",
    "The growth developement are represented by occurence of the module order (rank of axis) which are colored accoding to module order.  \n",
    "It permit also to see if growth developement are homogenous within each date.  \n",
    "Comparison of this vizualisation between varieties allows to see vegetative growth différence between varieties"
   ]
  },
  {
   "cell_type": "code",
   "execution_count": 5,
   "metadata": {
    "scrolled": true
   },
   "outputs": [
    {
     "data": {
      "application/vnd.jupyter.widget-view+json": {
       "model_id": "ea4840f8cdfb45c4a287764f8df0cc22",
       "version_major": 2,
       "version_minor": 0
      },
      "text/plain": [
       "Plot(antialias=3, axes=['x', 'y', 'z'], axes_helper=1.0, background_color=16777215, camera=[2, -3, 0.2, 0.0, 0…"
      ]
     },
     "metadata": {},
     "output_type": "display_data"
    }
   ],
   "source": [
    "scene=visu3d.plot3d(Gariguette,by=[\"Sample_date\"],hide_leaves=False,display=False)\n",
    "PlantGL(scene, group_by_color=True)"
   ]
  },
  {
   "cell_type": "code",
   "execution_count": 6,
   "metadata": {},
   "outputs": [
    {
     "name": "stdout",
     "output_type": "stream",
     "text": [
      "Display 117 curves\n"
     ]
    },
    {
     "data": {
      "application/vnd.jupyter.widget-view+json": {
       "model_id": "ec3ca610c0514fbabc09d6651f90c1b9",
       "version_major": 2,
       "version_minor": 0
      },
      "text/plain": [
       "Plot(antialias=3, axes=['x', 'y', 'z'], axes_helper=1.0, background_color=16777215, camera=[2, -3, 0.2, 0.0, 0…"
      ]
     },
     "metadata": {},
     "output_type": "display_data"
    }
   ],
   "source": [
    "scene= visu3d.plot3d(Capriss,by=[\"Sample_date\"],hide_leaves=False,display=False)\n",
    "PlantGL(scene ,group_by_color=False)"
   ]
  },
  {
   "cell_type": "markdown",
   "metadata": {},
   "source": [
    "+ **3D vizualisation without leaves (hide_leaves= True)**  \n",
    "This vizualisation are the same previous vizualisation but without leaves. Hidden leaves hightlight Inflorescence shape (blue box). Shape of inflorescence reflect the intensity and complexity of the inflorescence for each plant.  \n",
    "Like previously, this representation allow to see if architecture are homogenous between the plant within each date. It allows also to performed comparison between varieties"
   ]
  },
  {
   "cell_type": "code",
   "execution_count": 7,
   "metadata": {},
   "outputs": [
    {
     "data": {
      "application/vnd.jupyter.widget-view+json": {
       "model_id": "9db69152b8c64b6aa9101ef640d8e87f",
       "version_major": 2,
       "version_minor": 0
      },
      "text/plain": [
       "Plot(antialias=3, axes=['x', 'y', 'z'], axes_helper=1.0, background_color=16777215, camera=[2, -3, 0.2, 0.0, 0…"
      ]
     },
     "metadata": {},
     "output_type": "display_data"
    }
   ],
   "source": [
    "scene= visu3d.plot3d(Gariguette,by=[\"Sample_date\"],hide_leaves=True,display=False)\n",
    "PlantGL(scene, group_by_color= True)"
   ]
  },
  {
   "cell_type": "code",
   "execution_count": 8,
   "metadata": {},
   "outputs": [
    {
     "data": {
      "application/vnd.jupyter.widget-view+json": {
       "model_id": "ac9b1834ec294025b211d39f5c49e7f8",
       "version_major": 2,
       "version_minor": 0
      },
      "text/plain": [
       "Plot(antialias=3, axes=['x', 'y', 'z'], axes_helper=1.0, background_color=16777215, camera=[2, -3, 0.2, 0.0, 0…"
      ]
     },
     "metadata": {},
     "output_type": "display_data"
    }
   ],
   "source": [
    "scene= visu3d.plot3d(Capriss,by=[\"Sample_date\"],hide_leaves=True,display= False)\n",
    "PlantGL(scene)"
   ]
  },
  {
   "cell_type": "markdown",
   "metadata": {},
   "source": [
    "## 2D visualization"
   ]
  },
  {
   "cell_type": "markdown",
   "metadata": {},
   "source": [
    "### 2D-Visualization plant by plant"
   ]
  },
  {
   "cell_type": "markdown",
   "metadata": {},
   "source": [
    "**Commentaires:**  \n",
    "- Amélioration possible donnée Génotype, date et Plante à la place de g.vertices et le numéros \n",
    "- Amélioré l'argument dist pour plus de clarté"
   ]
  },
  {
   "cell_type": "code",
   "execution_count": 9,
   "metadata": {},
   "outputs": [
    {
     "data": {
      "text/plain": [
       "GeometryArray([<openalea.plantgl.scenegraph._pglsg.Cylinder object at 0x7fe775df6490>,<openalea.plantgl.scenegraph._pglsg.Translated object at 0x7fe775df6490>])"
      ]
     },
     "execution_count": 9,
     "metadata": {},
     "output_type": "execute_result"
    }
   ],
   "source": [
    "scene=visu2d.plot2d(Gariguette,Gariguette.vertices(scale=1)[0:1],dist=[3]*3,display=False)\n",
    "#PlantGL(scene)\n",
    "len(scene)\n",
    "#PlantGL(scene, group_by_color=False)\n",
    "d=pgl.Discretizer()\n",
    "status = True\n",
    "l = list(scene)\n",
    "#for i, sh in enumerate(scene):\n",
    "    #status = sh.geometry.apply(d)\n",
    "#    print i, status\n",
    " #   if i ==2: break\n",
    "    #if d.discretization is None:\n",
    "    #    print sh\n",
    "    #else: print d.discretization.indexList\n",
    "    \n",
    "sh = l[0]\n",
    "a, b=sh.geometry.geometry.geometry.geometry.geometryList\n",
    "a.geometryList"
   ]
  },
  {
   "cell_type": "code",
   "execution_count": 10,
   "metadata": {},
   "outputs": [
    {
     "data": {
      "application/vnd.jupyter.widget-view+json": {
       "model_id": "f83d20e34b0e4d798a478b9780ec3b9c",
       "version_major": 2,
       "version_minor": 0
      },
      "text/plain": [
       "Plot(antialias=3, axes=['x', 'y', 'z'], axes_helper=1.0, background_color=16777215, camera=[2, -3, 0.2, 0.0, 0…"
      ]
     },
     "metadata": {},
     "output_type": "display_data"
    }
   ],
   "source": [
    "scene=visu2d.plot2d(Gariguette,Gariguette.vertices(scale=1)[0:1],dist=[3]*3,display=True)\n",
    "PlantGL(scene)"
   ]
  },
  {
   "cell_type": "code",
   "execution_count": 1,
   "metadata": {},
   "outputs": [
    {
     "ename": "NameError",
     "evalue": "name 'pgl' is not defined",
     "output_type": "error",
     "traceback": [
      "\u001b[0;31m---------------------------------------------------------------------------\u001b[0m",
      "\u001b[0;31mNameError\u001b[0m                                 Traceback (most recent call last)",
      "\u001b[0;32m<ipython-input-1-3eece102405b>\u001b[0m in \u001b[0;36m<module>\u001b[0;34m\u001b[0m\n\u001b[0;32m----> 1\u001b[0;31m \u001b[0md\u001b[0m\u001b[0;34m=\u001b[0m\u001b[0mpgl\u001b[0m\u001b[0;34m.\u001b[0m\u001b[0mDiscretizer\u001b[0m\u001b[0;34m(\u001b[0m\u001b[0;34m)\u001b[0m\u001b[0;34m\u001b[0m\u001b[0;34m\u001b[0m\u001b[0m\n\u001b[0m\u001b[1;32m      2\u001b[0m \u001b[0mleaf\u001b[0m\u001b[0;34m=\u001b[0m \u001b[0mvisualisation2d\u001b[0m\u001b[0;34m.\u001b[0m\u001b[0mleaf\u001b[0m\u001b[0;34m(\u001b[0m\u001b[0;34m)\u001b[0m\u001b[0;34m\u001b[0m\u001b[0;34m\u001b[0m\u001b[0m\n\u001b[1;32m      3\u001b[0m \u001b[0mstolon\u001b[0m\u001b[0;34m=\u001b[0m \u001b[0mvisualisation2d\u001b[0m\u001b[0;34m.\u001b[0m\u001b[0mstolon\u001b[0m\u001b[0;34m(\u001b[0m\u001b[0;34m)\u001b[0m\u001b[0;34m\u001b[0m\u001b[0;34m\u001b[0m\u001b[0m\n\u001b[1;32m      4\u001b[0m \u001b[0mbud\u001b[0m\u001b[0;34m=\u001b[0m\u001b[0mvisualisation2d\u001b[0m\u001b[0;34m.\u001b[0m\u001b[0minitiated_bud\u001b[0m\u001b[0;34m(\u001b[0m\u001b[0;34m)\u001b[0m\u001b[0;34m\u001b[0m\u001b[0;34m\u001b[0m\u001b[0m\n\u001b[1;32m      5\u001b[0m \u001b[0mInflo\u001b[0m\u001b[0;34m=\u001b[0m \u001b[0mvisualisation2d\u001b[0m\u001b[0;34m.\u001b[0m\u001b[0mInflorescence\u001b[0m\u001b[0;34m(\u001b[0m\u001b[0;34m)\u001b[0m\u001b[0;34m\u001b[0m\u001b[0;34m\u001b[0m\u001b[0m\n",
      "\u001b[0;31mNameError\u001b[0m: name 'pgl' is not defined"
     ]
    }
   ],
   "source": [
    "d=pgl.Discretizer()\n",
    "leaf= visualisation2d.leaf()\n",
    "stolon= visualisation2d.stolon()\n",
    "bud=visualisation2d.initiated_bud()\n",
    "Inflo= visualisation2d.Inflorescence()\n"
   ]
  },
  {
   "cell_type": "code",
   "execution_count": null,
   "metadata": {},
   "outputs": [],
   "source": [
    "stolon.apply(d) , bud.apply(d) # probleme in inflorescence() and leaf()"
   ]
  },
  {
   "cell_type": "code",
   "execution_count": null,
   "metadata": {},
   "outputs": [],
   "source": [
    "from math import radians\n",
    "cyl = pgl.Cylinder(0.01,0.5)\n",
    "cyl2 =  pgl.AxisRotated(axis=(0,1,0), angle= radians(60.), geometry= cyl)\n",
    "cyl3 = pgl.Translated(0,0,0.5,cyl2)\n",
    "cl4= pgl.Group(cyl,cyl3)\n",
    "\n",
    "disc= pgl.Disc()\n",
    "disc = pgl.Translated((-.5,0,0), disc)\n",
    "disc= pgl.AxisRotated(axis=(0,1,0), angle= radians(90.), geometry= disc)\n",
    "\n",
    "d1 = pgl.AxisRotated(axis=(1,0,0), angle=-radians(60.), geometry=disc)\n",
    "d2 = pgl.AxisRotated(axis=(1,0,0), angle=-radians(-60.), geometry=disc)\n",
    "d3 = pgl.AxisRotated(axis=(1,0,0), angle=0., geometry=disc)\n",
    "d1= pgl.Translated(0,0,1.6,d1)\n",
    "d3= pgl.Translated(0,0,1,d3)\n",
    "d2= pgl.Translated(0,0,1.6,d2)\n",
    "d1=pgl.Scaled((0.01,0.3,0.15), d1)\n",
    "d2=pgl.Scaled((0.01,0.3,0.15), d2)\n",
    "d3=pgl.Scaled((0.01,0.15,0.3), d3)\n",
    "\n",
    "leaflet= pgl.Group(d1,d2,d3)\n",
    "leaflet = pgl.AxisRotated(axis=(0,1,0),angle=radians(0),geometry=leaflet)\n",
    "leaflet = pgl.AxisRotated(axis=(1,0,0),angle=radians(60),geometry=leaflet)\n",
    "leaflet = pgl.AxisRotated(axis=(0,0,1),angle=radians(90),geometry=leaflet)\n",
    "\n",
    "leaflet = pgl.Translated((0.2,0,0.60),leaflet)\n",
    "shape=pgl.Group(cl4,leaflet)\n",
    "\n",
    "#return(shape)"
   ]
  },
  {
   "cell_type": "code",
   "execution_count": null,
   "metadata": {},
   "outputs": [],
   "source": [
    "from math import radians\n",
    "#petiol\n",
    "cyl = pgl.Cylinder(0.01,0.5)\n",
    "cyl2 = pgl.Cylinder(0.01,0.5)\n",
    "cyl2 =  pgl.AxisRotated(axis=(0,1,0), angle= radians(60.), geometry= cyl2)\n",
    "cyl2 = pgl.Translated(0,0,0.5,cyl2)\n",
    "\n",
    "d1= pgl.Disc()\n",
    "d1 =  pgl.Translated((0.9,0,0.75), d1)\n",
    "d1= pgl.AxisRotated(axis=(1,0,0), angle= radians(60.), geometry= d1)\n",
    "shape=pgl.Group(cyl,cyl2,d1)\n",
    "\n",
    "\n",
    "pgl.Viewer.display(shape)"
   ]
  },
  {
   "cell_type": "code",
   "execution_count": null,
   "metadata": {},
   "outputs": [],
   "source": [
    "d1= Disc()\n",
    "d1 = Translated((-.5,0,0), d1)\n",
    "d1= AxisRotated(axis=(0,1,0), angle= radians(90.), geometry= d1)\n",
    "\n",
    "d2= Disc()\n",
    "d2 = Translated((-.5,0,0), d2)\n",
    "d2= AxisRotated(axis=(0,1,0), angle= radians(90.), geometry= d2)\n",
    "\n",
    "d3= Disc()\n",
    "d3 = Translated((.5,0,0), d3)\n",
    "d3= AxisRotated(axis=(0,1,0), angle= radians(90.), geometry= d3)\n",
    "\n",
    "d1 = AxisRotated(axis=(1,0,0), angle=-radians(60.), geometry=d1)\n",
    "d2 = AxisRotated(axis=(1,0,0), angle=-radians(-60.), geometry=d2)\n",
    "d3 = AxisRotated(axis=(1,0,0), angle=0., geometry=d3)\n",
    "\n",
    "d1= Translated(0,0,1.6,d1)\n",
    "d3= Translated(0,0,1,d3)\n",
    "d2= Translated(0,0,1.6,d2)\n",
    "d1=Scaled((0.01,0.3,0.15), d1)\n",
    "d2=Scaled((0.01,0.3,0.15), d2)\n",
    "d3=Scaled((0.01,0.15,0.3), d3)\n",
    "\n",
    "pgl.Viewer.display(d1)"
   ]
  },
  {
   "cell_type": "markdown",
   "metadata": {},
   "source": [
    "### Visualization of the most central individuals\n",
    "\n",
    "To vizualise the most central individual you need to calculated the central individual for each date.  \n",
    "1. For this you must to extract MTG information of all properties for each genotype and date at plant scale using variables.extract_at_plant_scale function.\n",
    "2. From this extraction you use analysis.median_individuals fonction, which permit to calculate the most central individual based on meadian for must robusted.\n"
   ]
  },
  {
   "cell_type": "markdown",
   "metadata": {},
   "source": [
    "#### Extraction of data at plant scale using ariable.extract_at_plant_scale function"
   ]
  },
  {
   "cell_type": "markdown",
   "metadata": {},
   "source": [
    "* **Example for Gariguette**"
   ]
  },
  {
   "cell_type": "code",
   "execution_count": null,
   "metadata": {
    "scrolled": true
   },
   "outputs": [],
   "source": [
    "# Extraction of data at plant scale\n",
    "Gariguette_data_extraction_at_plant_scale = variables.extract_at_plant_scale(Gariguette)\n",
    "Gariguette_data_extraction_at_plant_scale"
   ]
  },
  {
   "cell_type": "markdown",
   "metadata": {},
   "source": [
    "+ **Example for Capriss**"
   ]
  },
  {
   "cell_type": "code",
   "execution_count": null,
   "metadata": {
    "scrolled": true
   },
   "outputs": [],
   "source": [
    "# Extraction of data at plant scale\n",
    "Capriss_data_extraction_at_plant_scale = variables.extract_at_plant_scale(Capriss)\n",
    "Capriss_data_extraction_at_plant_scale"
   ]
  },
  {
   "cell_type": "markdown",
   "metadata": {},
   "source": [
    "#### Calcul of the most central individual for each date using analysis.median_individuals function from extraction_at_plant_scale"
   ]
  },
  {
   "cell_type": "markdown",
   "metadata": {},
   "source": [
    "+ **Example with Gariguette**"
   ]
  },
  {
   "cell_type": "code",
   "execution_count": null,
   "metadata": {},
   "outputs": [],
   "source": [
    "# Function to select the most central individual with all variable \n",
    "Gariguette_most_central_individual = analysis.median_individuals(Gariguette_data_extraction_at_plant_scale)\n",
    "Gariguette_most_central_individual"
   ]
  },
  {
   "cell_type": "code",
   "execution_count": null,
   "metadata": {},
   "outputs": [],
   "source": [
    "Capriss_most_central_individual = analysis.median_individuals(Capriss_data_extraction_at_plant_scale)\n",
    "Capriss_most_central_individual"
   ]
  },
  {
   "cell_type": "markdown",
   "metadata": {},
   "source": [
    "#### Vizualisation of the most central plant along time"
   ]
  },
  {
   "cell_type": "markdown",
   "metadata": {},
   "source": [
    "+ **Example for Gariguette**"
   ]
  },
  {
   "cell_type": "code",
   "execution_count": null,
   "metadata": {},
   "outputs": [],
   "source": [
    "# selection of vid of median individuals\n",
    "pids = list(Gariguette_most_central_individual.vid)\n",
    "n = len(pids)\n",
    "\n",
    "# Plot 2D- visualisation of the most central plant\n",
    "scene= visualisation2d.plot2d(Gariguette, pids, dist=[6]*n, display=True)\n",
    "#PlantGL(scene, group_by_color= False)"
   ]
  },
  {
   "cell_type": "markdown",
   "metadata": {},
   "source": [
    "* **Example for Capriss**"
   ]
  },
  {
   "cell_type": "code",
   "execution_count": null,
   "metadata": {
    "scrolled": true
   },
   "outputs": [],
   "source": [
    "# selection of vid of median individuals\n",
    "pids = list(Capriss_most_central_individual.vid)\n",
    "n = len(pids)\n",
    "\n",
    "# Plot 2D- visualisation of the most central plant\n",
    "visualisation2d.plot2d(Capriss, pids, dist=[6]*n)"
   ]
  },
  {
   "cell_type": "code",
   "execution_count": null,
   "metadata": {},
   "outputs": [],
   "source": []
  }
 ],
 "metadata": {
  "kernelspec": {
   "display_name": "Python 3",
   "language": "python",
   "name": "python3"
  },
  "language_info": {
   "codemirror_mode": {
    "name": "ipython",
    "version": 3
   },
   "file_extension": ".py",
   "mimetype": "text/x-python",
   "name": "python",
   "nbconvert_exporter": "python",
   "pygments_lexer": "ipython3",
   "version": "3.7.9"
  }
 },
 "nbformat": 4,
 "nbformat_minor": 2
}
