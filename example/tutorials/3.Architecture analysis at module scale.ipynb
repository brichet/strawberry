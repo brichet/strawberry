{
 "cells": [
  {
   "cell_type": "markdown",
   "metadata": {},
   "source": [
    "# Architecture analysis at module scale"
   ]
  },
  {
   "cell_type": "markdown",
   "metadata": {},
   "source": [
    "## 0. Module Requierement"
   ]
  },
  {
   "cell_type": "markdown",
   "metadata": {},
   "source": [
    "### 0.1. import standard python modules"
   ]
  },
  {
   "cell_type": "code",
   "execution_count": null,
   "metadata": {},
   "outputs": [],
   "source": [
    "import pandas as pd\n",
    "import matplotlib.pyplot as plt"
   ]
  },
  {
   "cell_type": "markdown",
   "metadata": {},
   "source": [
    "### 0.3. import strawberry modules"
   ]
  },
  {
   "cell_type": "code",
   "execution_count": null,
   "metadata": {},
   "outputs": [],
   "source": [
    "import openalea.strawberry #import openalea.strawberry module\n",
    "from openalea.strawberry.Import_mtgfile import import_mtgfile\n",
    "from openalea.strawberry.Import_mtgfile import plant_number_by_varieties\n",
    "from openalea.strawberry.variables import extract_at_module_scale\n",
    "from openalea.strawberry.analysis import occurence_module_order_along_time, pointwisemean_plot, crowntype_distribution"
   ]
  },
  {
   "cell_type": "code",
   "execution_count": null,
   "metadata": {},
   "outputs": [],
   "source": [
    "# config\n",
    "pd.set_option('display.multi_sparse', False)"
   ]
  },
  {
   "cell_type": "markdown",
   "metadata": {},
   "source": [
    "## 1. Import  and read mtg files"
   ]
  },
  {
   "cell_type": "markdown",
   "metadata": {},
   "source": [
    "* Import and read mtg file for each varieties (Gariguette and Capriss)"
   ]
  },
  {
   "cell_type": "code",
   "execution_count": null,
   "metadata": {},
   "outputs": [],
   "source": [
    "Gariguette = import_mtgfile(filename= \"Gariguette\")\n",
    "Capriss = import_mtgfile(filename = \"Capriss\")\n",
    "Darselect = import_mtgfile(filename = \"Darselect\")\n",
    "Cir107 = import_mtgfile(filename = \"Cir107\")"
   ]
  },
  {
   "cell_type": "markdown",
   "metadata": {},
   "source": [
    "* Import and read mtg for the varities Gariguette and Capriss in the single big mtg file"
   ]
  },
  {
   "cell_type": "code",
   "execution_count": null,
   "metadata": {},
   "outputs": [],
   "source": [
    "All_varieties = import_mtgfile(filename=[\"Gariguette\",\"Capriss\",\"Darselect\",\"Cir107\"])\n",
    "plant_number_by_varieties(All_varieties)"
   ]
  },
  {
   "cell_type": "markdown",
   "metadata": {},
   "source": [
    "## 2. Extraction of data at module scale"
   ]
  },
  {
   "cell_type": "markdown",
   "metadata": {},
   "source": [
    "To study plant development at module scale you must extract data at module scale.  \n",
    "For this you use *variable.extract_at_module_scale* function"
   ]
  },
  {
   "cell_type": "markdown",
   "metadata": {},
   "source": [
    "* **Example with Gariguette**"
   ]
  },
  {
   "cell_type": "code",
   "execution_count": null,
   "metadata": {
    "scrolled": true
   },
   "outputs": [],
   "source": [
    "Gariguette_extraction_at_module_scale = extract_at_module_scale(Gariguette)\n",
    "Gariguette_extraction_at_module_scale"
   ]
  },
  {
   "cell_type": "markdown",
   "metadata": {},
   "source": [
    "* **Example with Capriss**"
   ]
  },
  {
   "cell_type": "code",
   "execution_count": null,
   "metadata": {
    "scrolled": true
   },
   "outputs": [],
   "source": [
    "Capriss_extraction_at_module_scale = extract_at_module_scale(Capriss)\n",
    "Capriss_extraction_at_module_scale"
   ]
  },
  {
   "cell_type": "markdown",
   "metadata": {},
   "source": [
    "* **Exemple of big mtg (All varieties) extraction at module scale**"
   ]
  },
  {
   "cell_type": "code",
   "execution_count": null,
   "metadata": {
    "scrolled": true
   },
   "outputs": [],
   "source": [
    "All_varieties_extraction_at_module_scale = extract_at_module_scale(All_varieties)\n",
    "All_varieties_extraction_at_module_scale"
   ]
  },
  {
   "cell_type": "markdown",
   "metadata": {},
   "source": [
    "## 3. Exploratory data analysis at module scale"
   ]
  },
  {
   "cell_type": "markdown",
   "metadata": {},
   "source": [
    "Exploratory analysis analysis at module scale consisted in comparing the frequency distribution of five main variables:  \n",
    "    1. Occurence of successive module orders along time\n",
    "    2. Number of leaves by module orders\n",
    "    3. Number of flowers  by module orders\n",
    "    4. Number of stolons by module orders\n",
    "    5. Type of crown (extension crown vs branch crown) by module orders"
   ]
  },
  {
   "cell_type": "markdown",
   "metadata": {},
   "source": [
    "### 3.1. Occurence of the successive module orders along time"
   ]
  },
  {
   "cell_type": "markdown",
   "metadata": {},
   "source": [
    "* **For Gariguette varieties**"
   ]
  },
  {
   "cell_type": "code",
   "execution_count": null,
   "metadata": {},
   "outputs": [],
   "source": [
    "Gariguette_frequency = occurence_module_order_along_time(data= Gariguette_extraction_at_module_scale,frequency_type= \"cdf\")\n",
    "Gariguette_frequency"
   ]
  },
  {
   "cell_type": "code",
   "execution_count": null,
   "metadata": {},
   "outputs": [],
   "source": [
    "Gariguette_frequency.plot.line(marker = \"o\")\n",
    "plt.axhline(y = 0.9, color = \"r\") # threshold at 0.9 quartile, \n",
    "plt.axhline(y = 0.75, color = \"b\") # threshold at 0.75 quartile\n",
    "plt.title(\"Occurence of succesive module order along time for Gariguette\")\n",
    "plt.ylabel(\"cdf\")"
   ]
  },
  {
   "cell_type": "markdown",
   "metadata": {},
   "source": [
    "* **For Capriss varieties**"
   ]
  },
  {
   "cell_type": "code",
   "execution_count": null,
   "metadata": {},
   "outputs": [],
   "source": [
    "Capriss_frequency = occurence_module_order_along_time(data= Capriss_extraction_at_module_scale,frequency_type= \"cdf\")\n",
    "Capriss_frequency"
   ]
  },
  {
   "cell_type": "code",
   "execution_count": null,
   "metadata": {},
   "outputs": [],
   "source": [
    "Capriss_frequency.plot.line(marker = \"p\")\n",
    "plt.axhline(y = 0.9, color = \"r\") # threshold at 0.9 quartile, \n",
    "plt.axhline(y = 0.75, color = \"b\") # threshold at 0.75 quartile\n",
    "plt.title(\"Occurence of successive module order for Capriss\")\n",
    "plt.ylabel(\"cdf\")"
   ]
  },
  {
   "cell_type": "markdown",
   "metadata": {},
   "source": [
    "### 3.2 Pointwise mean no. Leaves, Flowers, Stolon by module order"
   ]
  },
  {
   "cell_type": "markdown",
   "metadata": {},
   "source": [
    "The first step is calcul mean and standard deviation for each variable by genotype and order"
   ]
  },
  {
   "cell_type": "code",
   "execution_count": null,
   "metadata": {},
   "outputs": [],
   "source": [
    "Mean= All_varieties_extraction_at_module_scale.groupby([\"Genotype\", \"order\"]).mean()\n",
    "sd= All_varieties_extraction_at_module_scale.groupby([\"Genotype\", \"order\"]).std()"
   ]
  },
  {
   "cell_type": "code",
   "execution_count": null,
   "metadata": {},
   "outputs": [],
   "source": [
    "Mean"
   ]
  },
  {
   "cell_type": "code",
   "execution_count": null,
   "metadata": {
    "scrolled": true
   },
   "outputs": [],
   "source": [
    "sd"
   ]
  },
  {
   "cell_type": "markdown",
   "metadata": {},
   "source": [
    "#### 3.2.1 Pointwise mean no. leaves by module order and génotype"
   ]
  },
  {
   "cell_type": "code",
   "execution_count": null,
   "metadata": {},
   "outputs": [],
   "source": [
    "pointwisemean_plot(data_mean=Mean,\n",
    "                   data_sd=sd,\n",
    "                   varieties=[\"Gariguette\",\"Capriss\",\"Cir107\",\"Darselect\"], \n",
    "                   variable='nb_total_leaves',\n",
    "                   title= \"Pointwisemean of no.leaves\",\n",
    "                   ylab=\"Mean no.leaves\",\n",
    "                   expand= 0.1)"
   ]
  },
  {
   "cell_type": "markdown",
   "metadata": {},
   "source": [
    "#### 3.2.2 Pointwise mean of no. total flowers by genotype and orders"
   ]
  },
  {
   "cell_type": "code",
   "execution_count": null,
   "metadata": {},
   "outputs": [],
   "source": [
    "pointwisemean_plot(data_mean=Mean,\n",
    "                   data_sd=sd,\n",
    "                   varieties=[\"Gariguette\",\"Capriss\",\"Cir107\",\"Darselect\"], \n",
    "                   variable='nb_total_flowers',\n",
    "                   title= \"Pointwisemean of no. flowers\",\n",
    "                   ylab=\"Mean no. flowers\",\n",
    "                   expand= 0.1)"
   ]
  },
  {
   "cell_type": "markdown",
   "metadata": {},
   "source": [
    "### 3.4 Number of stolons by module orders"
   ]
  },
  {
   "cell_type": "code",
   "execution_count": null,
   "metadata": {
    "scrolled": true
   },
   "outputs": [],
   "source": [
    "pointwisemean_plot(data_mean=Mean,\n",
    "                   data_sd=sd,\n",
    "                   varieties=[\"Gariguette\",\"Capriss\",\"Cir107\",\"Darselect\"], \n",
    "                   variable='nb_stolons',\n",
    "                   title= \"Pointwisemean of no. stolons\",\n",
    "                   ylab=\"Mean no. stolons\", expand=0.1)"
   ]
  },
  {
   "cell_type": "markdown",
   "metadata": {},
   "source": [
    "### 3.5 Type of Crowns (Extension crown vs Branch crowns)"
   ]
  },
  {
   "cell_type": "code",
   "execution_count": null,
   "metadata": {},
   "outputs": [],
   "source": [
    "crowntype_distribution(data= All_varieties_extraction_at_module_scale, varieties=[\"Gariguette\",\"Capriss\",\"Cir107\",\"Darselect\"],crown_type=\"branch_crown\",expand=0.1)"
   ]
  },
  {
   "cell_type": "code",
   "execution_count": null,
   "metadata": {},
   "outputs": [],
   "source": [
    "t=crowntype_distribution(data= All_varieties_extraction_at_module_scale, varieties=[\"Gariguette\",\"Capriss\",\"Cir107\",\"Darselect\"],crown_type=\"extension_crown\",expand=0.1)"
   ]
  },
  {
   "cell_type": "code",
   "execution_count": null,
   "metadata": {},
   "outputs": [],
   "source": []
  },
  {
   "cell_type": "code",
   "execution_count": null,
   "metadata": {},
   "outputs": [],
   "source": []
  },
  {
   "cell_type": "code",
   "execution_count": null,
   "metadata": {},
   "outputs": [],
   "source": [
    "import statsmodels.sandbox.stats.multicomp"
   ]
  },
  {
   "cell_type": "code",
   "execution_count": null,
   "metadata": {},
   "outputs": [],
   "source": [
    "statsmodels.sandbox.stats.multicomp.MultiComparison(data= All_varieties_extraction_at_module_scale,groups=[\"Genotype\",\"order\"])"
   ]
  },
  {
   "cell_type": "code",
   "execution_count": null,
   "metadata": {},
   "outputs": [],
   "source": [
    "statsmodels.sandbox.stats.multicomp.MultiComparison()"
   ]
  },
  {
   "cell_type": "code",
   "execution_count": null,
   "metadata": {},
   "outputs": [],
   "source": []
  }
 ],
 "metadata": {
  "kernelspec": {
   "display_name": "Python 2",
   "language": "python",
   "name": "python2"
  },
  "language_info": {
   "codemirror_mode": {
    "name": "ipython",
    "version": 2
   },
   "file_extension": ".py",
   "mimetype": "text/x-python",
   "name": "python",
   "nbconvert_exporter": "python",
   "pygments_lexer": "ipython2",
   "version": "2.7.15"
  }
 },
 "nbformat": 4,
 "nbformat_minor": 2
}
