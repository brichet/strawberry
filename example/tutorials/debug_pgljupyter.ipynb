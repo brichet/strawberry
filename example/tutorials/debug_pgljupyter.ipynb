{
 "cells": [
  {
   "cell_type": "code",
   "execution_count": 1,
   "id": "5158ce23",
   "metadata": {},
   "outputs": [],
   "source": [
    "from math import radians\n",
    "import openalea.plantgl.all as pgl\n",
    "from pgljupyter import SceneWidget\n"
   ]
  },
  {
   "cell_type": "code",
   "execution_count": 2,
   "id": "336dae87",
   "metadata": {},
   "outputs": [],
   "source": [
    "length=1.\n",
    "width=1.\n",
    "disc = pgl.Translated((-0.5,0,0), pgl.Disc())\n",
    "disc = pgl.Scaled((length, width,1), disc)\n",
    "disc = pgl.AxisRotated(axis=(0,1,0), angle=radians(90.), geometry=disc)\n",
    "\n",
    "d1 = pgl.AxisRotated(axis=(1,0,0), angle=-radians(60.), geometry=disc)\n",
    "d2 = pgl.AxisRotated(axis=(1,0,0), angle=-radians(-60.), geometry=disc)\n"
   ]
  },
  {
   "cell_type": "code",
   "execution_count": 3,
   "id": "c3e9b2a2",
   "metadata": {},
   "outputs": [
    {
     "data": {
      "application/vnd.jupyter.widget-view+json": {
       "model_id": "76d56235a62146ecbd7f19cb2fbd22cd",
       "version_major": 2,
       "version_minor": 0
      },
      "text/plain": [
       "SceneWidget(scenes=[{'id': 'HKNehXzjlMIEQmkwPg5kKIPxF', 'data': b'x\\xdaSLrw\\xf5\\xf7e`Pp\\xe0\\xe5RPVVdc```be\\x08…"
      ]
     },
     "metadata": {},
     "output_type": "display_data"
    }
   ],
   "source": [
    "shape = pgl.Group([d1, d2])\n",
    "SceneWidget([d1, d2])"
   ]
  },
  {
   "cell_type": "code",
   "execution_count": 4,
   "id": "66b658b3",
   "metadata": {},
   "outputs": [],
   "source": [
    "from openalea.plantgl.ext.shape_database import ShapeDatabase"
   ]
  },
  {
   "cell_type": "code",
   "execution_count": 10,
   "id": "e2692cf0",
   "metadata": {},
   "outputs": [
    {
     "ename": "TypeError",
     "evalue": "'AxisRotated' object is not iterable",
     "output_type": "error",
     "traceback": [
      "\u001b[0;31m---------------------------------------------------------------------------\u001b[0m",
      "\u001b[0;31mTypeError\u001b[0m                                 Traceback (most recent call last)",
      "\u001b[0;32m<ipython-input-10-bf00c5a7cc9e>\u001b[0m in \u001b[0;36m<module>\u001b[0;34m\u001b[0m\n\u001b[0;32m----> 1\u001b[0;31m \u001b[0mfile\u001b[0m \u001b[0;34m=\u001b[0m \u001b[0mShapeDatabase\u001b[0m\u001b[0;34m(\u001b[0m\u001b[0md1\u001b[0m\u001b[0;34m)\u001b[0m\u001b[0;34m\u001b[0m\u001b[0;34m\u001b[0m\u001b[0m\n\u001b[0m",
      "\u001b[0;31mTypeError\u001b[0m: 'AxisRotated' object is not iterable"
     ]
    }
   ],
   "source": [
    "dict_shape = {'shp_id': 1, s}\n",
    "file = ShapeDatabase(d1)"
   ]
  },
  {
   "cell_type": "code",
   "execution_count": 8,
   "id": "ec83523b",
   "metadata": {},
   "outputs": [
    {
     "data": {
      "text/plain": [
       "<openalea.plantgl.scenegraph._pglsg.Scene at 0x7f81bed8f810>"
      ]
     },
     "execution_count": 8,
     "metadata": {},
     "output_type": "execute_result"
    }
   ],
   "source": [
    "file.scene()"
   ]
  }
 ],
 "metadata": {
  "kernelspec": {
   "display_name": "Python 3",
   "language": "python",
   "name": "python3"
  },
  "language_info": {
   "codemirror_mode": {
    "name": "ipython",
    "version": 3
   },
   "file_extension": ".py",
   "mimetype": "text/x-python",
   "name": "python",
   "nbconvert_exporter": "python",
   "pygments_lexer": "ipython3",
   "version": "3.8.10"
  }
 },
 "nbformat": 4,
 "nbformat_minor": 5
}
