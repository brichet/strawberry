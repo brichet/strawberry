{
 "cells": [
  {
   "cell_type": "markdown",
   "metadata": {},
   "source": [
    "# 1. Import module requirement\n",
    "\n",
    "## 1.1 Import standard Python modules"
   ]
  },
  {
   "cell_type": "code",
   "execution_count": 1,
   "metadata": {},
   "outputs": [],
   "source": [
    "from collections import OrderedDict, defaultdict"
   ]
  },
  {
   "cell_type": "markdown",
   "metadata": {},
   "source": [
    "## 1.2 Import openalea packages "
   ]
  },
  {
   "cell_type": "code",
   "execution_count": 2,
   "metadata": {},
   "outputs": [],
   "source": [
    "from openalea.deploy.shared_data import shared_data\n",
    "from openalea.mtg import *\n",
    "from openalea.mtg.algo import orders\n",
    "from openalea.mtg import stat\n",
    "import openalea.plantgl.all as pgl"
   ]
  },
  {
   "cell_type": "code",
   "execution_count": 3,
   "metadata": {},
   "outputs": [],
   "source": [
    "from openalea.core import path\n",
    "from openalea.mtg import *\n",
    "from openalea.deploy.shared_data import shared_data\n",
    "import glob"
   ]
  },
  {
   "cell_type": "markdown",
   "metadata": {},
   "source": [
    "## 1.3 Import strawberry modules"
   ]
  },
  {
   "cell_type": "code",
   "execution_count": 4,
   "metadata": {},
   "outputs": [
    {
     "ename": "ImportError",
     "evalue": "cannot import name 'Rules_production' from 'openalea.strawberry' (/home/gaetan/miniconda2/envs/strawberry/lib/python3.7/site-packages/OpenAlea.Strawberry-1.0.0-py3.7.egg/openalea/strawberry/__init__.py)",
     "output_type": "error",
     "traceback": [
      "\u001b[0;31m---------------------------------------------------------------------------\u001b[0m",
      "\u001b[0;31mImportError\u001b[0m                               Traceback (most recent call last)",
      "\u001b[0;32m<ipython-input-4-6160f77a6656>\u001b[0m in \u001b[0;36m<module>\u001b[0;34m\u001b[0m\n\u001b[1;32m      2\u001b[0m \u001b[0;34m\u001b[0m\u001b[0m\n\u001b[1;32m      3\u001b[0m \u001b[0;31m# rename Rules_production to geometry\u001b[0m\u001b[0;34m\u001b[0m\u001b[0;34m\u001b[0m\u001b[0;34m\u001b[0m\u001b[0m\n\u001b[0;32m----> 4\u001b[0;31m \u001b[0;32mfrom\u001b[0m \u001b[0mopenalea\u001b[0m\u001b[0;34m.\u001b[0m\u001b[0mstrawberry\u001b[0m \u001b[0;32mimport\u001b[0m \u001b[0mRules_production\u001b[0m\u001b[0;34m\u001b[0m\u001b[0;34m\u001b[0m\u001b[0m\n\u001b[0m\u001b[1;32m      5\u001b[0m \u001b[0;31m# Replace Visualisation by visualisation\u001b[0m\u001b[0;34m\u001b[0m\u001b[0;34m\u001b[0m\u001b[0;34m\u001b[0m\u001b[0m\n\u001b[1;32m      6\u001b[0m \u001b[0;32mfrom\u001b[0m \u001b[0mopenalea\u001b[0m\u001b[0;34m.\u001b[0m\u001b[0mstrawberry\u001b[0m \u001b[0;32mimport\u001b[0m \u001b[0mVisualization\u001b[0m\u001b[0;34m\u001b[0m\u001b[0;34m\u001b[0m\u001b[0m\n",
      "\u001b[0;31mImportError\u001b[0m: cannot import name 'Rules_production' from 'openalea.strawberry' (/home/gaetan/miniconda2/envs/strawberry/lib/python3.7/site-packages/OpenAlea.Strawberry-1.0.0-py3.7.egg/openalea/strawberry/__init__.py)"
     ]
    }
   ],
   "source": [
    "import openalea.strawberry\n",
    "\n",
    "# rename Rules_production to geometry\n",
    "from openalea.strawberry import Rules_production\n",
    "# Replace Visualisation by visualisation \n",
    "from openalea.strawberry import Visualization\n",
    "from openalea.strawberry import analysis\n",
    "\n",
    "# TODO: Move functions into ???\n",
    "#from openalea.strawberry import variables"
   ]
  },
  {
   "cell_type": "markdown",
   "metadata": {},
   "source": [
    "# 2. Import data and read MTG in files"
   ]
  },
  {
   "cell_type": "markdown",
   "metadata": {},
   "source": [
    "## 2.1 Import data"
   ]
  },
  {
   "cell_type": "code",
   "execution_count": null,
   "metadata": {},
   "outputs": [],
   "source": [
    "%gui qt4\n",
    "\n",
    "files = shared_data(openalea.strawberry).glob('*.mtg')\n",
    "#print files\n",
    "\n",
    "genotypes = dict((f.namebase, f) for f in files)\n",
    "#print(genotypes.keys())\n",
    "\n",
    "DIPLOIDS = ['Sicile_New','Nils_New']\n",
    "OCTOPLOIDS = ['Gariguette_NEW','Darselect_New','Clery_New','Capriss_New','Cir107_NEW','Ciflorette_New']\n",
    "\n",
    "diploids = dict((k,f) for k,f in genotypes.items() if k in DIPLOIDS)\n",
    "print(diploids)\n",
    "\n",
    "octoploids = dict((k,f) for k,f in genotypes.items() if k in OCTOPLOIDS)\n",
    "#print(octoploids)"
   ]
  },
  {
   "cell_type": "markdown",
   "metadata": {},
   "source": [
    "## 2.2 Load one octoploid and one diploid  genotype \n",
    "\n",
    "A set of strawberry plant architecture has been measured and is stored in an MTG."
   ]
  },
  {
   "cell_type": "markdown",
   "metadata": {},
   "source": [
    "- We select on octoploid and/or one diploid genotype for architectural analysis."
   ]
  },
  {
   "cell_type": "code",
   "execution_count": null,
   "metadata": {},
   "outputs": [],
   "source": [
    "#OCTOPLOIDS = ['Gariguette_NEW','Darselect_New','Clery_New','Capriss_New''Cir107_NEW','Ciflorette_New']\n",
    "#DIPLOIDS = ['Sicile_New','Nils_New.mtg']\n",
    "\n",
    "di_genotype = 'Sicile_New'\n",
    "oct_genotype = 'Ciflorette_New'\n",
    "\n",
    "gdi = MTG(diploids[di_genotype])\n",
    "print('Diploid  : ', str(gdi))\n",
    "\n",
    "goct = MTG(octoploids[oct_genotype])\n",
    "print('Octoploid  : ', str(goct))"
   ]
  },
  {
   "cell_type": "markdown",
   "metadata": {},
   "source": [
    "* Check number of plant present in MTG"
   ]
  },
  {
   "cell_type": "code",
   "execution_count": 6,
   "metadata": {},
   "outputs": [
    {
     "ename": "NameError",
     "evalue": "name 'gdi' is not defined",
     "output_type": "error",
     "traceback": [
      "\u001b[0;31m---------------------------------------------------------------------------\u001b[0m",
      "\u001b[0;31mNameError\u001b[0m                                 Traceback (most recent call last)",
      "\u001b[0;32m<ipython-input-6-3e36a11c48e7>\u001b[0m in \u001b[0;36m<module>\u001b[0;34m\u001b[0m\n\u001b[1;32m      1\u001b[0m \u001b[0;31m# Diploid\u001b[0m\u001b[0;34m\u001b[0m\u001b[0;34m\u001b[0m\u001b[0;34m\u001b[0m\u001b[0m\n\u001b[0;32m----> 2\u001b[0;31m \u001b[0mnb_plants\u001b[0m \u001b[0;34m=\u001b[0m \u001b[0mgdi\u001b[0m\u001b[0;34m.\u001b[0m\u001b[0mnb_vertices\u001b[0m\u001b[0;34m(\u001b[0m\u001b[0mscale\u001b[0m\u001b[0;34m=\u001b[0m\u001b[0;36m1\u001b[0m\u001b[0;34m)\u001b[0m\u001b[0;34m\u001b[0m\u001b[0;34m\u001b[0m\u001b[0m\n\u001b[0m\u001b[1;32m      3\u001b[0m \u001b[0mprint\u001b[0m\u001b[0;34m(\u001b[0m\u001b[0mnb_plants\u001b[0m\u001b[0;34m)\u001b[0m\u001b[0;34m\u001b[0m\u001b[0;34m\u001b[0m\u001b[0m\n\u001b[1;32m      4\u001b[0m \u001b[0;34m\u001b[0m\u001b[0m\n\u001b[1;32m      5\u001b[0m \u001b[0;31m# Octoploid\u001b[0m\u001b[0;34m\u001b[0m\u001b[0;34m\u001b[0m\u001b[0;34m\u001b[0m\u001b[0m\n",
      "\u001b[0;31mNameError\u001b[0m: name 'gdi' is not defined"
     ]
    }
   ],
   "source": [
    "# Diploid\n",
    "nb_plants = gdi.nb_vertices(scale=1)\n",
    "print(nb_plants)\n",
    "\n",
    "# Octoploid\n",
    "nb_plants = goct.nb_vertices(scale=1)\n",
    "print(nb_plants)"
   ]
  },
  {
   "cell_type": "markdown",
   "metadata": {},
   "source": [
    "## 2.3 Load whole octoploids or diploids in one big MTG\n",
    "\n",
    "A set of strawberry plant architecture has been measured and is stored in an MTG."
   ]
  },
  {
   "cell_type": "markdown",
   "metadata": {},
   "source": [
    "- We select whole octoploids genotype for architectural analysis."
   ]
  },
  {
   "cell_type": "code",
   "execution_count": null,
   "metadata": {},
   "outputs": [],
   "source": [
    "big_mtg = MTG()\n",
    "for fn in OCTOPLOIDS:\n",
    "    big_mtg = algo.union(big_mtg,MTG(octoploids[fn]))\n",
    "    g = big_mtg\n",
    "    \n",
    "genotypes = set(g.property(\"Genotype\").itervalues())\n",
    "print genotypes"
   ]
  },
  {
   "cell_type": "markdown",
   "metadata": {},
   "source": [
    "- We select whole diploids genotype for architectural analysis."
   ]
  },
  {
   "cell_type": "code",
   "execution_count": 11,
   "metadata": {},
   "outputs": [
    {
     "name": "stdout",
     "output_type": "stream",
     "text": [
      "replace all the date format by -\n",
      "replace all the date format by -\n",
      "set(['Nils', 'Sicile'])\n"
     ]
    }
   ],
   "source": [
    "big_mtg = MTG()\n",
    "for fn in DIPLOIDS:\n",
    "    big_mtg = algo.union(big_mtg,MTG(diploids[fn]))\n",
    "    g = big_mtg\n",
    "    \n",
    "genotypes = set(g.property(\"Genotype\").itervalues())\n",
    "print genotypes"
   ]
  },
  {
   "cell_type": "code",
   "execution_count": null,
   "metadata": {},
   "outputs": [],
   "source": []
  },
  {
   "cell_type": "code",
   "execution_count": null,
   "metadata": {},
   "outputs": [],
   "source": []
  }
 ],
 "metadata": {
  "kernelspec": {
   "display_name": "Python 3",
   "language": "python",
   "name": "python3"
  },
  "language_info": {
   "codemirror_mode": {
    "name": "ipython",
    "version": 3
   },
   "file_extension": ".py",
   "mimetype": "text/x-python",
   "name": "python",
   "nbconvert_exporter": "python",
   "pygments_lexer": "ipython3",
   "version": "3.7.9"
  }
 },
 "nbformat": 4,
 "nbformat_minor": 2
}
