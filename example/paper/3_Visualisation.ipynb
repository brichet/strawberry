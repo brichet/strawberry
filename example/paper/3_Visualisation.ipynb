{
 "cells": [
  {
   "cell_type": "markdown",
   "metadata": {},
   "source": [
    "# Shematic visualization of strowberry plant"
   ]
  },
  {
   "cell_type": "markdown",
   "metadata": {},
   "source": [
    "## Production rules\n",
    "    1- A Trifoliate Leaf (Phytomer)\n",
    "He's composed of internod followed a petiole and 3 foliar dics\n",
    "\n",
    "    2-Buds, sphere with little radius which color differ according to status\n",
    "        -A Vegetative Bud (green)\n",
    "        -A initiated Bud (orange)\n",
    "        -A Floral bud (red)\n",
    "    3-A stolon\n",
    "    4-TerminalBuds, sphere with importante status which color differ according to status \n",
    "        -A Terminal Vegetative Buds (green) \n",
    "        -A Terminal Initated buds (orange)\n",
    "        -A Terminal Floral buds (red)\n",
    "    5- An Inflorescence\n",
    "\n"
   ]
  },
  {
   "cell_type": "code",
   "execution_count": 1,
   "metadata": {},
   "outputs": [
    {
     "name": "stdout",
     "output_type": "stream",
     "text": [
      "NOT using graph editor observer No module named grapheditor\n"
     ]
    }
   ],
   "source": [
    "from openalea.core import path\n",
    "from openalea.plantgl.all import *\n",
    "from openalea.mtg import *\n",
    "from openalea.deploy.shared_data import shared_data\n",
    "from math import radians\n",
    "import openalea.strawberry\n",
    "%gui qt4"
   ]
  },
  {
   "cell_type": "code",
   "execution_count": 2,
   "metadata": {},
   "outputs": [
    {
     "name": "stdout",
     "output_type": "stream",
     "text": [
      "replace all the date format by -\n"
     ]
    },
    {
     "data": {
      "text/plain": [
       "Path(u'c:\\\\users\\\\mlabadie\\\\appdata\\\\local\\\\continuum\\\\miniconda2\\\\envs\\\\strawberry\\\\lib\\\\site-packages\\\\openalea.strawberry-1.0.0-py2.7.egg\\\\share\\\\data\\\\Gariguette_NEW.mtg')"
      ]
     },
     "execution_count": 2,
     "metadata": {},
     "output_type": "execute_result"
    }
   ],
   "source": [
    "\n",
    "files = shared_data(openalea.strawberry).glob('*.mtg')#,share_path=\"share\\\\data\\\\TopModel\").glob('*.mtg')\n",
    "g= MTG(files[12])\n",
    "files[12]"
   ]
  },
  {
   "cell_type": "markdown",
   "metadata": {},
   "source": [
    "### 0- Colors"
   ]
  },
  {
   "cell_type": "code",
   "execution_count": 3,
   "metadata": {},
   "outputs": [],
   "source": [
    "shoot_color=Material(\"green\",Color3(0,255,0))\n",
    "vegbud_color=Material(\"green\",Color3(0,40,0))\n",
    "initbud_color = Material(\"orange\",Color3(255,128,0))\n",
    "floral_color= Material(\"red\",Color3(255,0,0))"
   ]
  },
  {
   "cell_type": "markdown",
   "metadata": {},
   "source": [
    "### 1-Leaves"
   ]
  },
  {
   "cell_type": "markdown",
   "metadata": {},
   "source": [
    "###1.1 Unifoliate leaf"
   ]
  },
  {
   "cell_type": "markdown",
   "metadata": {},
   "source": [
    "###1.2 Trifoliate leaf"
   ]
  },
  {
   "cell_type": "code",
   "execution_count": 5,
   "metadata": {},
   "outputs": [],
   "source": [
    "def leaf():\n",
    "    cyl = Cylinder(0.01,0.5)\n",
    "    cyl2 =  AxisRotated(axis=(0,1,0), angle= radians(60.), geometry= cyl)\n",
    "    cyl3 = Translated(0,0,0.5,cyl2)\n",
    "    cl4= Group(cyl,cyl3)\n",
    "\n",
    "    disc= Disc()\n",
    "    disc = Translated((-.5,0,0), disc)\n",
    "    disc= AxisRotated(axis=(0,1,0), angle= radians(90.), geometry= disc)\n",
    "\n",
    "    d1 = AxisRotated(axis=(1,0,0), angle=-radians(60.), geometry=disc)\n",
    "    d2 = AxisRotated(axis=(1,0,0), angle=-radians(-60.), geometry=disc)\n",
    "    d3 = AxisRotated(axis=(1,0,0), angle=0., geometry=disc)\n",
    "    d1= Translated(0,0,1.6,d1)\n",
    "    d3= Translated(0,0,1,d3)\n",
    "    d2= Translated(0,0,1.6,d2)\n",
    "    d1=Scaled((0.01,0.3,0.15), d1)\n",
    "    d2=Scaled((0.01,0.3,0.15), d2)\n",
    "    d3=Scaled((0.01,0.15,0.3), d3)\n",
    "\n",
    "    leaflet= Group(d1,d2,d3)\n",
    "    leaflet = AxisRotated(axis=(0,1,0),angle=radians(0),geometry=leaflet)\n",
    "    leaflet = AxisRotated(axis=(1,0,0),angle=radians(60),geometry=leaflet)\n",
    "    leaflet = AxisRotated(axis=(0,0,1),angle=radians(90),geometry=leaflet)\n",
    "\n",
    "    leaflet = Translated((0.2,0,0.60),leaflet)\n",
    "    shape=Group(cl4,leaflet)\n",
    "    #leafs= [Shape(cl4,shoot_color),Shape(leaflet,shoot_color)]\n",
    "    #return Scene(leafs)\n",
    "    return(shape)\n",
    "\n",
    "Viewer.display(leaf())\n"
   ]
  },
  {
   "cell_type": "markdown",
   "metadata": {},
   "source": [
    "### 2-Buds object"
   ]
  },
  {
   "cell_type": "code",
   "execution_count": 6,
   "metadata": {},
   "outputs": [],
   "source": [
    "# vegetative buds\n",
    "\n",
    "def vegetative_bud():\n",
    "    sphere = Sphere(.1) \n",
    "    vegbud = [Shape(sphere,vegbud_color)]\n",
    "    return Scene(vegbud)\n",
    "\n",
    "Viewer.display(vegetative_bud())"
   ]
  },
  {
   "cell_type": "code",
   "execution_count": 7,
   "metadata": {},
   "outputs": [],
   "source": [
    "# Initiated buds\n",
    "def initiated_bud():\n",
    "    sphere = Sphere(.1) \n",
    "    initbud = [Shape(sphere,initbud_color)]\n",
    "    #return Scene(initbud)\n",
    "    return sphere\n",
    "Viewer.display(initiated_bud())"
   ]
  },
  {
   "cell_type": "code",
   "execution_count": 7,
   "metadata": {},
   "outputs": [
    {
     "ename": "NameError",
     "evalue": "global name 'floral_color' is not defined",
     "output_type": "error",
     "traceback": [
      "\u001b[1;31m---------------------------------------------------------------------------\u001b[0m",
      "\u001b[1;31mNameError\u001b[0m                                 Traceback (most recent call last)",
      "\u001b[1;32m<ipython-input-7-83f336409100>\u001b[0m in \u001b[0;36m<module>\u001b[1;34m()\u001b[0m\n\u001b[0;32m      4\u001b[0m     \u001b[0mflobud\u001b[0m\u001b[1;33m=\u001b[0m \u001b[1;33m[\u001b[0m\u001b[0mShape\u001b[0m\u001b[1;33m(\u001b[0m\u001b[0msphere\u001b[0m\u001b[1;33m,\u001b[0m\u001b[0mfloral_color\u001b[0m\u001b[1;33m)\u001b[0m\u001b[1;33m]\u001b[0m\u001b[1;33m\u001b[0m\u001b[0m\n\u001b[0;32m      5\u001b[0m     \u001b[1;32mreturn\u001b[0m \u001b[0mScene\u001b[0m\u001b[1;33m(\u001b[0m\u001b[0mflobud\u001b[0m\u001b[1;33m)\u001b[0m\u001b[1;33m\u001b[0m\u001b[0m\n\u001b[1;32m----> 6\u001b[1;33m \u001b[0mViewer\u001b[0m\u001b[1;33m.\u001b[0m\u001b[0mdisplay\u001b[0m\u001b[1;33m(\u001b[0m\u001b[0mfloral_bud\u001b[0m\u001b[1;33m(\u001b[0m\u001b[1;33m)\u001b[0m\u001b[1;33m)\u001b[0m\u001b[1;33m\u001b[0m\u001b[0m\n\u001b[0m",
      "\u001b[1;32m<ipython-input-7-83f336409100>\u001b[0m in \u001b[0;36mfloral_bud\u001b[1;34m()\u001b[0m\n\u001b[0;32m      2\u001b[0m \u001b[1;32mdef\u001b[0m \u001b[0mfloral_bud\u001b[0m\u001b[1;33m(\u001b[0m\u001b[1;33m)\u001b[0m\u001b[1;33m:\u001b[0m\u001b[1;33m\u001b[0m\u001b[0m\n\u001b[0;32m      3\u001b[0m     \u001b[0msphere\u001b[0m \u001b[1;33m=\u001b[0m \u001b[0mSphere\u001b[0m\u001b[1;33m(\u001b[0m\u001b[1;36m.1\u001b[0m\u001b[1;33m)\u001b[0m\u001b[1;33m\u001b[0m\u001b[0m\n\u001b[1;32m----> 4\u001b[1;33m     \u001b[0mflobud\u001b[0m\u001b[1;33m=\u001b[0m \u001b[1;33m[\u001b[0m\u001b[0mShape\u001b[0m\u001b[1;33m(\u001b[0m\u001b[0msphere\u001b[0m\u001b[1;33m,\u001b[0m\u001b[0mfloral_color\u001b[0m\u001b[1;33m)\u001b[0m\u001b[1;33m]\u001b[0m\u001b[1;33m\u001b[0m\u001b[0m\n\u001b[0m\u001b[0;32m      5\u001b[0m     \u001b[1;32mreturn\u001b[0m \u001b[0mScene\u001b[0m\u001b[1;33m(\u001b[0m\u001b[0mflobud\u001b[0m\u001b[1;33m)\u001b[0m\u001b[1;33m\u001b[0m\u001b[0m\n\u001b[0;32m      6\u001b[0m \u001b[0mViewer\u001b[0m\u001b[1;33m.\u001b[0m\u001b[0mdisplay\u001b[0m\u001b[1;33m(\u001b[0m\u001b[0mfloral_bud\u001b[0m\u001b[1;33m(\u001b[0m\u001b[1;33m)\u001b[0m\u001b[1;33m)\u001b[0m\u001b[1;33m\u001b[0m\u001b[0m\n",
      "\u001b[1;31mNameError\u001b[0m: global name 'floral_color' is not defined"
     ]
    }
   ],
   "source": [
    "# Floral buds \n",
    "def floral_bud():\n",
    "    sphere = Sphere(.1) \n",
    "    flobud= [Shape(sphere,floral_color)]\n",
    "    return Scene(flobud)\n",
    "Viewer.display(floral_bud())"
   ]
  },
  {
   "cell_type": "markdown",
   "metadata": {},
   "source": [
    "### 3- Stolon"
   ]
  },
  {
   "cell_type": "code",
   "execution_count": 170,
   "metadata": {},
   "outputs": [],
   "source": [
    "\n",
    "def stolon():\n",
    "    cyl = Cylinder(0.01,0.5)\n",
    "    cyl2 = Cylinder(0.01,0.2)\n",
    "    cyl3 = Cylinder(0.01,0.2)\n",
    "    cyl = AxisRotated(axis=(0,1,0), angle= radians(30.), geometry= cyl)\n",
    "    cyl2 = AxisRotated(axis=(0,1,0), angle= -radians(120.), geometry= cyl2)\n",
    "    cyl3 = AxisRotated(axis=(0,1,0), angle= -radians(180.), geometry= cyl3)\n",
    "    cyl2= Translated((0.26,0,0.45),cyl2)\n",
    "    cyl3= Translated((0.26,0,0.45),cyl3)\n",
    "    sto= Group([cyl,cyl2,cyl3])\n",
    "    stol = [Shape(sto,shoot_color)]                   \n",
    "    return sto\n",
    "\n",
    "#Viewer.display(stolon())  "
   ]
  },
  {
   "cell_type": "markdown",
   "metadata": {},
   "source": [
    "### 4-TerminalBuds object"
   ]
  },
  {
   "cell_type": "code",
   "execution_count": 171,
   "metadata": {},
   "outputs": [],
   "source": [
    "# Terminal vegetative buds\n",
    "\n",
    "def terminal_vegetative_bud():\n",
    "    sphere = Sphere(.2)\n",
    "    sphere_color= Material(\"green\",Color3(0,40,0))\n",
    "    sphere= Translated((0,0,0.5),sphere)\n",
    "    cyl= Cylinder(0.01,0.5)\n",
    "    cyl_color= Material(\"green\",Color3(0,255,0))\n",
    "    shape = Group([sphere,cyl])\n",
    "    tvegbud= [Shape(cyl,shoot_color),Shape(sphere,vegbud_color)]\n",
    "    return Scene(tvegbud)\n",
    "\n",
    "#Viewer.display(terminal_vegetative_bud())"
   ]
  },
  {
   "cell_type": "code",
   "execution_count": 172,
   "metadata": {},
   "outputs": [],
   "source": [
    "# Terminal Initiated buds\n",
    "def terminal_initated_bud():\n",
    "    sphere = Sphere(.2)\n",
    "    sphere= Translated((0,0,0.5),sphere)\n",
    "    cyl= Cylinder(0.01,0.5)\n",
    "    shape = Group([sphere,cyl])\n",
    "    terminalbud_color= [Shape(cyl,shoot_color),Shape(sphere,initbud_color)]\n",
    "    return Scene(terminalbud_color)\n",
    "#Viewer.display(terminal_initated_bud())"
   ]
  },
  {
   "cell_type": "code",
   "execution_count": 173,
   "metadata": {},
   "outputs": [],
   "source": [
    "# Terminal Floral buds \n",
    "def terminal_floral_bud():\n",
    "    sphere = Sphere(.1)\n",
    "    sphere= Translated((0,0,0.5),sphere)\n",
    "    cyl= Cylinder(0.01,0.5)\n",
    "    cyl_color= Material(\"green\",Color3(0,255,0))\n",
    "    shape = Group([sphere,cyl])\n",
    "    return shape\n",
    "    #tflobud= [Shape(cyl,shoot_color),Shape(sphere,floral_color)]\n",
    "    #return Scene(tflobud)\n",
    "#Viewer.display(terminal_floral_bud())"
   ]
  },
  {
   "cell_type": "markdown",
   "metadata": {},
   "source": [
    "### 5-Inflorescence "
   ]
  },
  {
   "cell_type": "code",
   "execution_count": 174,
   "metadata": {},
   "outputs": [],
   "source": [
    "def Inflorescence():\n",
    "    box = Box(.1,0.1,0.15)\n",
    "    box_axis = AxisRotated(axis=(0,1,0), angle =45.,geometry=box)\n",
    "    box2 = Translated(.5,0,.8,box_axis)\n",
    "\n",
    "    cyl = Cylinder(.01,0.5)\n",
    "    cyl2 =  AxisRotated(axis=(0,1,0), angle= 45., geometry= cyl)\n",
    "    cyl3 = Translated(0,0,0.5,cyl2)\n",
    "\n",
    "    shape= Group([cyl,cyl3,box2])\n",
    "    Inflorescence= [Shape(cyl,shoot_color),Shape(cyl3,shoot_color),Shape(box2,floral_color)]\n",
    "    return shape\n",
    "    \n",
    "\n",
    "#Viewer.display(Inflorescence())"
   ]
  },
  {
   "cell_type": "code",
   "execution_count": 175,
   "metadata": {},
   "outputs": [],
   "source": [
    "initbud=[initiated_bud()]\n",
    "initbud= Translated(0,0,0,initbud[0])"
   ]
  },
  {
   "cell_type": "code",
   "execution_count": 176,
   "metadata": {},
   "outputs": [],
   "source": [
    "leaves=[leaf() for i in range(3)]\n",
    "leaves= [Translated(0,0,0,leaves[0]),Translated(0,0,0.5,leaves[1]),Translated(0,0,1,leaves[2])]\n",
    "leaves= [AxisRotated(axis=(0,0,1),angle=0,geometry=leaves[0]),AxisRotated(axis=(0,0,1),angle=radians(180),geometry=leaves[1]),\n",
    "         AxisRotated(axis=(0,0,1),angle=0,geometry=leaves[2])]\n",
    "\n",
    "initbud=[initiated_bud()]\n",
    "initbud= [Translated(.04,0,0.56,initbud[0])]\n",
    "\n",
    "sto= [stolon()]\n",
    "sto=[Translated(0,0,1,sto[0])]\n",
    "sto= [AxisRotated(axis=(0,0,1),angle=radians(180),geometry=sto[0])]\n",
    "\n",
    "inflo=[Inflorescence()]\n",
    "inflo=[Translated(0,0,1.5,inflo[0])]\n",
    "inflo=[AxisRotated(axis=(0,0,1),angle=radians(180),geometry=inflo[0])]\n",
    "\n",
    "shape= [Group(leaves[0],leaves[1],leaves[2],initbud[0],sto[0]),inflo[0]]\n",
    "scene= Scene(shape)\n",
    "#Viewer.display(scene)"
   ]
  },
  {
   "cell_type": "markdown",
   "metadata": {},
   "source": [
    "# Try to draw a full MTG\n",
    "\n",
    "## Let's go guy, no worry...\n",
    "\n",
    "### TODO: \n",
    "- Add visible on MTG\n",
    "- Move all the functions into a module"
   ]
  },
  {
   "cell_type": "code",
   "execution_count": 177,
   "metadata": {},
   "outputs": [],
   "source": [
    "# imports\n",
    "from openalea.mtg import *\n",
    "from openalea.mtg.turtle import *\n",
    "from math import radians"
   ]
  },
  {
   "cell_type": "code",
   "execution_count": 178,
   "metadata": {},
   "outputs": [],
   "source": [
    "\n",
    "def type_of_crown(vid, g=g):\n",
    "    \"\"\" Returns the type of crown.\n",
    "    \n",
    "    Definition of type of crown (1, 2, 3):\n",
    "     - principal crown (1): label == T \n",
    "     - branch_crown (2)\n",
    "         parent(component_roots()[0]) : if successor() == F  \n",
    "     - extension_crown (3): contains(HT, ht, bt) \n",
    "     - error (4)\n",
    "     \n",
    "    \"\"\"\n",
    "    if g.scale(vid) == 3:\n",
    "        vid = g.complex(vid)\n",
    "        \n",
    "    if g.label(vid) == 'T':\n",
    "        return 1\n",
    "    else:\n",
    "        cid = g.component_roots_iter(vid).next()\n",
    "        pid = g.parent(cid)\n",
    "        sid = g.Successor(pid)\n",
    "        #print sid\n",
    "        if g.label(sid) in ('F','f'): \n",
    "            return 2\n",
    "        elif g.label(sid) in ('bt', 'ht', 'HT'):\n",
    "            return 3\n",
    "        else:\n",
    "            # ERROR !!!\n",
    "            print g[cid], g[g.complex_at_scale(cid, scale=1)]\n",
    "            return 4"
   ]
  },
  {
   "cell_type": "code",
   "execution_count": 179,
   "metadata": {},
   "outputs": [],
   "source": [
    "def drawable(g):\n",
    "    drawables = {}\n",
    "    max_scale = g.max_scale()\n",
    "    vids = g.component_roots_at_scale_iter(g.root, scale=max_scale)\n",
    "    for root in vids:\n",
    "        for v in traversal.pre_order2(g,root):\n",
    "            pid = g.parent(v)\n",
    "                \n",
    "            if pid is not None and drawables[pid] is False:\n",
    "                drawables[v] = False\n",
    "            else:\n",
    "                if g.edge_type(v) == '+' and g.label(pid) =='f':\n",
    "                    drawables[v] = False\n",
    "                else:\n",
    "                    drawables[v] = True\n",
    "    g.properties()['drawable'] = drawables\n",
    "drawable(g)\n",
    "                    \n",
    "                    "
   ]
  },
  {
   "cell_type": "code",
   "execution_count": 180,
   "metadata": {},
   "outputs": [],
   "source": [
    "# Function for color entities\n",
    "PLANTULE=False\n",
    "def color_code(g):\n",
    "    shoot_green = (0,255,0)\n",
    "    vegetative = (0,128,0)\n",
    "    initiated= (125,125,0)\n",
    "    floral= (255,0,0)\n",
    "    stolon= (255,255,255)\n",
    "    labels = g.property('label')\n",
    "    for v in g.vertices(scale=g.max_scale()):\n",
    "        nid = g.node(v)\n",
    "        if nid.label == 'F':\n",
    "            if PLANTULE:\n",
    "                foliar_type= nid.Foliar_type\n",
    "                if nid.Foliar_type =='Cotyledon':\n",
    "                    nid.color=(0,0,255)\n",
    "                elif nid.Foliar_type=='Unifoliate':\n",
    "                    nid.color=(125,125,125)\n",
    "            else:\n",
    "                nid.color = shoot_green\n",
    "        elif nid.label == 's':\n",
    "            nid.color = stolon\n",
    "        elif nid.label == 'bt':\n",
    "            stade = nid.Stade\n",
    "            if stade is None:\n",
    "                nid.color = vegetative\n",
    "            elif stade in ('17', '18', '19'):\n",
    "                nid.color=vegetative\n",
    "            elif stade == 'A':\n",
    "                nid.color = initiated\n",
    "            elif stade in 'BCDEFGH':\n",
    "                nid.color = floral\n",
    "        elif nid.label == 'ht':\n",
    "            stade = nid.Stade\n",
    "            if stade is None:\n",
    "                nid.color = vegetative\n",
    "            elif stade in ('17', '18', '19'):\n",
    "                nid.color= vegetative\n",
    "            elif stade == 'A':\n",
    "                nid.color = initiated\n",
    "            elif stade in 'BCDEFGH':\n",
    "                nid.color = floral\n",
    "            else:\n",
    "                nid.color = (153, 102, 51)\n",
    "        elif nid.label == 'HT':\n",
    "            stade = nid.Stade\n",
    "            if stade is None:\n",
    "                nid.color = vegetative\n",
    "            elif stade in ('17', '18', '19'):\n",
    "                nid.color= vegetative\n",
    "            else:\n",
    "                nid.color = floral"
   ]
  },
  {
   "cell_type": "code",
   "execution_count": 181,
   "metadata": {},
   "outputs": [],
   "source": [
    "def get_functions(label):\n",
    "    if label == 'F':\n",
    "        return leaf\n",
    "    \n",
    "def is_visible(g, v):\n",
    "    if g.edge_type(v) == '+' and g.label(v) == 'F':\n",
    "        return True\n",
    "    else: \n",
    "        return False"
   ]
  },
  {
   "cell_type": "code",
   "execution_count": 182,
   "metadata": {},
   "outputs": [],
   "source": [
    "# Compute the number of branch crown that are content in the upper tree\n",
    "def graph_layout(g):\n",
    "    \"\"\" Compute the distance between branch to minimize the overlaping between crowns. \"\"\"\n",
    "    branch_ratio = {}\n",
    "    max_scale = g.max_scale()\n",
    "    roots = [v for v in g.component_roots_at_scale(0,scale=max_scale)]\n",
    "    for root in roots:\n",
    "        for v in traversal.post_order2(g, root, complex=None):\n",
    "            branch_ratio[v] =  sum(branch_ratio[cid] for cid in g.children(v) if g.node(cid).ramif)\n",
    "            if g.label(v) =='F' and is_visible(g,v) and type_of_crown(v, g=g)!=3:\n",
    "                branch_ratio[v] = 2*branch_ratio[v]+1\n",
    "                g.node(v).ramif = 1\n",
    "            else: \n",
    "                g.node(v).ramif = max([g.node(cid).ramif for cid in g.children(v)]+[0])\n",
    "                \n",
    "\n",
    "\n",
    "\n",
    "    g.properties()['branch_ratio'] = branch_ratio\n",
    "graph_layout(g)"
   ]
  },
  {
   "cell_type": "code",
   "execution_count": 183,
   "metadata": {},
   "outputs": [],
   "source": [
    "def my_visitor(g, v, turtle, time=0):\n",
    "    turtle.setWidth(0.01)\n",
    "    nid = g.node(v)\n",
    "    label = g.label(v)\n",
    "    draw_it = nid.drawable\n",
    "    branch_ratio = nid.branch_ratio\n",
    "    \n",
    "    if label in ('F','f'):\n",
    "        turtle.rollL(180.)\n",
    "    turtle.setId(v)\n",
    "    \n",
    "    advance = 0.5\n",
    "    \n",
    "    if not draw_it:\n",
    "        pass\n",
    "    elif label == 'F':\n",
    "        if is_visible(g, v):\n",
    "            if type_of_crown(v, g) == 3:\n",
    "                turtle.rollL(180.)\n",
    "                angle = 30.\n",
    "                length = 0.5\n",
    "            else:\n",
    "                angle = 90.\n",
    "                length = 1.5 * branch_ratio \n",
    "                print 'v:%d, length:%d'%(v, branch_ratio)\n",
    "                \n",
    "            turtle.down(angle)\n",
    "            turtle.F(length)\n",
    "            turtle.down(-angle)\n",
    "        custom = leaf()\n",
    "        t.customGeometry(custom)\n",
    "        t.f(advance)\n",
    "    elif label == 'f':\n",
    "        pass\n",
    "    elif label == 's':\n",
    "        custom = stolon()\n",
    "        t.customGeometry(custom)\n",
    "    elif label == 'ht':\n",
    "        # TODO: Do not draw elements \n",
    "        custom = initiated_bud()\n",
    "        t.customGeometry(custom)\n",
    "    elif label == 'HT':\n",
    "        custom = Inflorescence()\n",
    "        t.customGeometry(custom)\n",
    "        t.f(advance)\n",
    "    elif label == 'bt':\n",
    "        custom = initiated_bud()\n",
    "        t.down(30.)\n",
    "        t.f(0.05)\n",
    "        t.customGeometry(custom)\n",
    "            "
   ]
  },
  {
   "cell_type": "code",
   "execution_count": 184,
   "metadata": {},
   "outputs": [
    {
     "data": {
      "text/plain": [
       "54"
      ]
     },
     "execution_count": 184,
     "metadata": {},
     "output_type": "execute_result"
    }
   ],
   "source": [
    "max_scale=3\n",
    "roots = [v for v in g.component_roots_at_scale(0, scale=max_scale)]\n",
    "len(roots)"
   ]
  },
  {
   "cell_type": "code",
   "execution_count": 185,
   "metadata": {},
   "outputs": [
    {
     "data": {
      "text/plain": [
       "'\\nmax_scale = g.max_scale()\\ncolor_code(g)\\nfor plant in range(0,54):#range(-10, 0):\\n    t = PglTurtle()\\n    vid = roots[plant]\\n    scene = turtle.traverse_with_turtle(g, vid, visitor=my_visitor, turtle=t, gc=False)\\n    Viewer.display(scene)\\n    cid = g.node(vid).complex_at_scale(scale=1)\\n    string = \" Plant = %d, Genotype = %s, date = %s \"%(cid.Plante, cid.Genotype, cid.date)\\n    Viewer.waitSelection(string)\\n'"
      ]
     },
     "execution_count": 185,
     "metadata": {},
     "output_type": "execute_result"
    }
   ],
   "source": [
    "\"\"\"\n",
    "max_scale = g.max_scale()\n",
    "color_code(g)\n",
    "for plant in range(0,54):#range(-10, 0):\n",
    "    t = PglTurtle()\n",
    "    vid = roots[plant]\n",
    "    scene = turtle.traverse_with_turtle(g, vid, visitor=my_visitor, turtle=t, gc=False)\n",
    "    Viewer.display(scene)\n",
    "    cid = g.node(vid).complex_at_scale(scale=1)\n",
    "    string = \" Plant = %d, Genotype = %s, date = %s \"%(cid.Plante, cid.Genotype, cid.date)\n",
    "    Viewer.waitSelection(string)\n",
    "\"\"\""
   ]
  },
  {
   "cell_type": "code",
   "execution_count": 186,
   "metadata": {},
   "outputs": [
    {
     "data": {
      "text/plain": [
       "3"
      ]
     },
     "execution_count": 186,
     "metadata": {},
     "output_type": "execute_result"
    }
   ],
   "source": [
    "cid = g.node(vid).complex_at_scale(scale=1)\n",
    "cid.Genotype\n",
    "g.max_scale()"
   ]
  },
  {
   "cell_type": "code",
   "execution_count": 188,
   "metadata": {},
   "outputs": [
    {
     "name": "stdout",
     "output_type": "stream",
     "text": [
      "set(['Gariguette'])\n",
      "set([1, 2, 3, 4, 5, 6, 7, 8, 9])\n",
      "set(['10-12-2014', '19-05-2015', '06-03-2015', '12-02-2015', '02-04-2015', '08-01-2015'])\n"
     ]
    }
   ],
   "source": [
    "# Property Genotype / Date / Plante\n",
    "# Selection: Clery / 642976\n",
    "\n",
    "print set(g.property('Genotype').values())\n",
    "print (set(g.property('Plant_ID').values()))\n",
    "print (set(g.property('Sample_date').values()))\n",
    "\n",
    "\"\"\" V1, V2: according to median leaf, inflo,primoinflo, total inflo,stolon, order and stolon, v3: all variable\"\"\"\n",
    "genotypes = ['Gariguette']\n",
    "#plants = [('10-12-2014',9),('08-01-2015', 8), ('12-02-2015',9), ('06-03-2015',8), ('02-04-2015',7), ('19-05-2015',1)]\n",
    "#plants = [('10-12-2014',9),('08-01-2015', 8), ('12-02-2015',9), ('06-03-2015',8), ('02-04-2015',7), ('19-05-2015',1)]\n",
    "#plants = [('10-12-2014',9),('08-01-2015', 5), ('12-02-2015',8), ('06-03-2015',5), ('02-04-2015',7), ('19-05-2015',1)]\n",
    "plants = [('10-12-2014',6),('08-01-2015', 6), ('12-02-2015',8), ('06-03-2015',3), ('02-04-2015',6), ('19-05-2015',1)]\n",
    "vids = [v for v in g.vertices(scale=1) for d,p in plants if (g.node(v).Sample_date==d and g.node(v).Plant_ID==p)]\n",
    "\n",
    "#genotypes = ['Clery']\n",
    "#plants = [('10-12-2014',7), ('07-01-2015', 1), ('15-02-2015',5), ('02-03-2015',6), ('03-04-2015',2), ('27-05-2015',2)]\n",
    "#plants = [('10-12-2014',7), ('07-01-2015', 1), ('15-02-2015',5), ('02-03-2015',6), ('03-04-2015',2), ('27-05-2015',4)]\n",
    "#plants = [('10-12-2014',3), ('07-01-2015', 8), ('15-02-2015',6), ('02-03-2015',3), ('03-04-2015',1), ('27-05-2015',4)]\n",
    "#plants = [('10-12-2014',6), ('07-01-2015', 2), ('15-02-2015',5), ('02-03-2015',6), ('03-04-2015',2), ('27-05-2015',7)]\n",
    "#plants = [('10-12-2014',6), ('07-01-2015', 4), ('15-02-2015',5), ('02-03-2015',6), ('03-04-2015',2), ('27-05-2015',2)]\n",
    "#vids = [v for v in g.vertices(scale=1) for d,p in plants if (g.node(v).Sample_date==d and g.node(v).Plant_ID==p)]\n",
    "\n",
    "#genotypes = ['Capriss']\n",
    "#plants = [('10-12-2014',7), ('07-01-2015', 7), ('15-02-2015',6), ('02-03-2015',6), ('03-04-2015',5), ('27-05-2015',4)]\n",
    "#plants = [('10-12-2014',7), ('07-01-2015', 2), ('15-02-2015',5), ('02-03-2015',6), ('03-04-2015',6), ('27-05-2015',8)]\n",
    "#plants = [('10-12-2014',4), ('07-01-2015', 7), ('15-02-2015',5), ('02-03-2015',6), ('03-04-2015',6), ('27-05-2015',9)]\n",
    "#plants = [('10-12-2014',5), ('07-01-2015', 5), ('15-02-2015',8), ('02-03-2015',6), ('03-04-2015',5), ('27-05-2015',8)]\n",
    "#vids = [v for v in g.vertices(scale=1) for d,p in plants if (g.node(v).Sample_date==d and g.node(v).Plant_ID==p)]\n",
    "\n",
    "#genotypes = ['Ciflorette']\n",
    "#plants = [('04-12-2014',6), ('07-01-2015', 4), ('13-02-2015',8), ('02-03-2015',3), ('30-03-2015',7), ('27-05-2015',9)]\n",
    "#plants = [('04-12-2014',6), ('07-01-2015', 4), ('13-02-2015',8), ('02-03-2015',3), ('30-03-2015',7), ('27-05-2015',5)]\n",
    "#plants = [('04-12-2014',4), ('07-01-2015', 4), ('13-02-2015',7), ('02-03-2015',3), ('30-03-2015',7), ('27-05-2015',2)]\n",
    "#plants = [('04-12-2014',6), ('07-01-2015', 4), ('13-02-2015',2), ('02-03-2015',9), ('30-03-2015',7), ('27-05-2015',5)]\n",
    "#plants= [('04-12-2014',1)]\n",
    "\n",
    "#vids = [v for v in g.vertices(scale=1) for d,p in plants if (g.node(v).Sample_date==d and g.node(v).Plant_ID==p)]\n",
    "\n",
    "#genotypes = ['Cir107']\n",
    "#plants = [('10-12-2014',5), ('08-01-2015', 4), ('11-02-2015',9), ('04-03-2015',9), ('02-04-2015',2), ('20-05-2015',3)]\n",
    "#plants = [('10-12-2014',5), ('08-01-2015', 4), ('11-02-2015',9), ('04-03-2015',2), ('02-04-2015',7), ('20-05-2015',2)]\n",
    "#plants = [('10-12-2014',2), ('08-01-2015', 9), ('11-02-2015',4), ('04-03-2015',2), ('02-04-2015',2), ('20-05-2015',2)]\n",
    "#plants = [('10-12-2014',9), ('08-01-2015', 2), ('11-02-2015',8), ('04-03-2015',8), ('02-04-2015',9), ('20-05-2015',6)]\n",
    "#vids = [v for v in g.vertices(scale=1) for d,p in plants if (g.node(v).Sample_date==d and g.node(v).Plant_ID==p)]\n",
    "\n",
    "#genotypes = ['Darselect']\n",
    "#plants = [('10-12-2014',5), ('09-01-2015', 4), ('11-02-2015',4), ('06-03-2015',2), ('03-04-2015',5), ('20-05-2015',8)]\n",
    "#plants = [('10-12-2014',5), ('09-01-2015', 5), ('11-02-2015',4), ('06-03-2015',9), ('03-04-2015',5), ('20-05-2015',8)]\n",
    "#plants = [('10-12-2014',5), ('09-01-2015', 5), ('11-02-2015',4), ('06-03-2015',6), ('03-04-2015',4), ('20-05-2015',8)]\n",
    "#plants = [('10-12-2014',2), ('09-01-2015', 3), ('11-02-2015',6), ('06-03-2015',2), ('03-04-2015',5), ('20-05-2015',3)]\n",
    "#plants = [('10-12-2014',9), ('09-01-2015', 8), ('11-02-2015',5), ('06-03-2015',5), ('03-04-2015',5), ('20-05-2015',7)]\n",
    "#vids = [v for v in g.vertices(scale=1) for d,p in plants if (g.node(v).Sample_date==d and g.node(v).Plant_ID==p)]\n",
    "#print vids"
   ]
  },
  {
   "cell_type": "code",
   "execution_count": 189,
   "metadata": {},
   "outputs": [
    {
     "name": "stdout",
     "output_type": "stream",
     "text": [
      "v:2744, length:1\n",
      "v:3130, length:1\n",
      "v:4589, length:1\n",
      "v:4610, length:1\n",
      "v:5189, length:1\n",
      "v:5222, length:1\n"
     ]
    }
   ],
   "source": [
    "#dist = [8]*6\n",
    "dist = [5, 5, 6, 8, 8, 100]\n",
    "\n",
    "scene = Scene()\n",
    "position = Vector3()\n",
    "max_scale = g.max_scale()\n",
    "color_code(g)\n",
    "for i, rid in enumerate(vids):\n",
    "    t = PglTurtle()\n",
    "    \n",
    "    vid = g.component_roots_at_scale_iter(rid, scale=max_scale).next()\n",
    "    _scene = turtle.traverse_with_turtle(g, vid, visitor=my_visitor, turtle=t, gc=False)\n",
    "    \n",
    "    ds = _scene.todict()\n",
    "\n",
    "    for shid in ds:\n",
    "        for sh in ds[shid]:\n",
    "            sh.geometry = Translated(position, sh.geometry)\n",
    "            scene.add(sh)\n",
    "    position.x += dist[i]\n",
    "    \n",
    "Viewer.display(scene)\n",
    "    #cid = g.node(vid).complex_at_scale(scale=1)\n",
    "    #string = \" Plant = %d, Genotype = %s, date = %s \"%(cid.Plante, cid.Genotype, cid.date)\n",
    "    #Viewer.waitSelection(string)"
   ]
  },
  {
   "cell_type": "code",
   "execution_count": null,
   "metadata": {},
   "outputs": [],
   "source": []
  },
  {
   "cell_type": "code",
   "execution_count": null,
   "metadata": {},
   "outputs": [],
   "source": []
  }
 ],
 "metadata": {
  "kernelspec": {
   "display_name": "Python 2",
   "language": "python",
   "name": "python2"
  },
  "language_info": {
   "codemirror_mode": {
    "name": "ipython",
    "version": 2
   },
   "file_extension": ".py",
   "mimetype": "text/x-python",
   "name": "python",
   "nbconvert_exporter": "python",
   "pygments_lexer": "ipython2",
   "version": "2.7.14"
  }
 },
 "nbformat": 4,
 "nbformat_minor": 1
}
