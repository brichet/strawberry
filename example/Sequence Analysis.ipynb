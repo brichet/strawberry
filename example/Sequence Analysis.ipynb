{
 "cells": [
  {
   "cell_type": "code",
   "execution_count": 1,
   "metadata": {},
   "outputs": [
    {
     "data": {
      "text/plain": [
       "' import module R'"
      ]
     },
     "execution_count": 1,
     "metadata": {},
     "output_type": "execute_result"
    }
   ],
   "source": [
    "\"\"\"Module import\"\"\"\n",
    "\n",
    "\"\"\"Import module of openalea packages\"\"\"\n",
    "from openalea.core import path\n",
    "from openalea.mtg import *\n",
    "from openalea.mtg.algo import orders\n",
    "from openalea.mtg import stat\n",
    "from openalea.deploy.shared_data import shared_data\n",
    "import openalea.plantgl.all as pgl\n",
    "\n",
    "\"\"\" Import module of strawberry packages\"\"\"\n",
    "import openalea.strawberry\n",
    "from openalea.strawberry import Rules_production\n",
    "from openalea.strawberry import Visualization\n",
    "from openalea.strawberry import analysis\n",
    "\n",
    "\"\"\" import module R\"\"\"\n",
    "#from rpy2 import *\n"
   ]
  },
  {
   "cell_type": "code",
   "execution_count": 2,
   "metadata": {},
   "outputs": [
    {
     "name": "stdout",
     "output_type": "stream",
     "text": [
      "[Path(u'c:\\\\users\\\\mlabadie\\\\miniconda2\\\\envs\\\\openalea\\\\lib\\\\site-packages\\\\openalea.strawberry-1.0.0-py2.7.egg\\\\share\\\\data\\\\Capriss.mtg'), Path(u'c:\\\\users\\\\mlabadie\\\\miniconda2\\\\envs\\\\openalea\\\\lib\\\\site-packages\\\\openalea.strawberry-1.0.0-py2.7.egg\\\\share\\\\data\\\\Ciflorette.mtg'), Path(u'c:\\\\users\\\\mlabadie\\\\miniconda2\\\\envs\\\\openalea\\\\lib\\\\site-packages\\\\openalea.strawberry-1.0.0-py2.7.egg\\\\share\\\\data\\\\Cir107.mtg'), Path(u'c:\\\\users\\\\mlabadie\\\\miniconda2\\\\envs\\\\openalea\\\\lib\\\\site-packages\\\\openalea.strawberry-1.0.0-py2.7.egg\\\\share\\\\data\\\\Clery.mtg'), Path(u'c:\\\\users\\\\mlabadie\\\\miniconda2\\\\envs\\\\openalea\\\\lib\\\\site-packages\\\\openalea.strawberry-1.0.0-py2.7.egg\\\\share\\\\data\\\\Darselect.mtg'), Path(u'c:\\\\users\\\\mlabadie\\\\miniconda2\\\\envs\\\\openalea\\\\lib\\\\site-packages\\\\openalea.strawberry-1.0.0-py2.7.egg\\\\share\\\\data\\\\friendlyfruit.mtg'), Path(u'c:\\\\users\\\\mlabadie\\\\miniconda2\\\\envs\\\\openalea\\\\lib\\\\site-packages\\\\openalea.strawberry-1.0.0-py2.7.egg\\\\share\\\\data\\\\friendlyfruit_varieties.mtg'), Path(u'c:\\\\users\\\\mlabadie\\\\miniconda2\\\\envs\\\\openalea\\\\lib\\\\site-packages\\\\openalea.strawberry-1.0.0-py2.7.egg\\\\share\\\\data\\\\friendlyfruit_varieties_finale.mtg'), Path(u'c:\\\\users\\\\mlabadie\\\\miniconda2\\\\envs\\\\openalea\\\\lib\\\\site-packages\\\\openalea.strawberry-1.0.0-py2.7.egg\\\\share\\\\data\\\\Gariguette.mtg'), Path(u'c:\\\\users\\\\mlabadie\\\\miniconda2\\\\envs\\\\openalea\\\\lib\\\\site-packages\\\\openalea.strawberry-1.0.0-py2.7.egg\\\\share\\\\data\\\\Nils.mtg'), Path(u'c:\\\\users\\\\mlabadie\\\\miniconda2\\\\envs\\\\openalea\\\\lib\\\\site-packages\\\\openalea.strawberry-1.0.0-py2.7.egg\\\\share\\\\data\\\\origine_stolon_gariguetteDV_6novembre2018.mtg')]\n"
     ]
    },
    {
     "name": "stderr",
     "output_type": "stream",
     "text": [
      "ERROR:tornado.application:Exception in callback <functools.partial object at 0x000000000A62EE08>\n",
      "Traceback (most recent call last):\n",
      "  File \"C:\\Users\\mlabadie\\Miniconda2\\envs\\openalea\\lib\\site-packages\\tornado\\ioloop.py\", line 759, in _run_callback\n",
      "    ret = callback()\n",
      "  File \"C:\\Users\\mlabadie\\Miniconda2\\envs\\openalea\\lib\\site-packages\\tornado\\stack_context.py\", line 276, in null_wrapper\n",
      "    return fn(*args, **kwargs)\n",
      "  File \"C:\\Users\\mlabadie\\Miniconda2\\envs\\openalea\\lib\\site-packages\\ipykernel\\kernelbase.py\", line 263, in enter_eventloop\n",
      "    self.eventloop(self)\n",
      "  File \"C:\\Users\\mlabadie\\Miniconda2\\envs\\openalea\\lib\\site-packages\\ipykernel\\eventloops.py\", line 134, in loop_qt5\n",
      "    return loop_qt4(kernel)\n",
      "  File \"C:\\Users\\mlabadie\\Miniconda2\\envs\\openalea\\lib\\site-packages\\ipykernel\\eventloops.py\", line 116, in loop_qt4\n",
      "    kernel.app = get_app_qt4([\" \"])\n",
      "  File \"C:\\Users\\mlabadie\\Miniconda2\\envs\\openalea\\lib\\site-packages\\IPython\\lib\\guisupport.py\", line 111, in get_app_qt4\n",
      "    from IPython.external.qt_for_kernel import QtGui\n",
      "  File \"C:\\Users\\mlabadie\\Miniconda2\\envs\\openalea\\lib\\site-packages\\IPython\\external\\qt_for_kernel.py\", line 94, in <module>\n",
      "    QtCore, QtGui, QtSvg, QT_API = load_qt(api_opts)\n",
      "  File \"C:\\Users\\mlabadie\\Miniconda2\\envs\\openalea\\lib\\site-packages\\IPython\\external\\qt_loaders.py\", line 296, in load_qt\n",
      "    api_options))\n",
      "ImportError: \n",
      "    Could not load requested Qt binding. Please ensure that\n",
      "    PyQt4 >= 4.7, PyQt5 or PySide >= 1.0.3 is available,\n",
      "    and only one is imported per session.\n",
      "\n",
      "    Currently-imported Qt library:                              None\n",
      "    PyQt4 available (requires QtCore, QtGui, QtSvg):            True\n",
      "    PyQt5 available (requires QtCore, QtGui, QtSvg, QtWidgets): False\n",
      "    PySide >= 1.0.3 installed:                                  False\n",
      "    Tried to load:                                              ['pyqt5']\n",
      "    \n"
     ]
    }
   ],
   "source": [
    "% gui qt\n",
    "files = shared_data(openalea.strawberry).glob('*.mtg')\n",
    "files = files[0:-1]\n",
    "print files"
   ]
  },
  {
   "cell_type": "code",
   "execution_count": 3,
   "metadata": {},
   "outputs": [
    {
     "name": "stdout",
     "output_type": "stream",
     "text": [
      "c:\\users\\mlabadie\\miniconda2\\envs\\openalea\\lib\\site-packages\\openalea.strawberry-1.0.0-py2.7.egg\\share\\data\\friendlyfruit.mtg\n"
     ]
    }
   ],
   "source": [
    "print files[5]\n",
    "g=MTG(files[5]) "
   ]
  },
  {
   "cell_type": "code",
   "execution_count": 4,
   "metadata": {},
   "outputs": [
    {
     "ename": "RuntimeError",
     "evalue": "maximum recursion depth exceeded",
     "output_type": "error",
     "traceback": [
      "\u001b[1;31m---------------------------------------------------------------------------\u001b[0m",
      "\u001b[1;31mRuntimeError\u001b[0m                              Traceback (most recent call last)",
      "\u001b[1;32m<ipython-input-4-22e250165ab5>\u001b[0m in \u001b[0;36m<module>\u001b[1;34m()\u001b[0m\n\u001b[0;32m      2\u001b[0m \u001b[0mbig_mtg\u001b[0m \u001b[1;33m=\u001b[0m \u001b[0mMTG\u001b[0m\u001b[1;33m(\u001b[0m\u001b[1;33m)\u001b[0m\u001b[1;33m\u001b[0m\u001b[0m\n\u001b[0;32m      3\u001b[0m \u001b[1;32mfor\u001b[0m \u001b[0mfn\u001b[0m \u001b[1;32min\u001b[0m \u001b[0mfiles\u001b[0m\u001b[1;33m:\u001b[0m\u001b[1;33m\u001b[0m\u001b[0m\n\u001b[1;32m----> 4\u001b[1;33m     \u001b[0mbig_mtg\u001b[0m \u001b[1;33m=\u001b[0m \u001b[0malgo\u001b[0m\u001b[1;33m.\u001b[0m\u001b[0munion\u001b[0m\u001b[1;33m(\u001b[0m\u001b[0mbig_mtg\u001b[0m\u001b[1;33m,\u001b[0m \u001b[0mMTG\u001b[0m\u001b[1;33m(\u001b[0m\u001b[0mfn\u001b[0m\u001b[1;33m)\u001b[0m\u001b[1;33m)\u001b[0m\u001b[1;33m\u001b[0m\u001b[0m\n\u001b[0m\u001b[0;32m      5\u001b[0m \u001b[0mg\u001b[0m \u001b[1;33m=\u001b[0m \u001b[0mbig_mtg\u001b[0m\u001b[1;33m\u001b[0m\u001b[0m\n\u001b[0;32m      6\u001b[0m \u001b[0mgenotypes\u001b[0m \u001b[1;33m=\u001b[0m \u001b[0mset\u001b[0m\u001b[1;33m(\u001b[0m\u001b[0mg\u001b[0m\u001b[1;33m.\u001b[0m\u001b[0mproperty\u001b[0m\u001b[1;33m(\u001b[0m\u001b[1;34m\"Genotype\"\u001b[0m\u001b[1;33m)\u001b[0m\u001b[1;33m.\u001b[0m\u001b[0mitervalues\u001b[0m\u001b[1;33m(\u001b[0m\u001b[1;33m)\u001b[0m\u001b[1;33m)\u001b[0m\u001b[1;33m\u001b[0m\u001b[0m\n",
      "\u001b[1;32mc:\\users\\mlabadie\\miniconda2\\envs\\openalea\\lib\\site-packages\\openalea.mtg-2.0.1-py2.7.egg\\openalea\\mtg\\mtg.pyc\u001b[0m in \u001b[0;36m__init__\u001b[1;34m(self, filename, has_date)\u001b[0m\n\u001b[0;32m     94\u001b[0m         \u001b[1;32mif\u001b[0m \u001b[0mfilename\u001b[0m\u001b[1;33m:\u001b[0m\u001b[1;33m\u001b[0m\u001b[0m\n\u001b[0;32m     95\u001b[0m             \u001b[1;32mfrom\u001b[0m \u001b[0mio\u001b[0m \u001b[1;32mimport\u001b[0m \u001b[0mread_mtg_file\u001b[0m\u001b[1;33m\u001b[0m\u001b[0m\n\u001b[1;32m---> 96\u001b[1;33m             \u001b[0mself\u001b[0m \u001b[1;33m=\u001b[0m \u001b[0mread_mtg_file\u001b[0m\u001b[1;33m(\u001b[0m\u001b[0mfilename\u001b[0m\u001b[1;33m,\u001b[0m \u001b[0mmtg\u001b[0m\u001b[1;33m=\u001b[0m\u001b[0mself\u001b[0m\u001b[1;33m,\u001b[0m \u001b[0mhas_date\u001b[0m\u001b[1;33m=\u001b[0m\u001b[0mhas_date\u001b[0m\u001b[1;33m)\u001b[0m\u001b[1;33m\u001b[0m\u001b[0m\n\u001b[0m\u001b[0;32m     97\u001b[0m \u001b[1;33m\u001b[0m\u001b[0m\n\u001b[0;32m     98\u001b[0m     \u001b[1;32mdef\u001b[0m \u001b[0m__getitem__\u001b[0m\u001b[1;33m(\u001b[0m\u001b[0mself\u001b[0m\u001b[1;33m,\u001b[0m \u001b[0mvtx_id\u001b[0m\u001b[1;33m)\u001b[0m\u001b[1;33m:\u001b[0m\u001b[1;33m\u001b[0m\u001b[0m\n",
      "\u001b[1;32mc:\\users\\mlabadie\\miniconda2\\envs\\openalea\\lib\\site-packages\\openalea.mtg-2.0.1-py2.7.egg\\openalea\\mtg\\io.pyc\u001b[0m in \u001b[0;36mread_mtg_file\u001b[1;34m(fn, mtg, has_date)\u001b[0m\n\u001b[0;32m   1305\u001b[0m     \u001b[0mtxt\u001b[0m \u001b[1;33m=\u001b[0m \u001b[0mf\u001b[0m\u001b[1;33m.\u001b[0m\u001b[0mread\u001b[0m\u001b[1;33m(\u001b[0m\u001b[1;33m)\u001b[0m\u001b[1;33m\u001b[0m\u001b[0m\n\u001b[0;32m   1306\u001b[0m     \u001b[0mf\u001b[0m\u001b[1;33m.\u001b[0m\u001b[0mclose\u001b[0m\u001b[1;33m(\u001b[0m\u001b[1;33m)\u001b[0m\u001b[1;33m\u001b[0m\u001b[0m\n\u001b[1;32m-> 1307\u001b[1;33m     \u001b[1;32mreturn\u001b[0m \u001b[0mread_mtg\u001b[0m\u001b[1;33m(\u001b[0m\u001b[0mtxt\u001b[0m\u001b[1;33m,\u001b[0m \u001b[0mmtg\u001b[0m\u001b[1;33m=\u001b[0m\u001b[0mmtg\u001b[0m\u001b[1;33m,\u001b[0m \u001b[0mhas_date\u001b[0m\u001b[1;33m=\u001b[0m\u001b[0mhas_date\u001b[0m\u001b[1;33m)\u001b[0m\u001b[1;33m\u001b[0m\u001b[0m\n\u001b[0m\u001b[0;32m   1308\u001b[0m \u001b[1;33m\u001b[0m\u001b[0m\n\u001b[0;32m   1309\u001b[0m \u001b[1;33m\u001b[0m\u001b[0m\n",
      "\u001b[1;32mc:\\users\\mlabadie\\miniconda2\\envs\\openalea\\lib\\site-packages\\openalea.mtg-2.0.1-py2.7.egg\\openalea\\mtg\\io.pyc\u001b[0m in \u001b[0;36mread_mtg\u001b[1;34m(s, mtg, has_date)\u001b[0m\n\u001b[0;32m   1290\u001b[0m     \"\"\"\n\u001b[0;32m   1291\u001b[0m     \u001b[0mreader\u001b[0m \u001b[1;33m=\u001b[0m \u001b[0mReader\u001b[0m\u001b[1;33m(\u001b[0m\u001b[0ms\u001b[0m\u001b[1;33m,\u001b[0m \u001b[0mmtg\u001b[0m\u001b[1;33m=\u001b[0m\u001b[0mmtg\u001b[0m\u001b[1;33m,\u001b[0m \u001b[0mhas_date\u001b[0m\u001b[1;33m=\u001b[0m\u001b[0mhas_date\u001b[0m\u001b[1;33m)\u001b[0m\u001b[1;33m\u001b[0m\u001b[0m\n\u001b[1;32m-> 1292\u001b[1;33m     \u001b[0mg\u001b[0m \u001b[1;33m=\u001b[0m \u001b[0mreader\u001b[0m\u001b[1;33m.\u001b[0m\u001b[0mparse\u001b[0m\u001b[1;33m(\u001b[0m\u001b[1;33m)\u001b[0m\u001b[1;33m\u001b[0m\u001b[0m\n\u001b[0m\u001b[0;32m   1293\u001b[0m     \u001b[1;32mreturn\u001b[0m \u001b[0mg\u001b[0m\u001b[1;33m\u001b[0m\u001b[0m\n\u001b[0;32m   1294\u001b[0m \u001b[1;33m\u001b[0m\u001b[0m\n",
      "\u001b[1;32mc:\\users\\mlabadie\\miniconda2\\envs\\openalea\\lib\\site-packages\\openalea.mtg-2.0.1-py2.7.egg\\openalea\\mtg\\io.pyc\u001b[0m in \u001b[0;36mparse\u001b[1;34m(self)\u001b[0m\n\u001b[0;32m    918\u001b[0m         \"\"\"\n\u001b[0;32m    919\u001b[0m         \u001b[0mself\u001b[0m\u001b[1;33m.\u001b[0m\u001b[0mheader\u001b[0m\u001b[1;33m(\u001b[0m\u001b[1;33m)\u001b[0m\u001b[1;33m\u001b[0m\u001b[0m\n\u001b[1;32m--> 920\u001b[1;33m         \u001b[0mself\u001b[0m\u001b[1;33m.\u001b[0m\u001b[0mcode\u001b[0m\u001b[1;33m(\u001b[0m\u001b[1;33m)\u001b[0m\u001b[1;33m\u001b[0m\u001b[0m\n\u001b[0m\u001b[0;32m    921\u001b[0m \u001b[1;33m\u001b[0m\u001b[0m\n\u001b[0;32m    922\u001b[0m         \u001b[0mself\u001b[0m\u001b[1;33m.\u001b[0m\u001b[0merrors\u001b[0m\u001b[1;33m(\u001b[0m\u001b[1;33m)\u001b[0m\u001b[1;33m\u001b[0m\u001b[0m\n",
      "\u001b[1;32mc:\\users\\mlabadie\\miniconda2\\envs\\openalea\\lib\\site-packages\\openalea.mtg-2.0.1-py2.7.egg\\openalea\\mtg\\io.pyc\u001b[0m in \u001b[0;36mcode\u001b[1;34m(self)\u001b[0m\n\u001b[0;32m   1151\u001b[0m         \u001b[0mself\u001b[0m\u001b[1;33m.\u001b[0m\u001b[0m_feature_slice\u001b[0m \u001b[1;33m=\u001b[0m \u001b[0mslice\u001b[0m\u001b[1;33m(\u001b[0m\u001b[0mnb_cols\u001b[0m\u001b[1;33m-\u001b[0m\u001b[1;36m1\u001b[0m\u001b[1;33m,\u001b[0m \u001b[0mnb_cols\u001b[0m\u001b[1;33m-\u001b[0m\u001b[1;36m1\u001b[0m\u001b[1;33m+\u001b[0m\u001b[0mself\u001b[0m\u001b[1;33m.\u001b[0m\u001b[0m_nb_features\u001b[0m\u001b[1;33m)\u001b[0m\u001b[1;33m\u001b[0m\u001b[0m\n\u001b[0;32m   1152\u001b[0m \u001b[1;33m\u001b[0m\u001b[0m\n\u001b[1;32m-> 1153\u001b[1;33m         \u001b[0mself\u001b[0m\u001b[1;33m.\u001b[0m\u001b[0mpreprocess_code\u001b[0m\u001b[1;33m(\u001b[0m\u001b[1;33m)\u001b[0m\u001b[1;33m\u001b[0m\u001b[0m\n\u001b[0m\u001b[0;32m   1154\u001b[0m         \u001b[0mself\u001b[0m\u001b[1;33m.\u001b[0m\u001b[0mbuild_mtg\u001b[0m\u001b[1;33m(\u001b[0m\u001b[1;33m)\u001b[0m\u001b[1;33m\u001b[0m\u001b[0m\n\u001b[0;32m   1155\u001b[0m \u001b[1;33m\u001b[0m\u001b[0m\n",
      "\u001b[1;32mc:\\users\\mlabadie\\miniconda2\\envs\\openalea\\lib\\site-packages\\openalea.mtg-2.0.1-py2.7.egg\\openalea\\mtg\\io.pyc\u001b[0m in \u001b[0;36mpreprocess_code\u001b[1;34m(self)\u001b[0m\n\u001b[0;32m   1231\u001b[0m \u001b[1;33m\u001b[0m\u001b[0m\n\u001b[0;32m   1232\u001b[0m         \u001b[1;31m#for l in code:\u001b[0m\u001b[1;33m\u001b[0m\u001b[1;33m\u001b[0m\u001b[0m\n\u001b[1;32m-> 1233\u001b[1;33m         \u001b[1;32mfor\u001b[0m \u001b[0ml\u001b[0m \u001b[1;32min\u001b[0m \u001b[0mself\u001b[0m\u001b[1;33m.\u001b[0m\u001b[0mnext_line_iter\u001b[0m\u001b[1;33m(\u001b[0m\u001b[1;33m)\u001b[0m\u001b[1;33m:\u001b[0m\u001b[1;33m\u001b[0m\u001b[0m\n\u001b[0m\u001b[0;32m   1234\u001b[0m             \u001b[1;31m#l = l.expandtabs(4)\u001b[0m\u001b[1;33m\u001b[0m\u001b[1;33m\u001b[0m\u001b[0m\n\u001b[0;32m   1235\u001b[0m             \u001b[0ms\u001b[0m \u001b[1;33m=\u001b[0m \u001b[0ml\u001b[0m\u001b[1;33m.\u001b[0m\u001b[0mstrip\u001b[0m\u001b[1;33m(\u001b[0m\u001b[1;33m)\u001b[0m\u001b[1;33m\u001b[0m\u001b[0m\n",
      "\u001b[1;32mc:\\users\\mlabadie\\miniconda2\\envs\\openalea\\lib\\site-packages\\openalea.mtg-2.0.1-py2.7.egg\\openalea\\mtg\\io.pyc\u001b[0m in \u001b[0;36mnext_line_iter\u001b[1;34m(self)\u001b[0m\n\u001b[0;32m   1109\u001b[0m         \u001b[1;32mwhile\u001b[0m \u001b[0ml\u001b[0m\u001b[1;33m:\u001b[0m\u001b[1;33m\u001b[0m\u001b[0m\n\u001b[0;32m   1110\u001b[0m             \u001b[1;32myield\u001b[0m \u001b[0ml\u001b[0m\u001b[1;33m\u001b[0m\u001b[0m\n\u001b[1;32m-> 1111\u001b[1;33m             \u001b[0ml\u001b[0m \u001b[1;33m=\u001b[0m \u001b[0mself\u001b[0m\u001b[1;33m.\u001b[0m\u001b[0m_next_line\u001b[0m\u001b[1;33m(\u001b[0m\u001b[1;33m)\u001b[0m\u001b[1;33m\u001b[0m\u001b[0m\n\u001b[0m\u001b[0;32m   1112\u001b[0m \u001b[1;33m\u001b[0m\u001b[0m\n\u001b[0;32m   1113\u001b[0m     \u001b[1;32mdef\u001b[0m \u001b[0merrors\u001b[0m\u001b[1;33m(\u001b[0m\u001b[0mself\u001b[0m\u001b[1;33m)\u001b[0m\u001b[1;33m:\u001b[0m\u001b[1;33m\u001b[0m\u001b[0m\n",
      "\u001b[1;32mc:\\users\\mlabadie\\miniconda2\\envs\\openalea\\lib\\site-packages\\openalea.mtg-2.0.1-py2.7.egg\\openalea\\mtg\\io.pyc\u001b[0m in \u001b[0;36m_next_line\u001b[1;34m(self)\u001b[0m\n\u001b[0;32m   1101\u001b[0m         \u001b[0ml1\u001b[0m \u001b[1;33m=\u001b[0m \u001b[0ml\u001b[0m\u001b[1;33m.\u001b[0m\u001b[0mstrip\u001b[0m\u001b[1;33m(\u001b[0m\u001b[1;33m)\u001b[0m\u001b[1;33m\u001b[0m\u001b[0m\n\u001b[0;32m   1102\u001b[0m         \u001b[1;32mif\u001b[0m \u001b[1;32mnot\u001b[0m \u001b[0ml1\u001b[0m \u001b[1;32mor\u001b[0m \u001b[0ml1\u001b[0m\u001b[1;33m[\u001b[0m\u001b[1;36m0\u001b[0m\u001b[1;33m]\u001b[0m \u001b[1;33m==\u001b[0m \u001b[1;34m'#'\u001b[0m\u001b[1;33m:\u001b[0m\u001b[1;33m\u001b[0m\u001b[0m\n\u001b[1;32m-> 1103\u001b[1;33m             \u001b[1;32mreturn\u001b[0m \u001b[0mself\u001b[0m\u001b[1;33m.\u001b[0m\u001b[0m_next_line\u001b[0m\u001b[1;33m(\u001b[0m\u001b[1;33m)\u001b[0m\u001b[1;33m\u001b[0m\u001b[0m\n\u001b[0m\u001b[0;32m   1104\u001b[0m         \u001b[1;32melse\u001b[0m\u001b[1;33m:\u001b[0m\u001b[1;33m\u001b[0m\u001b[0m\n\u001b[0;32m   1105\u001b[0m             \u001b[1;32mreturn\u001b[0m \u001b[0ml\u001b[0m\u001b[1;33m\u001b[0m\u001b[0m\n",
      "... last 1 frames repeated, from the frame below ...\n",
      "\u001b[1;32mc:\\users\\mlabadie\\miniconda2\\envs\\openalea\\lib\\site-packages\\openalea.mtg-2.0.1-py2.7.egg\\openalea\\mtg\\io.pyc\u001b[0m in \u001b[0;36m_next_line\u001b[1;34m(self)\u001b[0m\n\u001b[0;32m   1101\u001b[0m         \u001b[0ml1\u001b[0m \u001b[1;33m=\u001b[0m \u001b[0ml\u001b[0m\u001b[1;33m.\u001b[0m\u001b[0mstrip\u001b[0m\u001b[1;33m(\u001b[0m\u001b[1;33m)\u001b[0m\u001b[1;33m\u001b[0m\u001b[0m\n\u001b[0;32m   1102\u001b[0m         \u001b[1;32mif\u001b[0m \u001b[1;32mnot\u001b[0m \u001b[0ml1\u001b[0m \u001b[1;32mor\u001b[0m \u001b[0ml1\u001b[0m\u001b[1;33m[\u001b[0m\u001b[1;36m0\u001b[0m\u001b[1;33m]\u001b[0m \u001b[1;33m==\u001b[0m \u001b[1;34m'#'\u001b[0m\u001b[1;33m:\u001b[0m\u001b[1;33m\u001b[0m\u001b[0m\n\u001b[1;32m-> 1103\u001b[1;33m             \u001b[1;32mreturn\u001b[0m \u001b[0mself\u001b[0m\u001b[1;33m.\u001b[0m\u001b[0m_next_line\u001b[0m\u001b[1;33m(\u001b[0m\u001b[1;33m)\u001b[0m\u001b[1;33m\u001b[0m\u001b[0m\n\u001b[0m\u001b[0;32m   1104\u001b[0m         \u001b[1;32melse\u001b[0m\u001b[1;33m:\u001b[0m\u001b[1;33m\u001b[0m\u001b[0m\n\u001b[0;32m   1105\u001b[0m             \u001b[1;32mreturn\u001b[0m \u001b[0ml\u001b[0m\u001b[1;33m\u001b[0m\u001b[0m\n",
      "\u001b[1;31mRuntimeError\u001b[0m: maximum recursion depth exceeded"
     ]
    }
   ],
   "source": [
    "\"\"\" Merge all MTG to realize au big_MTG with all varieties\"\"\"\n",
    "big_mtg = MTG()\n",
    "for fn in files:\n",
    "    big_mtg = algo.union(big_mtg, MTG(fn))\n",
    "g = big_mtg\n",
    "genotypes = set(g.property(\"Genotype\").itervalues())\n"
   ]
  },
  {
   "cell_type": "code",
   "execution_count": 5,
   "metadata": {},
   "outputs": [
    {
     "data": {
      "text/plain": [
       "{'Experiment_name': 'friendlyfruit',\n",
       " 'Genotype': 'Gariguette',\n",
       " 'Modality': 'Maroc',\n",
       " 'Plant_ID': 8,\n",
       " 'Sample_date': '26/04/2018',\n",
       " '_line': 58,\n",
       " 'label': 'P'}"
      ]
     },
     "execution_count": 5,
     "metadata": {},
     "output_type": "execute_result"
    }
   ],
   "source": [
    "modules = g.vertices(scale=2)\n",
    "vid = modules[5]\n",
    "nid = g.node(vid)\n",
    "nid.complex().properties()"
   ]
  },
  {
   "cell_type": "markdown",
   "metadata": {},
   "source": [
    "## For each module (scale = 2)\n",
    " - nb_visible_leaves : count F label in components\n",
    " - nb_foliar_primordia: count f\n",
    " - nb_total_leaves\n",
    " - nb_total_flowers : sum (Fleurs_total) \n",
    " - inflorescence_type : flowering, if g.property(Stade)=='avorté' or 'coupé' alors Aborded or cutted\n",
    " - nb_open_flowers: sum (Fleurs_ouverte)\n",
    " - nb_aborted_flowers: sum(Fleurs_avorte)\n",
    " - order\n",
    " - type of crown\n",
    "     - label == T (1) : principal crown\n",
    "     - parent(component_roots()[0]) : if successor() == F : branch_crown elif in (HT, ht, bt) extension crown\n",
    " - inflorescence_type:\n",
    "     - vegetative (1): label==bt g.property(Stade)== none or 17 or 18 or 19\n",
    "     - initiated (2): label== bt if g.property(Stade) == A\n",
    "     - floral (3): label== ht or HT\n",
    "     - runner (4): label = s\n"
   ]
  },
  {
   "cell_type": "code",
   "execution_count": 6,
   "metadata": {},
   "outputs": [],
   "source": [
    "def nb_visible_leaves(vid, g=g):\n",
    "    return sum(1 for cid in g.components(vid) if g.label(cid)=='F')\n",
    "\n",
    "def nb_foliar_primordia(vid, g=g):\n",
    "    return sum(1 for cid in g.components(vid) if g.label(cid)=='f')\n",
    "\n",
    "def nb_total_leaves(vid, g=g):\n",
    "    return sum(1 for cid in g.components(vid) if g.label(cid) in ('f', 'F'))\n",
    "\n",
    "def nb_total_flowers(vid, g=g):\n",
    "    flowers = g.property('Fleurs_total')\n",
    "    return sum( flowers.get(cid,0) for cid in g.components(vid) if g.label(cid) in ('ht', 'HT'))\n",
    "\n",
    "def nb_open_flowers(vid, g=g):\n",
    "    flowers = g.property('Fleurs_ouverte')\n",
    "    return sum( flowers.get(cid,0) for cid in g.components(vid) if g.label(cid) in ('ht', 'HT'))\n",
    "\n",
    "def nb_aborted_flowers(vid, g=g):\n",
    "    flowers = g.property('Fleurs_avorte')\n",
    "    return sum( flowers.get(cid,0) for cid in g.components(vid) if g.label(cid) in ('ht', 'HT'))\n",
    "\n",
    "orders = algo.orders(g, scale=2)\n",
    "\n",
    "def type_of_crown(vid, g=g):\n",
    "    \"\"\" Returns the type of crown.\n",
    "    \n",
    "    Definition of type of crown (1, 2, 3):\n",
    "     - principal crown (1): label == T \n",
    "     - branch_crown (2)\n",
    "         parent(component_roots()[0]) : if successor() == F  \n",
    "     - extension_crown (3): contains(HT, ht, bt) \n",
    "     - error (4)\n",
    "     \n",
    "    \"\"\"\n",
    "    if g.label(vid) == 'T':\n",
    "        return 1\n",
    "    else:\n",
    "        cid = g.component_roots(vid)[0]\n",
    "        pid = g.parent(cid)\n",
    "        sid = g.Successor(pid)\n",
    "        #print sid\n",
    "        if g.label(sid) in ('F', 'f'):\n",
    "            return 2\n",
    "        elif g.label(sid) in ('bt', 'ht', 'HT'):\n",
    "            return 3\n",
    "        else:\n",
    "            # ERROR !!!\n",
    "            print g[cid], g[g.complex_at_scale(cid, scale=1)]\n",
    "            return 4\n",
    "            \n",
    "def Crown_status(vid, g=g):\n",
    "    \"\"\" Returns the type of inflorescence\n",
    "    \n",
    "    :Algorithms:\n",
    "    if label is bt then\n",
    "        - if stage is 17, 18, 19 or None, => vegetative (1)\n",
    "        - if stage is A => initiated (2)\n",
    "        - if stage is other => non defined (pourri, avorté, coupé) (-1)\n",
    "     - vegetative bud (1): label==bt g.property(Stade)== none or 17 or 18 or 19\n",
    "     - initiated bud (2): label== bt if g.property(Stade) == A\n",
    "     - Floral bud (3): label==ht\n",
    "     - Inflorescence (4): label== HT\n",
    "     - runner (5): label = s\n",
    "     \n",
    "    \"\"\"\n",
    "    stages = g.property('Stade')\n",
    "    # select s, ht, HT et bt\n",
    "    for cid in g.components(vid):\n",
    "        if g.label(cid) in ('s', 'ht', 'HT', 'bt'):\n",
    "            label = g.label(cid)\n",
    "            if label == 's':\n",
    "                return 5\n",
    "            elif label == 'ht':\n",
    "                return 3\n",
    "            elif label == 'HT':\n",
    "                return 4\n",
    "            elif label == 'bt':\n",
    "                stage = stages.get(cid)\n",
    "                if stage == 'A':\n",
    "                    return 2\n",
    "                elif stage in (None, '17', '18', '19'):\n",
    "                    return 1\n",
    "            return -1\n",
    "\n",
    "def genotype(vid, g=g):\n",
    "    d = {'Capriss':4, 'Ciflorette':2, 'Cir107':6, 'Clery':3, 'Darselect':5, 'Gariguette':1}\n",
    "    \n",
    "    cpx = g.complex_at_scale(vid, scale=1)\n",
    "    _genotype = g.property('Genotype')[cpx]\n",
    "    return d[_genotype]\n",
    "\n",
    "def plant(vid, g=g):\n",
    "    \n",
    "    cpx = g.complex_at_scale(vid, scale=1)\n",
    "    return g.property('Plante')[cpx]\n",
    "\n",
    "def date(vid, g=g):\n",
    "    d = {'10-12-2014':1,'07-01-2015':2,'15-02-2015':3,'02-03-2015':4,'03-04-2015':5,'27-05-2015':6,'04-12-2014':1,'13-02-2015':3,\n",
    "         '30-03-2015':5,'08-01-2015':2,'11-02-2015':3,'04-03-2015':4,'02-04-2015':5,'20-05-2015':6,'09-01-2015':2,'06-03-2015':4,\n",
    "         '12-02-2015':3,'19-05-2015':6}         \n",
    "    cpx = g.complex_at_scale(vid, scale=1)\n",
    "    _date = g.property('date')[cpx]\n",
    "    return(d[_date])\n"
   ]
  },
  {
   "cell_type": "code",
   "execution_count": 16,
   "metadata": {},
   "outputs": [
    {
     "ename": "TypeError",
     "evalue": "range() integer end argument expected, got NoneType.",
     "output_type": "error",
     "traceback": [
      "\u001b[1;31m---------------------------------------------------------------------------\u001b[0m",
      "\u001b[1;31mTypeError\u001b[0m                                 Traceback (most recent call last)",
      "\u001b[1;32m<ipython-input-16-bff94a17dfa2>\u001b[0m in \u001b[0;36m<module>\u001b[1;34m()\u001b[0m\n\u001b[0;32m      4\u001b[0m \u001b[1;31m#for c in g.components(8193):\u001b[0m\u001b[1;33m\u001b[0m\u001b[1;33m\u001b[0m\u001b[0m\n\u001b[0;32m      5\u001b[0m  \u001b[1;31m#   print g[c]\u001b[0m\u001b[1;33m\u001b[0m\u001b[1;33m\u001b[0m\u001b[0m\n\u001b[1;32m----> 6\u001b[1;33m \u001b[0mplant\u001b[0m\u001b[1;33m(\u001b[0m\u001b[1;36m8193\u001b[0m\u001b[1;33m)\u001b[0m\u001b[1;33m,\u001b[0m \u001b[0mgenotype\u001b[0m\u001b[1;33m(\u001b[0m\u001b[1;36m8193\u001b[0m\u001b[1;33m)\u001b[0m\u001b[1;33m,\u001b[0m \u001b[0mg\u001b[0m\u001b[1;33m[\u001b[0m\u001b[1;36m8193\u001b[0m\u001b[1;33m]\u001b[0m\u001b[1;33m\u001b[0m\u001b[0m\n\u001b[0m",
      "\u001b[1;32m<ipython-input-6-726b30a75b7b>\u001b[0m in \u001b[0;36mplant\u001b[1;34m(vid, g)\u001b[0m\n\u001b[0;32m     92\u001b[0m \u001b[1;32mdef\u001b[0m \u001b[0mplant\u001b[0m\u001b[1;33m(\u001b[0m\u001b[0mvid\u001b[0m\u001b[1;33m,\u001b[0m \u001b[0mg\u001b[0m\u001b[1;33m=\u001b[0m\u001b[0mg\u001b[0m\u001b[1;33m)\u001b[0m\u001b[1;33m:\u001b[0m\u001b[1;33m\u001b[0m\u001b[0m\n\u001b[0;32m     93\u001b[0m \u001b[1;33m\u001b[0m\u001b[0m\n\u001b[1;32m---> 94\u001b[1;33m     \u001b[0mcpx\u001b[0m \u001b[1;33m=\u001b[0m \u001b[0mg\u001b[0m\u001b[1;33m.\u001b[0m\u001b[0mcomplex_at_scale\u001b[0m\u001b[1;33m(\u001b[0m\u001b[0mvid\u001b[0m\u001b[1;33m,\u001b[0m \u001b[0mscale\u001b[0m\u001b[1;33m=\u001b[0m\u001b[1;36m1\u001b[0m\u001b[1;33m)\u001b[0m\u001b[1;33m\u001b[0m\u001b[0m\n\u001b[0m\u001b[0;32m     95\u001b[0m     \u001b[1;32mreturn\u001b[0m \u001b[0mg\u001b[0m\u001b[1;33m.\u001b[0m\u001b[0mproperty\u001b[0m\u001b[1;33m(\u001b[0m\u001b[1;34m'Plante'\u001b[0m\u001b[1;33m)\u001b[0m\u001b[1;33m[\u001b[0m\u001b[0mcpx\u001b[0m\u001b[1;33m]\u001b[0m\u001b[1;33m\u001b[0m\u001b[0m\n\u001b[0;32m     96\u001b[0m \u001b[1;33m\u001b[0m\u001b[0m\n",
      "\u001b[1;32mc:\\users\\mlabadie\\miniconda2\\envs\\openalea\\lib\\site-packages\\openalea.mtg-2.0.1-py2.7.egg\\openalea\\mtg\\mtg.pyc\u001b[0m in \u001b[0;36mcomplex_at_scale\u001b[1;34m(self, vtx_id, scale)\u001b[0m\n\u001b[0;32m    659\u001b[0m         \u001b[0mcomplex_id\u001b[0m \u001b[1;33m=\u001b[0m \u001b[0mvtx_id\u001b[0m\u001b[1;33m\u001b[0m\u001b[0m\n\u001b[0;32m    660\u001b[0m         \u001b[0mcurrent_scale\u001b[0m \u001b[1;33m=\u001b[0m \u001b[0mself\u001b[0m\u001b[1;33m.\u001b[0m\u001b[0mscale\u001b[0m\u001b[1;33m(\u001b[0m\u001b[0mcomplex_id\u001b[0m\u001b[1;33m)\u001b[0m\u001b[1;33m\u001b[0m\u001b[0m\n\u001b[1;32m--> 661\u001b[1;33m         \u001b[1;32mfor\u001b[0m \u001b[0mi\u001b[0m \u001b[1;32min\u001b[0m \u001b[0mrange\u001b[0m\u001b[1;33m(\u001b[0m\u001b[0mscale\u001b[0m\u001b[1;33m,\u001b[0m \u001b[0mcurrent_scale\u001b[0m\u001b[1;33m)\u001b[0m\u001b[1;33m:\u001b[0m\u001b[1;33m\u001b[0m\u001b[0m\n\u001b[0m\u001b[0;32m    662\u001b[0m             \u001b[0mcomplex_id\u001b[0m \u001b[1;33m=\u001b[0m \u001b[0mself\u001b[0m\u001b[1;33m.\u001b[0m\u001b[0mcomplex\u001b[0m\u001b[1;33m(\u001b[0m\u001b[0mcomplex_id\u001b[0m\u001b[1;33m)\u001b[0m\u001b[1;33m\u001b[0m\u001b[0m\n\u001b[0;32m    663\u001b[0m         \u001b[1;32mreturn\u001b[0m \u001b[0mcomplex_id\u001b[0m\u001b[1;33m\u001b[0m\u001b[0m\n",
      "\u001b[1;31mTypeError\u001b[0m: range() integer end argument expected, got NoneType."
     ]
    }
   ],
   "source": [
    "stages = g.property('Stade')\n",
    "\n",
    "#print set(m for m in modules if inflorescence_type(m) is None)\n",
    "#for c in g.components(8193):\n",
    " #   print g[c]\n",
    "plant(8193), genotype(8193), g[8193]"
   ]
  },
  {
   "cell_type": "code",
   "execution_count": 8,
   "metadata": {},
   "outputs": [],
   "source": [
    "from collections import OrderedDict"
   ]
  },
  {
   "cell_type": "code",
   "execution_count": 15,
   "metadata": {},
   "outputs": [],
   "source": [
    "# Extract sequences\n",
    "seqs = stat.extract_extremities(g, scale=2)\n",
    "#seqs = stat.extract_axes(g, scale=2)\n",
    "\n",
    "# Index: order\n",
    "VertexIdentifiers = [['-'.join(str(orders[j]) for j in seq[0:i+1]) for i, vid in enumerate(seq)] for seq in seqs]\n",
    "\n",
    "# Variables\n",
    "variables = OrderedDict()\n",
    "variables['nb_visible_leaves'] = nb_visible_leaves # Nombre de feuille developpe\n",
    "variables['nb_foliar_primordia'] = nb_foliar_primordia #Nombre de primordia foliaire\n",
    "variables['nb_total_leaves'] = nb_total_leaves #Nombre total de feuille\n",
    "variables['nb_total_flowers'] = nb_total_flowers #Nombre total de Fleurs\n",
    "variables['nb_open_flowers'] = nb_open_flowers #Nombre de fleurs ouverte\n",
    "variables['nb_aborted_flowers'] = nb_aborted_flowers #Nombre de fleurs avorté\n",
    "variables['type_of_crown'] = type_of_crown # Type de crowns (Primary Crown:1, Branch crown:2 extension crown:3)\n",
    "variables['Crown_status'] = Crown_status # Status du coeurs (\"vegeatatif:1, Iniated: 2, Floral: 3, Stolon:4)\n",
    "\n",
    "\n",
    "variables['genotype'] = genotype # TODO\n",
    "variables['date'] = date # TODO\n",
    "variables['plant'] = plant\n"
   ]
  },
  {
   "cell_type": "code",
   "execution_count": 10,
   "metadata": {},
   "outputs": [
    {
     "data": {
      "text/plain": [
       "700"
      ]
     },
     "execution_count": 10,
     "metadata": {},
     "output_type": "execute_result"
    }
   ],
   "source": [
    "variables\n",
    "len (seqs)\n"
   ]
  },
  {
   "cell_type": "code",
   "execution_count": 11,
   "metadata": {},
   "outputs": [
    {
     "name": "stdout",
     "output_type": "stream",
     "text": [
      "['nb_visible_leaves', 'nb_foliar_primordia', 'nb_total_leaves', 'nb_total_flowers', 'nb_open_flowers', 'nb_aborted_flowers', 'type_of_crown', 'Crown_status', 'genotype', 'date', 'plant']\n"
     ]
    },
    {
     "ename": "KeyError",
     "evalue": "1",
     "output_type": "error",
     "traceback": [
      "\u001b[1;31m---------------------------------------------------------------------------\u001b[0m",
      "\u001b[1;31mKeyError\u001b[0m                                  Traceback (most recent call last)",
      "\u001b[1;32m<ipython-input-11-336c17712296>\u001b[0m in \u001b[0;36m<module>\u001b[1;34m()\u001b[0m\n\u001b[0;32m      2\u001b[0m \u001b[1;32mprint\u001b[0m \u001b[0mvariable_names\u001b[0m\u001b[1;33m\u001b[0m\u001b[0m\n\u001b[0;32m      3\u001b[0m \u001b[1;33m\u001b[0m\u001b[0m\n\u001b[1;32m----> 4\u001b[1;33m \u001b[0mfinal_seqs\u001b[0m \u001b[1;33m=\u001b[0m \u001b[1;33m[\u001b[0m\u001b[1;33m[\u001b[0m\u001b[1;33m[\u001b[0m\u001b[0mf\u001b[0m\u001b[1;33m(\u001b[0m\u001b[0mvid\u001b[0m\u001b[1;33m)\u001b[0m \u001b[1;32mfor\u001b[0m \u001b[0mf\u001b[0m \u001b[1;32min\u001b[0m \u001b[0mvariables\u001b[0m\u001b[1;33m.\u001b[0m\u001b[0mvalues\u001b[0m\u001b[1;33m(\u001b[0m\u001b[1;33m)\u001b[0m\u001b[1;33m]\u001b[0m \u001b[1;32mfor\u001b[0m \u001b[0mvid\u001b[0m \u001b[1;32min\u001b[0m \u001b[0mseq\u001b[0m\u001b[1;33m]\u001b[0m \u001b[1;32mfor\u001b[0m \u001b[0mseq\u001b[0m \u001b[1;32min\u001b[0m \u001b[0mseqs\u001b[0m\u001b[1;33m]\u001b[0m\u001b[1;33m\u001b[0m\u001b[0m\n\u001b[0m",
      "\u001b[1;32m<ipython-input-6-726b30a75b7b>\u001b[0m in \u001b[0;36mdate\u001b[1;34m(vid, g)\u001b[0m\n\u001b[0;32m    100\u001b[0m          '12-02-2015':3,'19-05-2015':6}         \n\u001b[0;32m    101\u001b[0m     \u001b[0mcpx\u001b[0m \u001b[1;33m=\u001b[0m \u001b[0mg\u001b[0m\u001b[1;33m.\u001b[0m\u001b[0mcomplex_at_scale\u001b[0m\u001b[1;33m(\u001b[0m\u001b[0mvid\u001b[0m\u001b[1;33m,\u001b[0m \u001b[0mscale\u001b[0m\u001b[1;33m=\u001b[0m\u001b[1;36m1\u001b[0m\u001b[1;33m)\u001b[0m\u001b[1;33m\u001b[0m\u001b[0m\n\u001b[1;32m--> 102\u001b[1;33m     \u001b[0m_date\u001b[0m \u001b[1;33m=\u001b[0m \u001b[0mg\u001b[0m\u001b[1;33m.\u001b[0m\u001b[0mproperty\u001b[0m\u001b[1;33m(\u001b[0m\u001b[1;34m'date'\u001b[0m\u001b[1;33m)\u001b[0m\u001b[1;33m[\u001b[0m\u001b[0mcpx\u001b[0m\u001b[1;33m]\u001b[0m\u001b[1;33m\u001b[0m\u001b[0m\n\u001b[0m\u001b[0;32m    103\u001b[0m     \u001b[1;32mreturn\u001b[0m\u001b[1;33m(\u001b[0m\u001b[0md\u001b[0m\u001b[1;33m[\u001b[0m\u001b[0m_date\u001b[0m\u001b[1;33m]\u001b[0m\u001b[1;33m)\u001b[0m\u001b[1;33m\u001b[0m\u001b[0m\n",
      "\u001b[1;31mKeyError\u001b[0m: 1"
     ]
    }
   ],
   "source": [
    "variable_names = variables.keys()\n",
    "print variable_names\n",
    "\n",
    "final_seqs = [[[f(vid) for f in variables.values()] for vid in seq] for seq in seqs]"
   ]
  },
  {
   "cell_type": "code",
   "execution_count": 14,
   "metadata": {},
   "outputs": [
    {
     "ename": "NameError",
     "evalue": "name 'final_seqs' is not defined",
     "output_type": "error",
     "traceback": [
      "\u001b[1;31m---------------------------------------------------------------------------\u001b[0m",
      "\u001b[1;31mNameError\u001b[0m                                 Traceback (most recent call last)",
      "\u001b[1;32m<ipython-input-14-38ec0579dcd9>\u001b[0m in \u001b[0;36m<module>\u001b[1;34m()\u001b[0m\n\u001b[1;32m----> 1\u001b[1;33m \u001b[0msequence_txt\u001b[0m \u001b[1;33m=\u001b[0m \u001b[0manalysis\u001b[0m\u001b[1;33m.\u001b[0m\u001b[0mwrite_sequences\u001b[0m\u001b[1;33m(\u001b[0m\u001b[0mfinal_seqs\u001b[0m\u001b[1;33m,\u001b[0m \u001b[0mvariable_names\u001b[0m\u001b[1;33m,\u001b[0m \u001b[0mVertexIdentifiers\u001b[0m\u001b[1;33m)\u001b[0m\u001b[1;33m\u001b[0m\u001b[0m\n\u001b[0m",
      "\u001b[1;31mNameError\u001b[0m: name 'final_seqs' is not defined"
     ]
    }
   ],
   "source": [
    "sequence_txt = analysis.write_sequences(final_seqs, variable_names, VertexIdentifiers)"
   ]
  },
  {
   "cell_type": "code",
   "execution_count": 13,
   "metadata": {},
   "outputs": [
    {
     "ename": "NameError",
     "evalue": "name 'sequence_txt' is not defined",
     "output_type": "error",
     "traceback": [
      "\u001b[1;31m---------------------------------------------------------------------------\u001b[0m",
      "\u001b[1;31mNameError\u001b[0m                                 Traceback (most recent call last)",
      "\u001b[1;32m<ipython-input-13-e3d82655c591>\u001b[0m in \u001b[0;36m<module>\u001b[1;34m()\u001b[0m\n\u001b[1;32m----> 1\u001b[1;33m \u001b[1;32mprint\u001b[0m \u001b[0msequence_txt\u001b[0m\u001b[1;33m\u001b[0m\u001b[0m\n\u001b[0m",
      "\u001b[1;31mNameError\u001b[0m: name 'sequence_txt' is not defined"
     ]
    }
   ],
   "source": [
    "print sequence_txt"
   ]
  },
  {
   "cell_type": "code",
   "execution_count": 94,
   "metadata": {},
   "outputs": [],
   "source": [
    "f = open('strawberry_archi_module_extremities.seq', 'w')\n",
    "f.write(sequence_txt)\n",
    "f.close()"
   ]
  },
  {
   "cell_type": "code",
   "execution_count": 101,
   "metadata": {},
   "outputs": [],
   "source": [
    "f = open('strawberry_archi_module_axes.seq', 'w')\n",
    "f.write(sequence_txt)\n",
    "f.close()"
   ]
  },
  {
   "cell_type": "code",
   "execution_count": null,
   "metadata": {},
   "outputs": [],
   "source": []
  }
 ],
 "metadata": {
  "anaconda-cloud": {},
  "kernelspec": {
   "display_name": "Python 2",
   "language": "python",
   "name": "python2"
  },
  "language_info": {
   "codemirror_mode": {
    "name": "ipython",
    "version": 2
   },
   "file_extension": ".py",
   "mimetype": "text/x-python",
   "name": "python",
   "nbconvert_exporter": "python",
   "pygments_lexer": "ipython2",
   "version": "2.7.15"
  }
 },
 "nbformat": 4,
 "nbformat_minor": 1
}
