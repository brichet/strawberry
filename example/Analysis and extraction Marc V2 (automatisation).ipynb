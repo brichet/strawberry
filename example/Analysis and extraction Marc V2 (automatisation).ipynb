{
 "cells": [
  {
   "cell_type": "markdown",
   "metadata": {},
   "source": [
    "## Module load for Strawberry MTG"
   ]
  },
  {
   "cell_type": "code",
   "execution_count": 7,
   "metadata": {},
   "outputs": [],
   "source": [
    "from openalea.deploy.shared_data import shared_data\n",
    "import strawberry\n",
    "from strawberry.reader import Reader, strawberry2mtg \n",
    "from openalea.mtg import MTG, fat_mtg,algo\n",
    "from openalea.mtg.algo import union\n"
   ]
  },
  {
   "cell_type": "markdown",
   "metadata": {},
   "source": [
    "### Load data\n",
    "1. Load both data\n",
    "2. Load data by genotype"
   ]
  },
  {
   "cell_type": "code",
   "execution_count": 8,
   "metadata": {},
   "outputs": [
    {
     "name": "stdout",
     "output_type": "stream",
     "text": [
      "z:\\g1\\marc-labadie\\python\\strawberry\\share\\data\\Garriguette_1_9.csv\n"
     ]
    }
   ],
   "source": [
    "files = shared_data(strawberry).glob('*.csv')\n",
    "fn = files[17]\n",
    "print fn"
   ]
  },
  {
   "cell_type": "code",
   "execution_count": 9,
   "metadata": {},
   "outputs": [
    {
     "name": "stdout",
     "output_type": "stream",
     "text": [
      "[path(u'z:\\\\g1\\\\marc-labadie\\\\python\\\\strawberry\\\\share\\\\data\\\\Darselect_1_10.csv'), path(u'z:\\\\g1\\\\marc-labadie\\\\python\\\\strawberry\\\\share\\\\data\\\\Darselect_1_2.csv'), path(u'z:\\\\g1\\\\marc-labadie\\\\python\\\\strawberry\\\\share\\\\data\\\\Darselect_1_3.csv'), path(u'z:\\\\g1\\\\marc-labadie\\\\python\\\\strawberry\\\\share\\\\data\\\\Darselect_1_4.csv'), path(u'z:\\\\g1\\\\marc-labadie\\\\python\\\\strawberry\\\\share\\\\data\\\\Darselect_1_5.csv'), path(u'z:\\\\g1\\\\marc-labadie\\\\python\\\\strawberry\\\\share\\\\data\\\\Darselect_1_9.csv')]\n"
     ]
    }
   ],
   "source": [
    "file_Gar = shared_data(strawberry).glob('Garriguette*.csv') # selection des fichiers uniquement pour le génotype Gariguette\n",
    "file_Cir107 = shared_data(strawberry).glob('Cir107*.csv')\n",
    "file_Darselect = shared_data(strawberry).glob('Dar*.csv')\n",
    "print file_Darselect\n"
   ]
  },
  {
   "cell_type": "code",
   "execution_count": 36,
   "metadata": {},
   "outputs": [
    {
     "ename": "SyntaxError",
     "evalue": "invalid syntax (<ipython-input-36-9779d1858cf6>, line 17)",
     "output_type": "error",
     "traceback": [
      "\u001b[1;36m  File \u001b[1;32m\"<ipython-input-36-9779d1858cf6>\"\u001b[1;36m, line \u001b[1;32m17\u001b[0m\n\u001b[1;33m    g=g_*\u001b[0m\n\u001b[1;37m         ^\u001b[0m\n\u001b[1;31mSyntaxError\u001b[0m\u001b[1;31m:\u001b[0m invalid syntax\n"
     ]
    }
   ],
   "source": [
    "#MTG par génotype\n",
    "g_Gar = strawberry2mtg(file_Gar[0]) \n",
    "for fn in file_Gar[1:]:\n",
    "    g1 = strawberry2mtg(fn)\n",
    "    g_Gar = union(g_Gar,g1) # regrouper toute les gariguettes ensemble\n",
    "\n",
    "g_Cir107 = strawberry2mtg(file_Cir107[0])\n",
    "for fn in file_Cir107[1:]:\n",
    "    g1 = strawberry2mtg(fn)\n",
    "    g_Cir107 = union(g_Cir107,g1)\n",
    "\n",
    "g_Dar = strawberry2mtg(file_Darselect[0])\n",
    "for fn in file_Darselect[1:]:\n",
    "    g1 = strawberry2mtg(fn)\n",
    "    g_Dar = union(g_Dar,g1)\n",
    "    \n",
    "g=g_*"
   ]
  },
  {
   "cell_type": "code",
   "execution_count": 11,
   "metadata": {},
   "outputs": [],
   "source": [
    "#g_Dar.display()"
   ]
  },
  {
   "cell_type": "markdown",
   "metadata": {},
   "source": [
    "###Extraction function in csv"
   ]
  },
  {
   "cell_type": "code",
   "execution_count": 12,
   "metadata": {},
   "outputs": [],
   "source": [
    "def exportlist(espece, specieslist, mesure, fonction):\n",
    "  fichier = mesure+'_'+espece+'.xls'\n",
    "  f = open(fichier,'w')\n",
    "  final = []\n",
    "  f.write(espece+'\\t'+mesure+'\\n')\n",
    "  for i in range(5) :\n",
    "    lane=[]\n",
    "    lane.append(str(specieslist[i]))\n",
    "    lane.append(str(fonction[i]))\n",
    "    lane='\\t'.join(lane)\n",
    "    f.write(lane)\n",
    "    f.write('\\n')\n",
    "  f.close()"
   ]
  },
  {
   "cell_type": "code",
   "execution_count": 35,
   "metadata": {},
   "outputs": [
    {
     "ename": "NameError",
     "evalue": "name 'g' is not defined",
     "output_type": "error",
     "traceback": [
      "\u001b[1;31m---------------------------------------------------------------------------\u001b[0m\n\u001b[1;31mNameError\u001b[0m                                 Traceback (most recent call last)",
      "\u001b[1;32m<ipython-input-35-d78011e7dc9a>\u001b[0m in \u001b[0;36m<module>\u001b[1;34m()\u001b[0m\n\u001b[1;32m----> 1\u001b[1;33m \u001b[0mvertex_axes\u001b[0m\u001b[1;33m=\u001b[0m\u001b[1;33m[\u001b[0m\u001b[0mv\u001b[0m \u001b[1;32mfor\u001b[0m \u001b[0mv\u001b[0m \u001b[1;32min\u001b[0m \u001b[0mg\u001b[0m\u001b[1;33m.\u001b[0m\u001b[0mvertices\u001b[0m\u001b[1;33m(\u001b[0m\u001b[0mscale\u001b[0m\u001b[1;33m=\u001b[0m\u001b[0mg\u001b[0m\u001b[1;33m.\u001b[0m\u001b[0mmax_scale\u001b[0m\u001b[1;33m(\u001b[0m\u001b[1;33m)\u001b[0m\u001b[1;33m)\u001b[0m\u001b[1;32mif\u001b[0m \u001b[0mg\u001b[0m\u001b[1;33m.\u001b[0m\u001b[0medge_type\u001b[0m\u001b[1;33m(\u001b[0m\u001b[0mv\u001b[0m\u001b[1;33m)\u001b[0m\u001b[1;33m!=\u001b[0m\u001b[1;34m'<'\u001b[0m\u001b[1;33m]\u001b[0m\u001b[1;33m\u001b[0m\u001b[0m\n\u001b[0m",
      "\u001b[1;31mNameError\u001b[0m: name 'g' is not defined"
     ]
    }
   ],
   "source": [
    "vertex_axes=[v for v in g.vertices(scale=g.max_scale())if g.edge_type(v)!='<']\n"
   ]
  },
  {
   "cell_type": "markdown",
   "metadata": {},
   "source": [
    "### Extraction: Number of phytomer\n"
   ]
  },
  {
   "cell_type": "code",
   "execution_count": 13,
   "metadata": {},
   "outputs": [
    {
     "name": "stdout",
     "output_type": "stream",
     "text": [
      "298\n"
     ]
    }
   ],
   "source": [
    "def select_entities(g, name):\n",
    "     return [v for v in g if name in g.label(v)]\n",
    "\n",
    "phytomer = select_entities(g_Gar,'Phyto')\n",
    "print len(phytomer)"
   ]
  },
  {
   "cell_type": "code",
   "execution_count": 33,
   "metadata": {},
   "outputs": [],
   "source": [
    "def nb_phytomer(g):\n",
    "    phytomer = [v for v in g if g.label(v)=='Phytomer' if g.label!='']    \n",
    "    return len(phytomer)"
   ]
  },
  {
   "cell_type": "code",
   "execution_count": 34,
   "metadata": {},
   "outputs": [
    {
     "ename": "TypeError",
     "evalue": "object of type 'int' has no len()",
     "output_type": "error",
     "traceback": [
      "\u001b[1;31m---------------------------------------------------------------------------\u001b[0m\n\u001b[1;31mTypeError\u001b[0m                                 Traceback (most recent call last)",
      "\u001b[1;32m<ipython-input-34-e0a2d096ef79>\u001b[0m in \u001b[0;36m<module>\u001b[1;34m()\u001b[0m\n\u001b[1;32m----> 1\u001b[1;33m \u001b[1;32mprint\u001b[0m \u001b[0mlen\u001b[0m\u001b[1;33m(\u001b[0m\u001b[0mnb_phytomer\u001b[0m\u001b[1;33m(\u001b[0m\u001b[0mg_Gar\u001b[0m\u001b[1;33m)\u001b[0m\u001b[1;33m)\u001b[0m\u001b[1;33m\u001b[0m\u001b[0m\n\u001b[0m",
      "\u001b[1;31mTypeError\u001b[0m: object of type 'int' has no len()"
     ]
    }
   ],
   "source": [
    "print len(nb_phytomer(g_Gar))\n"
   ]
  },
  {
   "cell_type": "code",
   "execution_count": 156,
   "metadata": {},
   "outputs": [
    {
     "ename": "TypeError",
     "evalue": "'bool' object is not iterable",
     "output_type": "error",
     "traceback": [
      "\u001b[1;31m---------------------------------------------------------------------------\u001b[0m\n\u001b[1;31mTypeError\u001b[0m                                 Traceback (most recent call last)",
      "\u001b[1;32m<ipython-input-156-a119316774b8>\u001b[0m in \u001b[0;36m<module>\u001b[1;34m()\u001b[0m\n\u001b[1;32m----> 1\u001b[1;33m \u001b[0mexportlist\u001b[0m\u001b[1;33m(\u001b[0m\u001b[1;34m'Gariguette'\u001b[0m\u001b[1;33m,\u001b[0m \u001b[0mfile_Gar\u001b[0m\u001b[1;33m,\u001b[0m \u001b[1;34m'nb_phyto'\u001b[0m\u001b[1;33m,\u001b[0m \u001b[0mnb_phytomer\u001b[0m\u001b[1;33m(\u001b[0m\u001b[0mg_Gar\u001b[0m\u001b[1;33m)\u001b[0m\u001b[1;33m)\u001b[0m\u001b[1;33m\u001b[0m\u001b[0m\n\u001b[0m\u001b[0;32m      2\u001b[0m \u001b[0mexportlist\u001b[0m\u001b[1;33m(\u001b[0m\u001b[1;34m'Cir107'\u001b[0m\u001b[1;33m,\u001b[0m \u001b[0mfile_Cir107\u001b[0m\u001b[1;33m,\u001b[0m \u001b[1;34m'nb_phyto'\u001b[0m\u001b[1;33m,\u001b[0m \u001b[0mnb_phytomer\u001b[0m\u001b[1;33m(\u001b[0m\u001b[0mg_Cir107\u001b[0m\u001b[1;33m)\u001b[0m\u001b[1;33m)\u001b[0m\u001b[1;33m\u001b[0m\u001b[0m\n\u001b[0;32m      3\u001b[0m \u001b[0mexportlist\u001b[0m\u001b[1;33m(\u001b[0m\u001b[1;34m'Darselect'\u001b[0m\u001b[1;33m,\u001b[0m \u001b[0mfile_Darselect\u001b[0m\u001b[1;33m,\u001b[0m \u001b[1;34m'nb_phyto'\u001b[0m\u001b[1;33m,\u001b[0m \u001b[0mnb_phytomer\u001b[0m\u001b[1;33m(\u001b[0m\u001b[0mg_Dar\u001b[0m\u001b[1;33m)\u001b[0m\u001b[1;33m)\u001b[0m\u001b[1;33m\u001b[0m\u001b[0m\n",
      "\u001b[1;32m<ipython-input-154-d6ed11e05d94>\u001b[0m in \u001b[0;36mnb_phytomer\u001b[1;34m(g)\u001b[0m\n\u001b[0;32m      3\u001b[0m     \u001b[0mx\u001b[0m\u001b[1;33m=\u001b[0m\u001b[1;33m[\u001b[0m\u001b[1;33m]\u001b[0m\u001b[1;33m\u001b[0m\u001b[0m\n\u001b[0;32m      4\u001b[0m     \u001b[1;32mfor\u001b[0m \u001b[0mi\u001b[0m \u001b[1;32min\u001b[0m \u001b[0mg\u001b[0m\u001b[1;33m.\u001b[0m\u001b[0mroots\u001b[0m\u001b[1;33m(\u001b[0m\u001b[0mscale\u001b[0m \u001b[1;33m=\u001b[0m \u001b[1;36m1\u001b[0m\u001b[1;33m)\u001b[0m\u001b[1;33m:\u001b[0m\u001b[1;33m\u001b[0m\u001b[0m\n\u001b[1;32m----> 5\u001b[1;33m         \u001b[0my\u001b[0m \u001b[1;33m=\u001b[0m \u001b[0mlen\u001b[0m\u001b[1;33m(\u001b[0m\u001b[1;33m[\u001b[0m\u001b[0mphytomer\u001b[0m\u001b[1;33m.\u001b[0m\u001b[0mget\u001b[0m\u001b[1;33m(\u001b[0m\u001b[0mv\u001b[0m\u001b[1;33m,\u001b[0m\u001b[1;36m0\u001b[0m\u001b[1;33m)\u001b[0m \u001b[1;32mfor\u001b[0m \u001b[0mv\u001b[0m \u001b[1;32min\u001b[0m \u001b[0mg\u001b[0m\u001b[1;33m.\u001b[0m\u001b[0mDescendants\u001b[0m\u001b[1;33m(\u001b[0m\u001b[0mi\u001b[0m\u001b[1;33m)\u001b[0m\u001b[1;33m==\u001b[0m\u001b[1;34m'P'\u001b[0m\u001b[1;33m]\u001b[0m\u001b[1;33m)\u001b[0m\u001b[1;33m\u001b[0m\u001b[0m\n\u001b[0m\u001b[0;32m      6\u001b[0m         \u001b[0mx\u001b[0m\u001b[1;33m.\u001b[0m\u001b[0mappend\u001b[0m\u001b[1;33m(\u001b[0m\u001b[0my\u001b[0m\u001b[1;33m)\u001b[0m\u001b[1;33m\u001b[0m\u001b[0m\n\u001b[0;32m      7\u001b[0m     \u001b[1;32mreturn\u001b[0m \u001b[0mx\u001b[0m\u001b[1;33m\u001b[0m\u001b[0m\n",
      "\u001b[1;31mTypeError\u001b[0m: 'bool' object is not iterable"
     ]
    }
   ],
   "source": [
    "exportlist('Gariguette', file_Gar, 'nb_phyto', nb_phytomer(g_Gar))\n",
    "exportlist('Cir107', file_Cir107, 'nb_phyto', nb_phytomer(g_Cir107))\n",
    "exportlist('Darselect', file_Darselect, 'nb_phyto', nb_phytomer(g_Dar))\n"
   ]
  },
  {
   "cell_type": "code",
   "execution_count": 144,
   "metadata": {},
   "outputs": [
    {
     "data": {
      "text/plain": [
       "''"
      ]
     },
     "execution_count": 144,
     "metadata": {},
     "output_type": "execute_result"
    }
   ],
   "source": [
    "g_Gar.Label('Phytomer')"
   ]
  },
  {
   "cell_type": "code",
   "execution_count": null,
   "metadata": {},
   "outputs": [],
   "source": []
  }
 ],
 "metadata": {
  "kernelspec": {
   "display_name": "IPython (Python 2)",
   "language": "python",
   "name": "python2"
  },
  "language_info": {
   "codemirror_mode": {
    "name": "ipython",
    "version": 2
   },
   "file_extension": ".py",
   "mimetype": "text/x-python",
   "name": "python",
   "nbconvert_exporter": "python",
   "pygments_lexer": "ipython2",
   "version": "2.7.14"
  }
 },
 "nbformat": 4,
 "nbformat_minor": 1
}
