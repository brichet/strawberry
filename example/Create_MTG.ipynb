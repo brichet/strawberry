{
 "cells": [
  {
   "cell_type": "code",
   "execution_count": 1,
   "metadata": {},
   "outputs": [],
   "source": [
    "from openalea.mtg import MTG"
   ]
  },
  {
   "cell_type": "markdown",
   "metadata": {},
   "source": [
    "|Code varname|Invenio varname|\n",
    "|---|---|\n",
    "|Experiment_name\tSTRING||\t\t\t\t\t\t\t\t\t\t\n",
    "|Sample_date\tDD/MM/YYYY|Date prelevement|\t\t\t\t\t\t\t\t\n",
    "|Architecture_date\tDD/MM/YYYY||\t\t\t\t\t\t\t\t\t\t\t\t\t\n",
    "|Genotype\tSTRING |Lot|\t\t\t\t\t\t\t\t\t\t\n",
    "|Modality\tSTRING||\t\t\t\t\t\t\t\t\t\t\t\n",
    "|Plant_ID\tINT|plant|\t\t\t\t\t\t\t\t\t\t\t\n",
    "|Stade\tSTRING|Stade HT pour l'inflorence, stade 19 à I pour les buds|\n",
    "|Foliar_type\tSTRING # Cotyledon, Unifoliate, Trifoliate, Trifoliate non developped, primordia foliar\t\n",
    "|DBI\tREAL # mm Collar diameter| Diamètre|\n",
    "|INFLOLG\tREAL # mm Inflorescence length| Hauteur HT|\n",
    "|LFTLG_RIGHT\tREAL # mm Right leaflet length|LG|\n",
    "|LFTLG_CENTRAL\tREAL # mm Central leaflet length|LS|\n",
    "|LFTLG_LEFT\tREAL # mm Left leaflet length||\n",
    "|LFTWD_RIGHT\tREAL # mm Right leaflet width||\n",
    "|LFTWD_CENTRAL\tREAL # mm Central leaflet width||\n",
    "|LFTWD_LEFT\tREAL # mm Left leaflet width||\n",
    "|LFTAR_RIGHT\tREAL # mm2 Right Leaflet area||\n",
    "|LFTAR_CENTRAL\tREAL # mm2 Central Leaflet area||\n",
    "|LFTAR_LEFT\tREAL # mm2 Left Leaflet area||\n",
    "|FLWRNUMBER\tINT # Total flower number||\n",
    "|FLWRNUMBER_OPEN\tINT # Total opened Flower number||\n",
    "|FLWRNUMBER_ABORTED\tINT # Total aborted Flower number||\n",
    "|FLWRNUMBER_CLOSED\tINT # Total closed flower number||\n"
   ]
  },
  {
   "cell_type": "code",
   "execution_count": 2,
   "metadata": {},
   "outputs": [],
   "source": [
    "\n",
    "def main_crown(\n",
    "    experimental_name=\"\",\n",
    "    sample_date=\"2014/12/10\",\n",
    "    genotype=\"Ciflorette\",\n",
    "    plant_id=1,\n",
    "    nb_old_leaf=2,\n",
    "    nb_develop_leaf=7,\n",
    "    nb_reduce_leaf=2,\n",
    "    nb_hide_leaf=2,\n",
    "    Petiol_lenght=10.5,\n",
    "    LS=9.3,\n",
    "    LG=7.1,\n",
    "    Diameter=27.1, \n",
    "    stage= \"89\",\n",
    "    nb_flowers=0,\n",
    "    nb_open_flower=0):\n",
    "    \n",
    "    g = MTG()\n",
    "    plant_id = g.add_component(g.root, \n",
    "                               label='P',\n",
    "                               Experimental_name=experimental_name,\n",
    "                               Genotype=genotype,\n",
    "                               Plant_ID=plant_id,\n",
    "                               date=sample_date)\n",
    "    trunk= g.add_component(plant_id, label=\"T\",DBI=Diameter)\n",
    "\n",
    "    nb_leaf= nb_old_leaf + nb_develop_leaf -1\n",
    "    nb_hide_leaf=nb_reduce_leaf + nb_hide_leaf\n",
    "    \n",
    "    leaf=g.add_component(trunk,label=\"F\")\n",
    "\n",
    "    for i in range(nb_leaf-1):\n",
    "        leaf=g.add_child(leaf,label=\"F\",edge_type=\"<\")\n",
    "    \n",
    "    leaf=g.add_child(leaf,label=\"F\",edge_type=\"<\",LFTLG_RIGHT=LG,LFTLG_CENTRAL=LS,PETLG=Petiol_lenght)\n",
    "        \n",
    "    for i in range(nb_leaf,nb_leaf+nb_hide_leaf):\n",
    "        leaf=g.add_child(leaf,label=\"f\",edge_type=\"<\")\n",
    "    \n",
    "    if  stage in (\"17\",\"18\",\"19\"):\n",
    "        inflo = g.add_child(leaf,label=\"bt\",edge_type=\"<\",Stade=stage)\n",
    "    elif  stage in (\"A\",\"B\",\"C\",\"D\",\"E\",\"F\",\"G\",\"H\"):\n",
    "        inflo = g.add_child(leaf,label=\"ht\",edge_type=\"<\",Stade=stage)\n",
    "    else:\n",
    "        inflo = g.add_child(leaf,label=\"HT\",edge_type=\"<\",Stade=stage,)\n",
    "\n",
    "    return g"
   ]
  },
  {
   "cell_type": "code",
   "execution_count": 3,
   "metadata": {},
   "outputs": [],
   "source": [
    "def branch_crown(g,\n",
    "                 vid,\n",
    "                 nb_leaf=2,\n",
    "                nb_hide_leaf=3,\n",
    "                stage=\"17\"):\n",
    "    vid,branch=g.add_child_and_complex(vid,label=\"F\",edge_type=\"+\")\n",
    "    g.node(branch).label='A'\n",
    "    g.node(branch).edge_type='+'\n",
    "    \n",
    "    for i in range(nb_leaf-1):\n",
    "        vid=g.add_child(vid,label='F', edge_type='<')\n",
    "    \n",
    "    for i in range (nb_hide_leaf):\n",
    "        vid=g.add_child(vid,label='f', edge_type='<')\n",
    "    \n",
    "    if  stage in (\"17\",\"18\",\"19\"):\n",
    "        inflo = g.add_child(vid,label=\"bt\",edge_type=\"<\",Stade=stage)\n",
    "    elif  stage in (\"A\",\"B\",\"C\",\"D\",\"E\",\"F\",\"G\",\"H\"):\n",
    "        inflo = g.add_child(vid,label=\"ht\",edge_type=\"<\",Stade=stage)\n",
    "    else:\n",
    "        inflo = g.add_child(vid,label=\"HT\",edge_type=\"<\",Stade=stage)\n",
    "        \n",
    "    return g\n"
   ]
  },
  {
   "cell_type": "code",
   "execution_count": 4,
   "metadata": {},
   "outputs": [],
   "source": [
    "def bud(g,vids,stage='17'):\n",
    "\n",
    "    for vid in vids:\n",
    "        vid,bud=g.add_child_and_complex(vid,label=\"bt\",edge_type=\"+\",Stade=stage)\n",
    "        g.node(bud).label='A'\n",
    "        g.node(bud).edge_type='+'\n",
    "\n",
    "    return g\n",
    "    \n"
   ]
  },
  {
   "cell_type": "code",
   "execution_count": 5,
   "metadata": {},
   "outputs": [],
   "source": [
    "def stolon(g,vids):\n",
    "\n",
    "    for vid in vids:\n",
    "        vid,stolon=g.add_child_and_complex(vid,label=\"s\",edge_type=\"+\")\n",
    "        g.node(stolon).label='A'\n",
    "        g.node(stolon).edge_type='+'\n",
    "\n",
    "    return g\n",
    "    \n"
   ]
  },
  {
   "cell_type": "code",
   "execution_count": 6,
   "metadata": {},
   "outputs": [
    {
     "data": {
      "text/plain": [
       "<openalea.mtg.mtg.MTG at 0x20f4f70f400>"
      ]
     },
     "execution_count": 6,
     "metadata": {},
     "output_type": "execute_result"
    }
   ],
   "source": [
    "g=main_crown()\n",
    "bud(g,vids=[4,5,6])\n",
    "branch_crown(g,8)\n",
    "stolon(g,[15])"
   ]
  },
  {
   "cell_type": "code",
   "execution_count": 7,
   "metadata": {},
   "outputs": [
    {
     "data": {
      "text/plain": [
       "['edge_type',\n",
       " 'label',\n",
       " 'Experimental_name',\n",
       " 'Genotype',\n",
       " 'Plant_ID',\n",
       " 'date',\n",
       " 'DBI',\n",
       " 'LFTLG_RIGHT',\n",
       " 'LFTLG_CENTRAL',\n",
       " 'PETLG',\n",
       " 'Stade']"
      ]
     },
     "execution_count": 7,
     "metadata": {},
     "output_type": "execute_result"
    }
   ],
   "source": [
    "g.property_names()\n"
   ]
  },
  {
   "cell_type": "code",
   "execution_count": 71,
   "metadata": {},
   "outputs": [],
   "source": [
    "def get_leaf_base(g):\n",
    "    return [v for v in g.vertices() if g.label(v)=='F' and g.parent(v)==None]"
   ]
  },
  {
   "cell_type": "code",
   "execution_count": 72,
   "metadata": {},
   "outputs": [
    {
     "data": {
      "text/plain": [
       "[3]"
      ]
     },
     "execution_count": 72,
     "metadata": {},
     "output_type": "execute_result"
    }
   ],
   "source": [
    "get_leaf_base(g)"
   ]
  },
  {
   "cell_type": "code",
   "execution_count": 73,
   "metadata": {},
   "outputs": [
    {
     "data": {
      "text/plain": [
       "[4]"
      ]
     },
     "execution_count": 73,
     "metadata": {},
     "output_type": "execute_result"
    }
   ],
   "source": [
    "[v for v in g.vertices() if g.label(v)=='F' and g.parent(v)==get_leaf_base(g)[0]]"
   ]
  },
  {
   "cell_type": "code",
   "execution_count": null,
   "metadata": {},
   "outputs": [],
   "source": []
  },
  {
   "cell_type": "markdown",
   "metadata": {},
   "source": [
    "# Test pour Marie"
   ]
  },
  {
   "cell_type": "code",
   "execution_count": 15,
   "metadata": {},
   "outputs": [
    {
     "data": {
      "text/plain": [
       "<openalea.mtg.mtg.MTG at 0x20f508a00a0>"
      ]
     },
     "execution_count": 15,
     "metadata": {},
     "output_type": "execute_result"
    }
   ],
   "source": [
    "g=main_crown(nb_develop_leaf=8,nb_reduce_leaf=0,nb_hide_leaf=0,nb_old_leaf=0)\n",
    "bud(g,vids=[3])\n",
    "branch_crown(g,vid=4,nb_leaf=1,nb_hide_leaf=0)\n",
    "bud(g,vids=[15])\n",
    "branch_crown(g,vid=5,nb_leaf=2, nb_hide_leaf=0)\n",
    "bud(g,vids=[20,21])\n",
    "branch_crown(g,vid=6,nb_leaf=2, nb_hide_leaf=0,stage='I')\n",
    "bud(g,vids=[28])\n",
    "branch_crown(g,vid=29,nb_leaf=2, nb_hide_leaf=0,stage='I')\n",
    "bud(g,vids=[34])\n",
    "#branch_crown(g,vid=29,nb_leaf=2, nb_hide_leaf=0,stage='I')"
   ]
  },
  {
   "cell_type": "code",
   "execution_count": 16,
   "metadata": {},
   "outputs": [
    {
     "name": "stdout",
     "output_type": "stream",
     "text": [
      "MTG : nb_vertices=39, nb_scales=4\n",
      "/P\t\t\t(id=1)\t\t\t\t\t\t\t\t\t\t\t\n",
      "^/T\t\t\t(id=2)\t\t\t\t\t\t\t\t\t\t\t\n",
      "^/F\t\t\t(id=3)\t\t\t\t\t\t\t\t\t\t\t\n",
      "\t+A\t\t\t(id=12)\t\t\t\t\t\t\t\t\t\t\n",
      "\t^/bt\t\t\t(id=13)\t\t\t\t\t\t\t\t\t\t\n",
      "^<F\t\t\t(id=4)\t\t\t\t\t\t\t\t\t\t\t\n",
      "\t+A\t\t\t(id=14)\t\t\t\t\t\t\t\t\t\t\n",
      "\t^/F\t\t\t(id=15)\t\t\t\t\t\t\t\t\t\t\n",
      "\t\t+A\t\t\t(id=17)\t\t\t\t\t\t\t\t\t\n",
      "\t\t^/bt\t\t\t(id=18)\t\t\t\t\t\t\t\t\t\n",
      "\t^<bt\t\t\t(id=16)\t\t\t\t\t\t\t\t\t\t\n",
      "^<F\t\t\t(id=5)\t\t\t\t\t\t\t\t\t\t\t\n",
      "\t+A\t\t\t(id=19)\t\t\t\t\t\t\t\t\t\t\n",
      "\t^/F\t\t\t(id=20)\t\t\t\t\t\t\t\t\t\t\n",
      "\t\t+A\t\t\t(id=23)\t\t\t\t\t\t\t\t\t\n",
      "\t\t^/bt\t\t\t(id=24)\t\t\t\t\t\t\t\t\t\n",
      "\t^<F\t\t\t(id=21)\t\t\t\t\t\t\t\t\t\t\n",
      "\t\t+A\t\t\t(id=25)\t\t\t\t\t\t\t\t\t\n",
      "\t\t^/bt\t\t\t(id=26)\t\t\t\t\t\t\t\t\t\n",
      "\t^<bt\t\t\t(id=22)\t\t\t\t\t\t\t\t\t\t\n",
      "^<F\t\t\t(id=6)\t\t\t\t\t\t\t\t\t\t\t\n",
      "\t+A\t\t\t(id=27)\t\t\t\t\t\t\t\t\t\t\n",
      "\t^/F\t\t\t(id=28)\t\t\t\t\t\t\t\t\t\t\n",
      "\t\t+A\t\t\t(id=31)\t\t\t\t\t\t\t\t\t\n",
      "\t\t^/bt\t\t\t(id=32)\t\t\t\t\t\t\t\t\t\n",
      "\t^<F\t\t\t(id=29)\t\t\t\t\t\t\t\t\t\t\n",
      "\t\t+A\t\t\t(id=33)\t\t\t\t\t\t\t\t\t\n",
      "\t\t^/F\t\t\t(id=34)\t\t\t\t\t\t\t\t\t\n",
      "\t\t\t+A\t\t\t(id=37)\t\t\t\t\t\t\t\t\n",
      "\t\t\t^/bt\t\t\t(id=38)\t\t\t\t\t\t\t\t\n",
      "\t\t^<F\t\t\t(id=35)\t\t\t\t\t\t\t\t\t\n",
      "\t\t^<HT\t\t\t(id=36)\t\t\t\t\t\t\t\t\t\n",
      "\t^<HT\t\t\t(id=30)\t\t\t\t\t\t\t\t\t\t\n",
      "^<F\t\t\t(id=7)\t\t\t\t\t\t\t\t\t\t\t\n",
      "^<F\t\t\t(id=8)\t\t\t\t\t\t\t\t\t\t\t\n",
      "^<F\t\t\t(id=9)\t\t\t\t\t\t\t\t\t\t\t\n",
      "^<F\t\t\t(id=10)\t\t\t\t\t\t\t\t\t\t\t\n",
      "^<HT\t\t\t(id=11)\t\t\t\t\t\t\t\t\t\t\t\n"
     ]
    }
   ],
   "source": [
    "g.display()"
   ]
  },
  {
   "cell_type": "code",
   "execution_count": 17,
   "metadata": {},
   "outputs": [
    {
     "ename": "ModuleNotFoundError",
     "evalue": "No module named 'openalea.core'",
     "output_type": "error",
     "traceback": [
      "\u001b[1;31m---------------------------------------------------------------------------\u001b[0m",
      "\u001b[1;31mModuleNotFoundError\u001b[0m                       Traceback (most recent call last)",
      "\u001b[1;32m~\\AppData\\Local\\Temp/ipykernel_1972/1407566535.py\u001b[0m in \u001b[0;36m<module>\u001b[1;34m\u001b[0m\n\u001b[1;32m----> 1\u001b[1;33m \u001b[1;32mimport\u001b[0m \u001b[0mopenalea\u001b[0m\u001b[1;33m.\u001b[0m\u001b[0mcore\u001b[0m\u001b[1;33m\u001b[0m\u001b[1;33m\u001b[0m\u001b[0m\n\u001b[0m",
      "\u001b[1;31mModuleNotFoundError\u001b[0m: No module named 'openalea.core'"
     ]
    }
   ],
   "source": [
    "import openalea.core"
   ]
  },
  {
   "cell_type": "code",
   "execution_count": 18,
   "metadata": {},
   "outputs": [
    {
     "data": {
      "text/plain": [
       "{'label': 'P',\n",
       " 'Experimental_name': '',\n",
       " 'Genotype': 'Ciflorette',\n",
       " 'Plant_ID': 1,\n",
       " 'date': '2014/12/10'}"
      ]
     },
     "execution_count": 18,
     "metadata": {},
     "output_type": "execute_result"
    }
   ],
   "source": [
    "g.get_vertex_property(1)"
   ]
  },
  {
   "cell_type": "code",
   "execution_count": 26,
   "metadata": {},
   "outputs": [
    {
     "ename": "TypeError",
     "evalue": "properties() takes 1 positional argument but 2 were given",
     "output_type": "error",
     "traceback": [
      "\u001b[1;31m---------------------------------------------------------------------------\u001b[0m",
      "\u001b[1;31mTypeError\u001b[0m                                 Traceback (most recent call last)",
      "\u001b[1;32m~\\AppData\\Local\\Temp/ipykernel_1972/740618970.py\u001b[0m in \u001b[0;36m<module>\u001b[1;34m\u001b[0m\n\u001b[0;32m      1\u001b[0m \u001b[0mvertices\u001b[0m\u001b[1;33m=\u001b[0m\u001b[0mg\u001b[0m\u001b[1;33m.\u001b[0m\u001b[0mvertices\u001b[0m\u001b[1;33m(\u001b[0m\u001b[1;33m)\u001b[0m\u001b[1;33m\u001b[0m\u001b[1;33m\u001b[0m\u001b[0m\n\u001b[0;32m      2\u001b[0m \u001b[0mg\u001b[0m\u001b[1;33m.\u001b[0m\u001b[0madd_property\u001b[0m\u001b[1;33m(\u001b[0m\u001b[1;34m\"index\"\u001b[0m\u001b[1;33m)\u001b[0m\u001b[1;33m\u001b[0m\u001b[1;33m\u001b[0m\u001b[0m\n\u001b[1;32m----> 3\u001b[1;33m \u001b[0mg\u001b[0m\u001b[1;33m.\u001b[0m\u001b[0mproperties\u001b[0m\u001b[1;33m(\u001b[0m\u001b[1;34m\"index\"\u001b[0m\u001b[1;33m)\u001b[0m\u001b[1;33m\u001b[0m\u001b[1;33m\u001b[0m\u001b[0m\n\u001b[0m",
      "\u001b[1;31mTypeError\u001b[0m: properties() takes 1 positional argument but 2 were given"
     ]
    }
   ],
   "source": [
    "vertices=g.vertices()\n",
    "g.add_property(\"index\") \n"
   ]
  },
  {
   "cell_type": "code",
   "execution_count": 27,
   "metadata": {},
   "outputs": [
    {
     "data": {
      "text/plain": [
       "{}"
      ]
     },
     "execution_count": 27,
     "metadata": {},
     "output_type": "execute_result"
    }
   ],
   "source": [
    "g.property(\"index\")= g.vertice"
   ]
  },
  {
   "cell_type": "code",
   "execution_count": null,
   "metadata": {},
   "outputs": [],
   "source": []
  },
  {
   "cell_type": "code",
   "execution_count": null,
   "metadata": {},
   "outputs": [],
   "source": []
  }
 ],
 "metadata": {
  "kernelspec": {
   "display_name": "Python 3 (ipykernel)",
   "language": "python",
   "name": "python3"
  },
  "language_info": {
   "codemirror_mode": {
    "name": "ipython",
    "version": 3
   },
   "file_extension": ".py",
   "mimetype": "text/x-python",
   "name": "python",
   "nbconvert_exporter": "python",
   "pygments_lexer": "ipython3",
   "version": "3.8.10"
  }
 },
 "nbformat": 4,
 "nbformat_minor": 2
}
