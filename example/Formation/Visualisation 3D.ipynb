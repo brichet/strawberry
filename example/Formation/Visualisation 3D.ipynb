{
 "cells": [
  {
   "cell_type": "code",
   "execution_count": null,
   "metadata": {},
   "outputs": [],
   "source": [
    "from collections import OrderedDict, defaultdict\n",
    "import pandas as pd\n",
    "from openalea.deploy.shared_data import shared_data\n",
    "from openalea.mtg import *\n",
    "from openalea.mtg.algo import orders\n",
    "from openalea.mtg import stat\n",
    "import openalea.plantgl.all as pgl\n",
    "from openalea.core import path\n",
    "from openalea.mtg import *\n",
    "from openalea.deploy.shared_data import shared_data\n",
    "import glob\n",
    "import openalea.strawberry\n",
    "from openalea.strawberry import Rules_production\n",
    "from openalea.strawberry import Visualization, visualisation2d\n",
    "from openalea.strawberry import analysis, variables\n",
    "from openalea.strawberry.reader import load_mtg\n"
   ]
  },
  {
   "cell_type": "markdown",
   "metadata": {},
   "source": [
    "$\\alpha^2$"
   ]
  },
  {
   "cell_type": "code",
   "execution_count": null,
   "metadata": {},
   "outputs": [],
   "source": [
    "%gui qt4\n",
    "\n",
    "files = shared_data(openalea.strawberry).glob('*.mtg')\n",
    "# print files\n",
    "\n",
    "genotypes = dict((f.namebase, f) for f in files)\n",
    "#print(genotypes.keys())\n",
    "\n",
    "DIPLOIDS = ['Sicile','Nils']\n",
    "OCTOPLOIDS = ['Gariguette','Darselect','Clery','Capriss','Cir107','Ciflorette','friendlyfruit', 'friendlyfruit_varieties']\n",
    "\n",
    "diploids = dict((k,f) for k,f in genotypes.items() if k in DIPLOIDS)\n",
    "# print(diploids)\n",
    "\n",
    "octoploids = dict((k,f) for k,f in genotypes.items() if k in OCTOPLOIDS)\n",
    "print(octoploids)"
   ]
  },
  {
   "cell_type": "markdown",
   "metadata": {},
   "source": [
    "# Premiere représentation, projet friendly fruit\n",
    "visualisé l'ensemble des plants architecturé en fonction de la modalité (Genotype)"
   ]
  },
  {
   "cell_type": "code",
   "execution_count": null,
   "metadata": {},
   "outputs": [],
   "source": [
    "%pdb on"
   ]
  },
  {
   "cell_type": "code",
   "execution_count": null,
   "metadata": {},
   "outputs": [],
   "source": [
    "#OCTOPLOIDS = ['Gariguette_NEW','Darselect_New','Clery_New','Capriss_New''Cir107_NEW','Ciflorette_New']\n",
    "#DIPLOIDS = ['Sicile_New','Nils_New.mtg']\n",
    "\n",
    "di_genotype = 'Sicile'\n",
    "oct_genotype = 'Gariguette'\n",
    "\n",
    "# gdi = MTG(diploids[di_genotype])\n",
    "# print('Diploid  : ', str(gdi))\n",
    "\n",
    "goct = load_mtg(octoploids[oct_genotype])\n",
    "\n",
    "print('Octoploid  : ', str(goct))"
   ]
  },
  {
   "cell_type": "code",
   "execution_count": null,
   "metadata": {},
   "outputs": [],
   "source": [
    "g=goct"
   ]
  },
  {
   "cell_type": "code",
   "execution_count": null,
   "metadata": {},
   "outputs": [],
   "source": [
    "Visualization.plot3d(g)"
   ]
  },
  {
   "cell_type": "markdown",
   "metadata": {},
   "source": [
    "- **Attention j'ai rajouter no_plant (nombre de plant par modalité) pour faire a peu près ce que je voulais cependant cela implique q'il faut le meme nombre de plant par modalité\n",
    "- dans cette fonction j'aimerai rajouter un argument qui me permet directement en relancant la fonction de faire apparaitre ou disparaitre les feuilles"
   ]
  },
  {
   "cell_type": "markdown",
   "metadata": {},
   "source": [
    "# Projet fraflo\n",
    "dans ce cas ci j'aimerai visualisé l'ensemble des plant architecture en fonction de la date"
   ]
  },
  {
   "cell_type": "code",
   "execution_count": null,
   "metadata": {},
   "outputs": [],
   "source": [
    "di_genotype = 'Sicile'\n",
    "oct_genotype = 'Gariguette'\n",
    "\n",
    "g = goct = load_mtg(octoploids[oct_genotype])"
   ]
  },
  {
   "cell_type": "markdown",
   "metadata": {},
   "source": [
    "**Idem que précedement**: cependant ici je voudrais que les plants la modalité corresponde au date"
   ]
  },
  {
   "cell_type": "markdown",
   "metadata": {},
   "source": [
    "## Combinaison de deux modalités\n",
    "Modalité 1 = Genotype\n",
    "Modalité 2 = Date\n",
    "Dans ce cas ci j'aimerai qu'il y ai un ecart entre chaque modalité 1"
   ]
  },
  {
   "cell_type": "code",
   "execution_count": null,
   "metadata": {},
   "outputs": [],
   "source": [
    "big_mtg = MTG()\n",
    "for fn in OCTOPLOIDS:\n",
    "    big_mtg = algo.union(big_mtg,load_mtg(octoploids[fn]))\n",
    "\n",
    "g_octo = big_mtg\n",
    "\n",
    "genotypes = set(g_octo.property(\"Genotype\").values())\n",
    "print genotypes"
   ]
  },
  {
   "cell_type": "code",
   "execution_count": null,
   "metadata": {},
   "outputs": [],
   "source": [
    "g=g_octo"
   ]
  },
  {
   "cell_type": "code",
   "execution_count": null,
   "metadata": {},
   "outputs": [],
   "source": [
    "scene = Visualization.plot3d(g, by=['Genotype', 'Sample_date'], hide_leaves=True)"
   ]
  },
  {
   "cell_type": "code",
   "execution_count": null,
   "metadata": {},
   "outputs": [],
   "source": []
  }
 ],
 "metadata": {
  "kernelspec": {
   "display_name": "Python 2",
   "language": "python",
   "name": "python2"
  },
  "language_info": {
   "codemirror_mode": {
    "name": "ipython",
    "version": 2
   },
   "file_extension": ".py",
   "mimetype": "text/x-python",
   "name": "python",
   "nbconvert_exporter": "python",
   "pygments_lexer": "ipython2",
   "version": "2.7.15"
  }
 },
 "nbformat": 4,
 "nbformat_minor": 2
}
