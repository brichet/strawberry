{
 "cells": [
  {
   "cell_type": "code",
   "execution_count": 10,
   "id": "3d8e178e",
   "metadata": {},
   "outputs": [],
   "source": [
    "from openalea.mtg.algo import split\n",
    "from oawidgets.mtg import plot\n",
    "from openalea.strawberry.import_mtgfile import import_mtgfile\n"
   ]
  },
  {
   "cell_type": "code",
   "execution_count": 11,
   "id": "956b21f8",
   "metadata": {},
   "outputs": [
    {
     "data": {
      "text/html": [
       "\n",
       "        <iframe\n",
       "            width=\"900px\"\n",
       "            height=\"800px\"\n",
       "            src=\"mtg.html\"\n",
       "            frameborder=\"0\"\n",
       "            allowfullscreen\n",
       "        ></iframe>\n",
       "        "
      ],
      "text/plain": [
       "<IPython.lib.display.IFrame at 0x7f3df773fd90>"
      ]
     },
     "execution_count": 11,
     "metadata": {},
     "output_type": "execute_result"
    }
   ],
   "source": [
    "g = import_mtgfile(filename= [\"Gariguette\"])\n",
    "\n",
    "straws = split(g)\n",
    "stade= straws[0].property(\"Stade\")\n",
    "plot(straws[0])"
   ]
  },
  {
   "cell_type": "code",
   "execution_count": null,
   "id": "897ea764",
   "metadata": {},
   "outputs": [],
   "source": []
  }
 ],
 "metadata": {
  "kernelspec": {
   "display_name": "Python 3",
   "language": "python",
   "name": "python3"
  },
  "language_info": {
   "codemirror_mode": {
    "name": "ipython",
    "version": 3
   },
   "file_extension": ".py",
   "mimetype": "text/x-python",
   "name": "python",
   "nbconvert_exporter": "python",
   "pygments_lexer": "ipython3",
   "version": "3.8.10"
  }
 },
 "nbformat": 4,
 "nbformat_minor": 5
}
