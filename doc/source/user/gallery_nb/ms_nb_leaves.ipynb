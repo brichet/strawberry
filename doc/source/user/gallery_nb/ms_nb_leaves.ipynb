{
 "cells": [
  {
   "cell_type": "code",
   "execution_count": 1,
   "id": "f3f5dfbb",
   "metadata": {},
   "outputs": [],
   "source": [
    "from openalea.strawberry.import_mtgfile import import_mtgfile\n",
    "from openalea.strawberry.analysis import extract_at_module_scale\n",
    "from openalea.strawberry.application.app_module_scale import plot_module_pointwisemean"
   ]
  },
  {
   "cell_type": "code",
   "execution_count": 3,
   "id": "6f8b8719",
   "metadata": {},
   "outputs": [
    {
     "data": {
      "application/vnd.jupyter.widget-view+json": {
       "model_id": "1b6eb679e9404be99e0bc8600de64ca0",
       "version_major": 2,
       "version_minor": 0
      },
      "text/plain": [
       "FigureWidget({\n",
       "    'data': [{'error_y': {'array': [1.8239228654598991, 1.0404784367454327,\n",
       "                   …"
      ]
     },
     "metadata": {},
     "output_type": "display_data"
    }
   ],
   "source": [
    "All_varieties = import_mtgfile(filename=[\"Gariguette\",\"Capriss\",\"Darselect\",\"Cir107\",\"Ciflorette\", \"Clery\"])\n",
    "\n",
    "All_varieties_extraction_at_module_scale = extract_at_module_scale(All_varieties)\n",
    "\n",
    "plot_module_pointwisemean(All_varieties_extraction_at_module_scale, \"nb_total_leaves\")"
   ]
  },
  {
   "cell_type": "code",
   "execution_count": null,
   "id": "75efc123",
   "metadata": {},
   "outputs": [],
   "source": []
  }
 ],
 "metadata": {
  "kernelspec": {
   "display_name": "Python 3",
   "language": "python",
   "name": "python3"
  },
  "language_info": {
   "codemirror_mode": {
    "name": "ipython",
    "version": 3
   },
   "file_extension": ".py",
   "mimetype": "text/x-python",
   "name": "python",
   "nbconvert_exporter": "python",
   "pygments_lexer": "ipython3",
   "version": "3.8.10"
  }
 },
 "nbformat": 4,
 "nbformat_minor": 5
}
