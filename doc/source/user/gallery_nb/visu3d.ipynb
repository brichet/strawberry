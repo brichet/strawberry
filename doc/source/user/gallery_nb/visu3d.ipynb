{
 "cells": [
  {
   "cell_type": "code",
   "execution_count": 5,
   "id": "497ecb9d",
   "metadata": {},
   "outputs": [],
   "source": [
    "from openalea.mtg.algo import orders\n",
    "from oawidgets.plantgl import PlantGL\n",
    "from openalea.strawberry.import_mtgfile import import_mtgfile\n",
    "from openalea.strawberry import visu3d"
   ]
  },
  {
   "cell_type": "code",
   "execution_count": 6,
   "id": "545ad057",
   "metadata": {},
   "outputs": [
    {
     "data": {
      "application/vnd.jupyter.widget-view+json": {
       "model_id": "3f2669cf243c42678b4b008c8ff15d7e",
       "version_major": 2,
       "version_minor": 0
      },
      "text/plain": [
       "Plot(antialias=3, axes=['x', 'y', 'z'], axes_helper=1.0, background_color=16777215, camera=[2, -3, 0.2, 0.0, 0…"
      ]
     },
     "metadata": {},
     "output_type": "display_data"
    }
   ],
   "source": [
    "Gariguette = import_mtgfile(filename= [\"Gariguette\"])\n",
    "Gariguette.properties()['order'] = orders(Gariguette) # This fonction are important it allows to add order properties to mtg\n",
    "\n",
    "scene=visu3d.plot3d(Gariguette,by=[\"Sample_date\"],hide_leaves=False,display=False)\n",
    "PlantGL(scene, group_by_color=True)"
   ]
  }
 ],
 "metadata": {
  "kernelspec": {
   "display_name": "Python 3",
   "language": "python",
   "name": "python3"
  },
  "language_info": {
   "codemirror_mode": {
    "name": "ipython",
    "version": 3
   },
   "file_extension": ".py",
   "mimetype": "text/x-python",
   "name": "python",
   "nbconvert_exporter": "python",
   "pygments_lexer": "ipython3",
   "version": "3.8.10"
  }
 },
 "nbformat": 4,
 "nbformat_minor": 5
}
