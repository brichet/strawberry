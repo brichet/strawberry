{
 "cells": [
  {
   "cell_type": "code",
   "execution_count": 1,
   "source": [
    "import ipyvuetify as v\n",
    "\n",
    "from traitlets import (Any, Bool, Dict, Int, Unicode, List)\n",
    "\n",
    "\n",
    "import openalea.strawberry.application.misc as misc\n",
    "import openalea.strawberry.application.app_home as home\n",
    "import openalea.strawberry.application.app_import_data as p1\n",
    "import openalea.strawberry.application.app_visualization as p2\n",
    "import openalea.strawberry.application.app_plant_scale as p3\n",
    "import openalea.strawberry.application.app_module_scale as p4\n",
    "import openalea.strawberry.application.app_node_scale as p5"
   ],
   "outputs": [
    {
     "output_type": "display_data",
     "data": {
      "text/html": [
       "        <script type=\"text/javascript\">\n",
       "        window.PlotlyConfig = {MathJaxConfig: 'local'};\n",
       "        if (window.MathJax) {MathJax.Hub.Config({SVG: {font: \"STIX-Web\"}});}\n",
       "        if (typeof require !== 'undefined') {\n",
       "        require.undef(\"plotly\");\n",
       "        requirejs.config({\n",
       "            paths: {\n",
       "                'plotly': ['https://cdn.plot.ly/plotly-latest.min']\n",
       "            }\n",
       "        });\n",
       "        require(['plotly'], function(Plotly) {\n",
       "            window._Plotly = Plotly;\n",
       "        });\n",
       "        }\n",
       "        </script>\n",
       "        "
      ]
     },
     "metadata": {}
    },
    {
     "output_type": "display_data",
     "data": {
      "text/html": [
       "        <script type=\"text/javascript\">\n",
       "        window.PlotlyConfig = {MathJaxConfig: 'local'};\n",
       "        if (window.MathJax) {MathJax.Hub.Config({SVG: {font: \"STIX-Web\"}});}\n",
       "        if (typeof require !== 'undefined') {\n",
       "        require.undef(\"plotly\");\n",
       "        requirejs.config({\n",
       "            paths: {\n",
       "                'plotly': ['https://cdn.plot.ly/plotly-latest.min']\n",
       "            }\n",
       "        });\n",
       "        require(['plotly'], function(Plotly) {\n",
       "            window._Plotly = Plotly;\n",
       "        });\n",
       "        }\n",
       "        </script>\n",
       "        "
      ]
     },
     "metadata": {}
    },
    {
     "output_type": "display_data",
     "data": {
      "text/html": [
       "        <script type=\"text/javascript\">\n",
       "        window.PlotlyConfig = {MathJaxConfig: 'local'};\n",
       "        if (window.MathJax) {MathJax.Hub.Config({SVG: {font: \"STIX-Web\"}});}\n",
       "        if (typeof require !== 'undefined') {\n",
       "        require.undef(\"plotly\");\n",
       "        requirejs.config({\n",
       "            paths: {\n",
       "                'plotly': ['https://cdn.plot.ly/plotly-latest.min']\n",
       "            }\n",
       "        });\n",
       "        require(['plotly'], function(Plotly) {\n",
       "            window._Plotly = Plotly;\n",
       "        });\n",
       "        }\n",
       "        </script>\n",
       "        "
      ]
     },
     "metadata": {}
    }
   ],
   "metadata": {}
  },
  {
   "cell_type": "markdown",
   "source": [
    "## Initialize global variable"
   ],
   "metadata": {}
  },
  {
   "cell_type": "code",
   "execution_count": 2,
   "source": [
    "misc.init_allmtg()"
   ],
   "outputs": [],
   "metadata": {}
  },
  {
   "cell_type": "markdown",
   "source": [
    "# Main Container"
   ],
   "metadata": {}
  },
  {
   "cell_type": "code",
   "execution_count": 3,
   "source": [
    "container_main = v.Container(\n",
    "    _metadata={'mount_id': 'content-main'}, \n",
    "    children=[\n",
    "        home.container_main\n",
    "    ]\n",
    ")\n",
    "# container_main"
   ],
   "outputs": [],
   "metadata": {
    "scrolled": false
   }
  },
  {
   "cell_type": "markdown",
   "source": [
    "# Navigation"
   ],
   "metadata": {}
  },
  {
   "cell_type": "code",
   "execution_count": 4,
   "source": [
    "# Navigation (menubar)\n",
    "components_map = {\n",
    "    'Home Page': home.container_main,\n",
    "    'Import MTG': p1.container_main,\n",
    "    'Visualization': p2.container_main,\n",
    "    'Plant Scale': p3.container_main,\n",
    "    'Module Scale': p4.container_main,\n",
    "    'Node Scale': p5.container_main,\n",
    "}\n",
    "\n",
    "py_items = [\n",
    "        { 'title': 'Home Page', 'icon': 'mdi-view-dashboard'},\n",
    "        { 'title': 'Import MTG', 'icon': 'mdi-view-dashboard'},\n",
    "        { 'title': 'Visualization', 'icon': 'mdi-image'},\n",
    "        { 'title': 'Plant Scale', 'icon': 'mdi-help-box'},\n",
    "        { 'title': 'Module Scale', 'icon': 'mdi-view-dashboard'},\n",
    "        { 'title': 'Node Scale', 'icon': 'mdi-image'},\n",
    "      ]\n",
    "      \n",
    "class MyNavigation(v.VuetifyTemplate):\n",
    "    items = List(py_items).tag(sync=True)\n",
    "    \n",
    "    template = Unicode('''  \n",
    "        <v-list\n",
    "          dense\n",
    "          nav\n",
    "        >\n",
    "          <v-list-item\n",
    "            v-for=\"item in items\"\n",
    "            :key=\"item.title\"\n",
    "            link\n",
    "            @click=\"item_click(item)\"\n",
    "          >\n",
    "            <v-list-item-icon>\n",
    "              <v-icon>{{ item.icon }}</v-icon>\n",
    "            </v-list-item-icon>\n",
    "  \n",
    "            <v-list-item-content>\n",
    "              <v-list-item-title>{{ item.title }}</v-list-item-title>\n",
    "            </v-list-item-content>\n",
    "          </v-list-item>\n",
    "        </v-list>\n",
    "    ''').tag(sync=True)\n",
    "    \n",
    "    def vue_item_click(self, data):\n",
    "        component = components_map[data['title']]\n",
    "        container_main.children = [component]\n",
    "\n",
    "navigation = MyNavigation()\n",
    "\n",
    "container_nav = v.Container(\n",
    "    _metadata={'mount_id': 'content-nav'}, \n",
    "    children=[\n",
    "        navigation\n",
    "    ]\n",
    ")\n",
    "container_nav"
   ],
   "outputs": [
    {
     "output_type": "display_data",
     "data": {
      "text/plain": [
       "Container(children=[MyNavigation(events=['item_click'], items=[{'title': 'Import MTG', 'icon': 'mdi-view-dashb…"
      ],
      "application/vnd.jupyter.widget-view+json": {
       "model_id": "c9cbb5ef33684116aba177ced33e750b",
       "version_major": 2,
       "version_minor": 0
      }
     },
     "metadata": {}
    }
   ],
   "metadata": {}
  },
  {
   "cell_type": "code",
   "execution_count": 5,
   "source": [
    "container_main"
   ],
   "outputs": [
    {
     "output_type": "display_data",
     "data": {
      "text/plain": [
       "Container(children=[Container(children=[Tabs(children=[Tab(children=['Waffle']), TabItem(children=[Row(childre…"
      ],
      "application/vnd.jupyter.widget-view+json": {
       "model_id": "b52bd48577de4582b570f20f9f8f7328",
       "version_major": 2,
       "version_minor": 0
      }
     },
     "metadata": {}
    },
    {
     "output_type": "stream",
     "name": "stdout",
     "text": [
      "== Line 20: A\tA\t+\t?\t\t\t\t\t\t\t\t\t\t\t\t\t\t\t\t\t\t\t\t\t\t\t\t\t\t\t\t\t\t\t\t\t\n",
      "Unknown right symbols <filter object at 0x7f0b7be2f310>.\n",
      "== Line 21: A\tA\t<\t1\t\t\t\t\t\t\t\t\t\t\t\t\t\t\t\t\t\t\t\t\t\t\t\t\t\t\t\t\t\t\t\t\t\n",
      "Unknown right symbols <filter object at 0x7f0b7be2f4c0>.\n",
      "== Line 22: T\tT\t+\t?\t\t\t\t\t\t\t\t\t\t\t\t\t\t\t\t\t\t\t\t\t\t\t\t\t\t\t\t\t\t\t\t\t\n",
      "Unknown right symbols <filter object at 0x7f0b7be2f8e0>.\n",
      "== Line 23: T\tT\t<\t1\t\t\t\t\t\t\t\t\t\t\t\t\t\t\t\t\t\t\t\t\t\t\t\t\t\t\t\t\t\t\t\t\t\n",
      "Unknown right symbols <filter object at 0x7f0b7be2f1c0>.\n"
     ]
    }
   ],
   "metadata": {
    "scrolled": false
   }
  },
  {
   "cell_type": "code",
   "execution_count": null,
   "source": [],
   "outputs": [],
   "metadata": {}
  }
 ],
 "metadata": {
  "kernelspec": {
   "display_name": "Python 3",
   "language": "python",
   "name": "python3"
  },
  "language_info": {
   "codemirror_mode": {
    "name": "ipython",
    "version": 3
   },
   "file_extension": ".py",
   "mimetype": "text/x-python",
   "name": "python",
   "nbconvert_exporter": "python",
   "pygments_lexer": "ipython3",
   "version": "3.8.10"
  }
 },
 "nbformat": 4,
 "nbformat_minor": 5
}