{
 "cells": [
  {
   "cell_type": "code",
   "execution_count": 1,
   "id": "65c07d09",
   "metadata": {},
   "outputs": [
    {
     "data": {
      "text/html": [
       "        <script type=\"text/javascript\">\n",
       "        window.PlotlyConfig = {MathJaxConfig: 'local'};\n",
       "        if (window.MathJax) {MathJax.Hub.Config({SVG: {font: \"STIX-Web\"}});}\n",
       "        if (typeof require !== 'undefined') {\n",
       "        require.undef(\"plotly\");\n",
       "        requirejs.config({\n",
       "            paths: {\n",
       "                'plotly': ['https://cdn.plot.ly/plotly-latest.min']\n",
       "            }\n",
       "        });\n",
       "        require(['plotly'], function(Plotly) {\n",
       "            window._Plotly = Plotly;\n",
       "        });\n",
       "        }\n",
       "        </script>\n",
       "        "
      ]
     },
     "metadata": {},
     "output_type": "display_data"
    },
    {
     "data": {
      "text/html": [
       "        <script type=\"text/javascript\">\n",
       "        window.PlotlyConfig = {MathJaxConfig: 'local'};\n",
       "        if (window.MathJax) {MathJax.Hub.Config({SVG: {font: \"STIX-Web\"}});}\n",
       "        if (typeof require !== 'undefined') {\n",
       "        require.undef(\"plotly\");\n",
       "        requirejs.config({\n",
       "            paths: {\n",
       "                'plotly': ['https://cdn.plot.ly/plotly-latest.min']\n",
       "            }\n",
       "        });\n",
       "        require(['plotly'], function(Plotly) {\n",
       "            window._Plotly = Plotly;\n",
       "        });\n",
       "        }\n",
       "        </script>\n",
       "        "
      ]
     },
     "metadata": {},
     "output_type": "display_data"
    },
    {
     "data": {
      "text/html": [
       "        <script type=\"text/javascript\">\n",
       "        window.PlotlyConfig = {MathJaxConfig: 'local'};\n",
       "        if (window.MathJax) {MathJax.Hub.Config({SVG: {font: \"STIX-Web\"}});}\n",
       "        if (typeof require !== 'undefined') {\n",
       "        require.undef(\"plotly\");\n",
       "        requirejs.config({\n",
       "            paths: {\n",
       "                'plotly': ['https://cdn.plot.ly/plotly-latest.min']\n",
       "            }\n",
       "        });\n",
       "        require(['plotly'], function(Plotly) {\n",
       "            window._Plotly = Plotly;\n",
       "        });\n",
       "        }\n",
       "        </script>\n",
       "        "
      ]
     },
     "metadata": {},
     "output_type": "display_data"
    }
   ],
   "source": [
    "import ipyvuetify as v\n",
    "\n",
    "from traitlets import (Any, Bool, Dict, Int, Unicode, List)\n",
    "\n",
    "\n",
    "import openalea.strawberry.application.misc as misc\n",
    "import openalea.strawberry.application.app_import_data as p1\n",
    "import openalea.strawberry.application.app_visualization as p2\n",
    "import openalea.strawberry.application.app_plant_scale as p3\n",
    "import openalea.strawberry.application.app_module_scale as p4\n",
    "import openalea.strawberry.application.app_node_scale as p5"
   ]
  },
  {
   "cell_type": "markdown",
   "id": "00e5a25e",
   "metadata": {},
   "source": [
    "## Initialize global variable"
   ]
  },
  {
   "cell_type": "code",
   "execution_count": 2,
   "id": "8a690620",
   "metadata": {},
   "outputs": [],
   "source": [
    "misc.init_allmtg()"
   ]
  },
  {
   "cell_type": "markdown",
   "id": "bc1fad38",
   "metadata": {},
   "source": [
    "# Main Container"
   ]
  },
  {
   "cell_type": "code",
   "execution_count": 3,
   "id": "0473192d",
   "metadata": {
    "scrolled": false
   },
   "outputs": [],
   "source": [
    "container_main = v.Container(\n",
    "    _metadata={'mount_id': 'content-main'}, \n",
    "    children=[\n",
    "        p1.p1_container_main\n",
    "    ]\n",
    ")\n",
    "# container_main"
   ]
  },
  {
   "cell_type": "markdown",
   "id": "9a082dee",
   "metadata": {},
   "source": [
    "# Navigation"
   ]
  },
  {
   "cell_type": "code",
   "execution_count": 5,
   "id": "a90ad25d",
   "metadata": {},
   "outputs": [
    {
     "data": {
      "application/vnd.jupyter.widget-view+json": {
       "model_id": "375bc513299e4bd1861d4d6d1307b795",
       "version_major": 2,
       "version_minor": 0
      },
      "text/plain": [
       "Container(children=[MyNavigation(events=['item_click'], items=[{'title': 'Import MTG', 'icon': 'mdi-view-dashb…"
      ]
     },
     "metadata": {},
     "output_type": "display_data"
    }
   ],
   "source": [
    "# Navigation (menubar)\n",
    "components_map = {\n",
    "    'Import MTG': p1.p1_container_main,\n",
    "    'Visualization': p2.p2_container_main,\n",
    "    'Plant Scale': p3.p3_container_main,\n",
    "    'Module Scale': p4.p4_container_main,\n",
    "    'Node Scale': p5.p5_container_main,\n",
    "}\n",
    "\n",
    "py_items = [\n",
    "        { 'title': 'Import MTG', 'icon': 'mdi-view-dashboard'},\n",
    "        { 'title': 'Visualization', 'icon': 'mdi-image'},\n",
    "        { 'title': 'Plant Scale', 'icon': 'mdi-help-box'},\n",
    "        { 'title': 'Module Scale', 'icon': 'mdi-view-dashboard'},\n",
    "        { 'title': 'Node Scale', 'icon': 'mdi-image'},\n",
    "      ]\n",
    "      \n",
    "class MyNavigation(v.VuetifyTemplate):\n",
    "    items = List(py_items).tag(sync=True)\n",
    "    \n",
    "    template = Unicode('''  \n",
    "        <v-list\n",
    "          dense\n",
    "          nav\n",
    "        >\n",
    "          <v-list-item\n",
    "            v-for=\"item in items\"\n",
    "            :key=\"item.title\"\n",
    "            link\n",
    "            @click=\"item_click(item)\"\n",
    "          >\n",
    "            <v-list-item-icon>\n",
    "              <v-icon>{{ item.icon }}</v-icon>\n",
    "            </v-list-item-icon>\n",
    "  \n",
    "            <v-list-item-content>\n",
    "              <v-list-item-title>{{ item.title }}</v-list-item-title>\n",
    "            </v-list-item-content>\n",
    "          </v-list-item>\n",
    "        </v-list>\n",
    "    ''').tag(sync=True)\n",
    "    \n",
    "    def vue_item_click(self, data):\n",
    "        component = components_map[data['title']]\n",
    "        container_main.children = [component]\n",
    "\n",
    "navigation = MyNavigation()\n",
    "\n",
    "container_nav = v.Container(\n",
    "    _metadata={'mount_id': 'content-nav'}, \n",
    "    children=[\n",
    "        navigation\n",
    "    ]\n",
    ")\n",
    "# container_nav"
   ]
  },
  {
   "cell_type": "code",
   "execution_count": null,
   "id": "e884deaf",
   "metadata": {},
   "outputs": [],
   "source": []
  }
 ],
 "metadata": {
  "kernelspec": {
   "display_name": "Python 3",
   "language": "python",
   "name": "python3"
  },
  "language_info": {
   "codemirror_mode": {
    "name": "ipython",
    "version": 3
   },
   "file_extension": ".py",
   "mimetype": "text/x-python",
   "name": "python",
   "nbconvert_exporter": "python",
   "pygments_lexer": "ipython3",
   "version": "3.7.9"
  }
 },
 "nbformat": 4,
 "nbformat_minor": 5
}